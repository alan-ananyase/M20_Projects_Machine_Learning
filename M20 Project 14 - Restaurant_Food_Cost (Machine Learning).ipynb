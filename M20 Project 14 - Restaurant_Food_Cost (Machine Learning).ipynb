{
 "cells": [
  {
   "cell_type": "code",
   "execution_count": 1,
   "metadata": {},
   "outputs": [],
   "source": [
    "# Basic Libraries\n",
    "import numpy as np\n",
    "import pandas as pd\n",
    "import warnings\n",
    "warnings.filterwarnings('ignore')\n",
    "\n",
    "# Data Visualization Libraries\n",
    "import seaborn as sns\n",
    "import matplotlib.pyplot as plt\n",
    "\n",
    "# Check for Outliers and Skewness(0 > log transform; 0.5 > square root transform)\n",
    "from scipy.stats import zscore, boxcox\n",
    "\n",
    "# Data Pre-processing\n",
    "from sklearn.preprocessing import LabelEncoder, StandardScaler, LabelBinarizer\n",
    "from sklearn.impute import SimpleImputer\n",
    "from sklearn.decomposition import PCA\n",
    "\n",
    "# Regular Expression\n",
    "import re\n",
    "\n",
    "# Model Training and Validation\n",
    "from sklearn.model_selection import train_test_split, GridSearchCV, cross_val_score\n",
    "from sklearn.metrics import mean_squared_error, r2_score, mean_absolute_error\n",
    "\n",
    "#MultiOutput Regressor Model\n",
    "from sklearn.multioutput import MultiOutputRegressor\n",
    "\n",
    "# ML Algorithms\n",
    "from sklearn.linear_model import LinearRegression, Lasso, Ridge, ElasticNet\n",
    "from sklearn.svm import SVR\n",
    "from sklearn.neighbors import KNeighborsRegressor\n",
    "from sklearn.tree import DecisionTreeRegressor\n",
    "from sklearn.ensemble import RandomForestRegressor\n",
    "\n",
    "# Model Export\n",
    "import joblib\n",
    "from joblib import dump #from joblib import load > to load .pkl file"
   ]
  },
  {
   "cell_type": "code",
   "execution_count": 2,
   "metadata": {},
   "outputs": [
    {
     "name": "stdout",
     "output_type": "stream",
     "text": [
      "Training Set Shape :: (12690, 9) \n",
      "Testing Set Shape :: (4231, 8)\n"
     ]
    }
   ],
   "source": [
    "df_train = pd.read_excel('Restaurant_Food_Cost_Train.xlsx')\n",
    "df_test = pd.read_excel('Restaurant_Food_Cost_Test.xlsx')\n",
    "print('Training Set Shape ::', df_train.shape, '\\nTesting Set Shape ::', df_test.shape)"
   ]
  },
  {
   "cell_type": "code",
   "execution_count": 3,
   "metadata": {},
   "outputs": [],
   "source": [
    "df_train.to_csv('Restaurant_Food_Cost_train.csv')\n",
    "df_test.to_csv('Restaurant_Food_Cost_test.csv')"
   ]
  },
  {
   "cell_type": "code",
   "execution_count": 4,
   "metadata": {},
   "outputs": [
    {
     "data": {
      "text/html": [
       "<div>\n",
       "<style scoped>\n",
       "    .dataframe tbody tr th:only-of-type {\n",
       "        vertical-align: middle;\n",
       "    }\n",
       "\n",
       "    .dataframe tbody tr th {\n",
       "        vertical-align: top;\n",
       "    }\n",
       "\n",
       "    .dataframe thead th {\n",
       "        text-align: right;\n",
       "    }\n",
       "</style>\n",
       "<table border=\"1\" class=\"dataframe\">\n",
       "  <thead>\n",
       "    <tr style=\"text-align: right;\">\n",
       "      <th></th>\n",
       "      <th>CITY</th>\n",
       "      <th>COST</th>\n",
       "      <th>CUISINES</th>\n",
       "      <th>LOCALITY</th>\n",
       "      <th>RATING</th>\n",
       "      <th>RESTAURANT_ID</th>\n",
       "      <th>TIME</th>\n",
       "      <th>TITLE</th>\n",
       "      <th>VOTES</th>\n",
       "    </tr>\n",
       "  </thead>\n",
       "  <tbody>\n",
       "    <tr>\n",
       "      <td>0</td>\n",
       "      <td>Thane</td>\n",
       "      <td>1200.0</td>\n",
       "      <td>Malwani, Goan, North Indian</td>\n",
       "      <td>Dombivali East</td>\n",
       "      <td>3.6</td>\n",
       "      <td>9438</td>\n",
       "      <td>11am – 4pm, 7:30pm – 11:30pm (Mon-Sun)</td>\n",
       "      <td>CASUAL DINING</td>\n",
       "      <td>49 votes</td>\n",
       "    </tr>\n",
       "    <tr>\n",
       "      <td>1</td>\n",
       "      <td>Chennai</td>\n",
       "      <td>1500.0</td>\n",
       "      <td>Asian, Modern Indian, Japanese</td>\n",
       "      <td>Ramapuram</td>\n",
       "      <td>4.2</td>\n",
       "      <td>13198</td>\n",
       "      <td>6pm – 11pm (Mon-Sun)</td>\n",
       "      <td>CASUAL DINING,BAR</td>\n",
       "      <td>30 votes</td>\n",
       "    </tr>\n",
       "    <tr>\n",
       "      <td>2</td>\n",
       "      <td>Chennai</td>\n",
       "      <td>800.0</td>\n",
       "      <td>North Indian, Chinese, Biryani, Hyderabadi</td>\n",
       "      <td>Saligramam</td>\n",
       "      <td>3.8</td>\n",
       "      <td>10915</td>\n",
       "      <td>11am – 3:30pm, 7pm – 11pm (Mon-Sun)</td>\n",
       "      <td>CASUAL DINING</td>\n",
       "      <td>221 votes</td>\n",
       "    </tr>\n",
       "    <tr>\n",
       "      <td>3</td>\n",
       "      <td>Mumbai</td>\n",
       "      <td>800.0</td>\n",
       "      <td>Tibetan, Chinese</td>\n",
       "      <td>Bandra West</td>\n",
       "      <td>4.1</td>\n",
       "      <td>6346</td>\n",
       "      <td>11:30am – 1am (Mon-Sun)</td>\n",
       "      <td>QUICK BITES</td>\n",
       "      <td>24 votes</td>\n",
       "    </tr>\n",
       "    <tr>\n",
       "      <td>4</td>\n",
       "      <td>Mumbai</td>\n",
       "      <td>300.0</td>\n",
       "      <td>Desserts</td>\n",
       "      <td>Lower Parel</td>\n",
       "      <td>3.8</td>\n",
       "      <td>15387</td>\n",
       "      <td>11am – 1am (Mon-Sun)</td>\n",
       "      <td>DESSERT PARLOR</td>\n",
       "      <td>165 votes</td>\n",
       "    </tr>\n",
       "    <tr>\n",
       "      <td>5</td>\n",
       "      <td>Mumbai</td>\n",
       "      <td>800.0</td>\n",
       "      <td>North Indian, Chinese, Seafood, Biryani</td>\n",
       "      <td>Vile Parle West</td>\n",
       "      <td>4.0</td>\n",
       "      <td>5618</td>\n",
       "      <td>12noon – 12:30AM (Mon-Sun)</td>\n",
       "      <td>CASUAL DINING</td>\n",
       "      <td>550 votes</td>\n",
       "    </tr>\n",
       "    <tr>\n",
       "      <td>6</td>\n",
       "      <td>Bangalore</td>\n",
       "      <td>600.0</td>\n",
       "      <td>Cafe, Chinese, Pizza, North Indian, Burger</td>\n",
       "      <td>Koramangala 6th Block</td>\n",
       "      <td>4.1</td>\n",
       "      <td>4383</td>\n",
       "      <td>12noon – 11:30pm (Mon, Tue, Thu, Fri, Sat, Sun...</td>\n",
       "      <td>CAFÉ</td>\n",
       "      <td>509 votes</td>\n",
       "    </tr>\n",
       "    <tr>\n",
       "      <td>7</td>\n",
       "      <td>Gurgaon</td>\n",
       "      <td>1600.0</td>\n",
       "      <td>Bar Food</td>\n",
       "      <td>Sector 29</td>\n",
       "      <td>4.3</td>\n",
       "      <td>1249</td>\n",
       "      <td>1pm – 1am (Mon-Sun)</td>\n",
       "      <td>MICROBREWERY</td>\n",
       "      <td>1612 votes</td>\n",
       "    </tr>\n",
       "  </tbody>\n",
       "</table>\n",
       "</div>"
      ],
      "text/plain": [
       "        CITY    COST                                    CUISINES  \\\n",
       "0      Thane  1200.0                 Malwani, Goan, North Indian   \n",
       "1    Chennai  1500.0              Asian, Modern Indian, Japanese   \n",
       "2    Chennai   800.0  North Indian, Chinese, Biryani, Hyderabadi   \n",
       "3     Mumbai   800.0                            Tibetan, Chinese   \n",
       "4     Mumbai   300.0                                    Desserts   \n",
       "5     Mumbai   800.0     North Indian, Chinese, Seafood, Biryani   \n",
       "6  Bangalore   600.0  Cafe, Chinese, Pizza, North Indian, Burger   \n",
       "7    Gurgaon  1600.0                                    Bar Food   \n",
       "\n",
       "                LOCALITY RATING  RESTAURANT_ID  \\\n",
       "0         Dombivali East    3.6           9438   \n",
       "1              Ramapuram    4.2          13198   \n",
       "2             Saligramam    3.8          10915   \n",
       "3            Bandra West    4.1           6346   \n",
       "4            Lower Parel    3.8          15387   \n",
       "5        Vile Parle West    4.0           5618   \n",
       "6  Koramangala 6th Block    4.1           4383   \n",
       "7              Sector 29    4.3           1249   \n",
       "\n",
       "                                                TIME              TITLE  \\\n",
       "0             11am – 4pm, 7:30pm – 11:30pm (Mon-Sun)      CASUAL DINING   \n",
       "1                               6pm – 11pm (Mon-Sun)  CASUAL DINING,BAR   \n",
       "2                11am – 3:30pm, 7pm – 11pm (Mon-Sun)      CASUAL DINING   \n",
       "3                            11:30am – 1am (Mon-Sun)        QUICK BITES   \n",
       "4                               11am – 1am (Mon-Sun)     DESSERT PARLOR   \n",
       "5                         12noon – 12:30AM (Mon-Sun)      CASUAL DINING   \n",
       "6  12noon – 11:30pm (Mon, Tue, Thu, Fri, Sat, Sun...               CAFÉ   \n",
       "7                                1pm – 1am (Mon-Sun)       MICROBREWERY   \n",
       "\n",
       "        VOTES  \n",
       "0    49 votes  \n",
       "1    30 votes  \n",
       "2   221 votes  \n",
       "3    24 votes  \n",
       "4   165 votes  \n",
       "5   550 votes  \n",
       "6   509 votes  \n",
       "7  1612 votes  "
      ]
     },
     "execution_count": 4,
     "metadata": {},
     "output_type": "execute_result"
    }
   ],
   "source": [
    "df=df_train.append(df_test, ignore_index=True)\n",
    "df.head(8)"
   ]
  },
  {
   "cell_type": "code",
   "execution_count": 5,
   "metadata": {},
   "outputs": [
    {
     "data": {
      "text/plain": [
       "Index(['CITY', 'COST', 'CUISINES', 'LOCALITY', 'RATING', 'RESTAURANT_ID',\n",
       "       'TIME', 'TITLE', 'VOTES'],\n",
       "      dtype='object')"
      ]
     },
     "execution_count": 5,
     "metadata": {},
     "output_type": "execute_result"
    }
   ],
   "source": [
    "df.columns"
   ]
  },
  {
   "cell_type": "code",
   "execution_count": 6,
   "metadata": {},
   "outputs": [
    {
     "data": {
      "text/plain": [
       "<matplotlib.axes._subplots.AxesSubplot at 0xbbe37c8>"
      ]
     },
     "execution_count": 6,
     "metadata": {},
     "output_type": "execute_result"
    },
    {
     "data": {
      "image/png": "[encoded data removed]",
      "text/plain": [
       "<Figure size 864x432 with 2 Axes>"
      ]
     },
     "metadata": {
      "needs_background": "light"
     },
     "output_type": "display_data"
    }
   ],
   "source": [
    "plt.figure(figsize=(12,6))\n",
    "sns.heatmap(df.isnull(), cmap='gray')"
   ]
  },
  {
   "cell_type": "code",
   "execution_count": 7,
   "metadata": {},
   "outputs": [
    {
     "name": "stdout",
     "output_type": "stream",
     "text": [
      "<class 'pandas.core.frame.DataFrame'>\n",
      "RangeIndex: 16921 entries, 0 to 16920\n",
      "Data columns (total 9 columns):\n",
      "CITY             16774 non-null object\n",
      "COST             12690 non-null float64\n",
      "CUISINES         16921 non-null object\n",
      "LOCALITY         16793 non-null object\n",
      "RATING           16917 non-null object\n",
      "RESTAURANT_ID    16921 non-null int64\n",
      "TIME             16921 non-null object\n",
      "TITLE            16921 non-null object\n",
      "VOTES            15315 non-null object\n",
      "dtypes: float64(1), int64(1), object(7)\n",
      "memory usage: 1.2+ MB\n"
     ]
    }
   ],
   "source": [
    "df.info()"
   ]
  },
  {
   "cell_type": "code",
   "execution_count": 8,
   "metadata": {},
   "outputs": [
    {
     "data": {
      "text/html": [
       "<div>\n",
       "<style scoped>\n",
       "    .dataframe tbody tr th:only-of-type {\n",
       "        vertical-align: middle;\n",
       "    }\n",
       "\n",
       "    .dataframe tbody tr th {\n",
       "        vertical-align: top;\n",
       "    }\n",
       "\n",
       "    .dataframe thead th {\n",
       "        text-align: right;\n",
       "    }\n",
       "</style>\n",
       "<table border=\"1\" class=\"dataframe\">\n",
       "  <thead>\n",
       "    <tr style=\"text-align: right;\">\n",
       "      <th></th>\n",
       "      <th>COST</th>\n",
       "      <th>RESTAURANT_ID</th>\n",
       "    </tr>\n",
       "  </thead>\n",
       "  <tbody>\n",
       "    <tr>\n",
       "      <td>count</td>\n",
       "      <td>12690.000000</td>\n",
       "      <td>16921.000000</td>\n",
       "    </tr>\n",
       "    <tr>\n",
       "      <td>mean</td>\n",
       "      <td>655.252246</td>\n",
       "      <td>7767.211631</td>\n",
       "    </tr>\n",
       "    <tr>\n",
       "      <td>std</td>\n",
       "      <td>627.003540</td>\n",
       "      <td>4493.287626</td>\n",
       "    </tr>\n",
       "    <tr>\n",
       "      <td>min</td>\n",
       "      <td>20.000000</td>\n",
       "      <td>0.000000</td>\n",
       "    </tr>\n",
       "    <tr>\n",
       "      <td>25%</td>\n",
       "      <td>300.000000</td>\n",
       "      <td>3873.000000</td>\n",
       "    </tr>\n",
       "    <tr>\n",
       "      <td>50%</td>\n",
       "      <td>500.000000</td>\n",
       "      <td>7751.000000</td>\n",
       "    </tr>\n",
       "    <tr>\n",
       "      <td>75%</td>\n",
       "      <td>800.000000</td>\n",
       "      <td>11672.000000</td>\n",
       "    </tr>\n",
       "    <tr>\n",
       "      <td>max</td>\n",
       "      <td>14000.000000</td>\n",
       "      <td>15573.000000</td>\n",
       "    </tr>\n",
       "  </tbody>\n",
       "</table>\n",
       "</div>"
      ],
      "text/plain": [
       "               COST  RESTAURANT_ID\n",
       "count  12690.000000   16921.000000\n",
       "mean     655.252246    7767.211631\n",
       "std      627.003540    4493.287626\n",
       "min       20.000000       0.000000\n",
       "25%      300.000000    3873.000000\n",
       "50%      500.000000    7751.000000\n",
       "75%      800.000000   11672.000000\n",
       "max    14000.000000   15573.000000"
      ]
     },
     "execution_count": 8,
     "metadata": {},
     "output_type": "execute_result"
    }
   ],
   "source": [
    "df.describe()"
   ]
  },
  {
   "cell_type": "markdown",
   "metadata": {},
   "source": [
    "Observations:\n",
    "    1. Missing values in Locality and City can be replaced as 'Unavailable'.\n",
    "    2. Will check more details to replace or delete missing rows for Rating and Votes.\n",
    "    3. Cuisines and Title can be split on ',' and find uniques values.\n",
    "    4. Restaurant_ID is a unique value for each restaurant and has same restaurants in multiple rows.\n",
    "    5. Time has to be processed extensively and extract data."
   ]
  },
  {
   "cell_type": "code",
   "execution_count": 9,
   "metadata": {},
   "outputs": [
    {
     "name": "stdout",
     "output_type": "stream",
     "text": [
      "####### CITY #######\n",
      ">> Number of Unique Values :: 450\n",
      ">> Number for Null Values :: 147\n",
      "count       16774\n",
      "unique        450\n",
      "top       Chennai\n",
      "freq         2855\n",
      "Name: CITY, dtype: object \n",
      "\n",
      "####### COST #######\n",
      ">> Number of Unique Values :: 86\n",
      ">> Number for Null Values :: 4231\n",
      "count    12690.000000\n",
      "mean       655.252246\n",
      "std        627.003540\n",
      "min         20.000000\n",
      "25%        300.000000\n",
      "50%        500.000000\n",
      "75%        800.000000\n",
      "max      14000.000000\n",
      "Name: COST, dtype: float64 \n",
      "\n",
      "####### CUISINES #######\n",
      ">> Number of Unique Values :: 5183\n",
      ">> Number for Null Values :: 0\n",
      "count            16921\n",
      "unique            5183\n",
      "top       North Indian\n",
      "freq               716\n",
      "Name: CUISINES, dtype: object \n",
      "\n",
      "####### LOCALITY #######\n",
      ">> Number of Unique Values :: 1636\n",
      ">> Number for Null Values :: 128\n",
      "count          16793\n",
      "unique          1636\n",
      "top       Gachibowli\n",
      "freq             216\n",
      "Name: LOCALITY, dtype: object \n",
      "\n",
      "####### RATING #######\n",
      ">> Number of Unique Values :: 32\n",
      ">> Number for Null Values :: 4\n",
      "count     16917\n",
      "unique       32\n",
      "top         3.9\n",
      "freq       1643\n",
      "Name: RATING, dtype: object \n",
      "\n",
      "####### RESTAURANT_ID #######\n",
      ">> Number of Unique Values :: 15574\n",
      ">> Number for Null Values :: 0\n",
      "count    16921.000000\n",
      "mean      7767.211631\n",
      "std       4493.287626\n",
      "min          0.000000\n",
      "25%       3873.000000\n",
      "50%       7751.000000\n",
      "75%      11672.000000\n",
      "max      15573.000000\n",
      "Name: RESTAURANT_ID, dtype: float64 \n",
      "\n",
      "####### TIME #######\n",
      ">> Number of Unique Values :: 3295\n",
      ">> Number for Null Values :: 0\n",
      "count                     16921\n",
      "unique                     3295\n",
      "top       11am – 11pm (Mon-Sun)\n",
      "freq                       1862\n",
      "Name: TIME, dtype: object \n",
      "\n",
      "####### TITLE #######\n",
      ">> Number of Unique Values :: 123\n",
      ">> Number for Null Values :: 0\n",
      "count           16921\n",
      "unique            123\n",
      "top       QUICK BITES\n",
      "freq             5634\n",
      "Name: TITLE, dtype: object \n",
      "\n",
      "####### VOTES #######\n",
      ">> Number of Unique Values :: 2075\n",
      ">> Number for Null Values :: 1606\n",
      "count        15315\n",
      "unique        2075\n",
      "top       44 votes\n",
      "freq            92\n",
      "Name: VOTES, dtype: object \n",
      "\n"
     ]
    }
   ],
   "source": [
    "for i in df.columns:\n",
    "    print('#######',i,'#######')\n",
    "    if df[i].nunique()>15:\n",
    "        print('>> Number of Unique Values ::', df[i].nunique())\n",
    "        print('>> Number for Null Values ::', df[i].isnull().sum())\n",
    "        print(df[i].describe(), '\\n')\n",
    "    else:\n",
    "        print('>> Number of Unique Values ::', df[i].nunique())\n",
    "        print('>> Number for Null Values ::', df[i].isnull().sum(), '\\n')\n",
    "        print(df[i].unique())"
   ]
  },
  {
   "cell_type": "code",
   "execution_count": null,
   "metadata": {},
   "outputs": [],
   "source": [
    "sns.pairplot(df)"
   ]
  },
  {
   "cell_type": "code",
   "execution_count": 10,
   "metadata": {},
   "outputs": [
    {
     "data": {
      "text/plain": [
       "1347"
      ]
     },
     "execution_count": 10,
     "metadata": {},
     "output_type": "execute_result"
    }
   ],
   "source": [
    "df['RESTAURANT_ID'].duplicated().sum()"
   ]
  },
  {
   "cell_type": "code",
   "execution_count": 11,
   "metadata": {},
   "outputs": [
    {
     "data": {
      "text/plain": [
       "RESTAURANT_ID\n",
       "7264     8\n",
       "4634     8\n",
       "1619     7\n",
       "12747    7\n",
       "7745     7\n",
       "        ..\n",
       "10227    1\n",
       "10226    1\n",
       "10225    1\n",
       "10224    1\n",
       "0        1\n",
       "Length: 15574, dtype: int64"
      ]
     },
     "execution_count": 11,
     "metadata": {},
     "output_type": "execute_result"
    }
   ],
   "source": [
    "df.pivot_table(index=['RESTAURANT_ID'], aggfunc='size').sort_values(ascending=False)"
   ]
  },
  {
   "cell_type": "code",
   "execution_count": 12,
   "metadata": {},
   "outputs": [
    {
     "data": {
      "text/html": [
       "<div>\n",
       "<style scoped>\n",
       "    .dataframe tbody tr th:only-of-type {\n",
       "        vertical-align: middle;\n",
       "    }\n",
       "\n",
       "    .dataframe tbody tr th {\n",
       "        vertical-align: top;\n",
       "    }\n",
       "\n",
       "    .dataframe thead th {\n",
       "        text-align: right;\n",
       "    }\n",
       "</style>\n",
       "<table border=\"1\" class=\"dataframe\">\n",
       "  <thead>\n",
       "    <tr style=\"text-align: right;\">\n",
       "      <th></th>\n",
       "      <th>CITY</th>\n",
       "      <th>COST</th>\n",
       "      <th>CUISINES</th>\n",
       "      <th>LOCALITY</th>\n",
       "      <th>RATING</th>\n",
       "      <th>RESTAURANT_ID</th>\n",
       "      <th>TIME</th>\n",
       "      <th>TITLE</th>\n",
       "      <th>VOTES</th>\n",
       "    </tr>\n",
       "  </thead>\n",
       "  <tbody>\n",
       "    <tr>\n",
       "      <td>146</td>\n",
       "      <td>Bangalore</td>\n",
       "      <td>200.0</td>\n",
       "      <td>Fast Food</td>\n",
       "      <td>Indiranagar</td>\n",
       "      <td>3.7</td>\n",
       "      <td>4634</td>\n",
       "      <td>1pm – 10pm (Mon-Sun)</td>\n",
       "      <td>QUICK BITES</td>\n",
       "      <td>78 votes</td>\n",
       "    </tr>\n",
       "    <tr>\n",
       "      <td>2701</td>\n",
       "      <td>Bangalore</td>\n",
       "      <td>600.0</td>\n",
       "      <td>Healthy Food, Beverages</td>\n",
       "      <td>Indiranagar</td>\n",
       "      <td>3.9</td>\n",
       "      <td>5674</td>\n",
       "      <td>8am – 11pm (Mon-Sun)</td>\n",
       "      <td>None</td>\n",
       "      <td>196 votes</td>\n",
       "    </tr>\n",
       "    <tr>\n",
       "      <td>4647</td>\n",
       "      <td>Bangalore</td>\n",
       "      <td>1600.0</td>\n",
       "      <td>North Indian, European, Mediterranean, BBQ, Kebab</td>\n",
       "      <td>Indiranagar</td>\n",
       "      <td>4.7</td>\n",
       "      <td>1482</td>\n",
       "      <td>11:30am – 4pm, 6:30pm – 11pm (Mon-Sun)</td>\n",
       "      <td>CASUAL DINING</td>\n",
       "      <td>7302 votes</td>\n",
       "    </tr>\n",
       "    <tr>\n",
       "      <td>4658</td>\n",
       "      <td>Bangalore</td>\n",
       "      <td>800.0</td>\n",
       "      <td>Biryani, North Indian, Kebab</td>\n",
       "      <td>Indiranagar</td>\n",
       "      <td>4.0</td>\n",
       "      <td>10079</td>\n",
       "      <td>11:30am – 11pm (Mon-Sun)</td>\n",
       "      <td>CASUAL DINING</td>\n",
       "      <td>3324 votes</td>\n",
       "    </tr>\n",
       "    <tr>\n",
       "      <td>4678</td>\n",
       "      <td>Bangalore</td>\n",
       "      <td>1200.0</td>\n",
       "      <td>Portuguese, Wraps, Burger, Salad</td>\n",
       "      <td>Indiranagar</td>\n",
       "      <td>4.3</td>\n",
       "      <td>9298</td>\n",
       "      <td>12noon – 11pm (Mon-Thu),12noon – 1am (Fri-Sun)</td>\n",
       "      <td>CASUAL DINING</td>\n",
       "      <td>1253 votes</td>\n",
       "    </tr>\n",
       "  </tbody>\n",
       "</table>\n",
       "</div>"
      ],
      "text/plain": [
       "           CITY    COST                                           CUISINES  \\\n",
       "146   Bangalore   200.0                                          Fast Food   \n",
       "2701  Bangalore   600.0                            Healthy Food, Beverages   \n",
       "4647  Bangalore  1600.0  North Indian, European, Mediterranean, BBQ, Kebab   \n",
       "4658  Bangalore   800.0                       Biryani, North Indian, Kebab   \n",
       "4678  Bangalore  1200.0                   Portuguese, Wraps, Burger, Salad   \n",
       "\n",
       "         LOCALITY RATING  RESTAURANT_ID  \\\n",
       "146   Indiranagar    3.7           4634   \n",
       "2701  Indiranagar    3.9           5674   \n",
       "4647  Indiranagar    4.7           1482   \n",
       "4658  Indiranagar    4.0          10079   \n",
       "4678  Indiranagar    4.3           9298   \n",
       "\n",
       "                                                TIME          TITLE  \\\n",
       "146                             1pm – 10pm (Mon-Sun)    QUICK BITES   \n",
       "2701                            8am – 11pm (Mon-Sun)           None   \n",
       "4647          11:30am – 4pm, 6:30pm – 11pm (Mon-Sun)  CASUAL DINING   \n",
       "4658                        11:30am – 11pm (Mon-Sun)  CASUAL DINING   \n",
       "4678  12noon – 11pm (Mon-Thu),12noon – 1am (Fri-Sun)  CASUAL DINING   \n",
       "\n",
       "           VOTES  \n",
       "146     78 votes  \n",
       "2701   196 votes  \n",
       "4647  7302 votes  \n",
       "4658  3324 votes  \n",
       "4678  1253 votes  "
      ]
     },
     "execution_count": 12,
     "metadata": {},
     "output_type": "execute_result"
    }
   ],
   "source": [
    "df[(df['RESTAURANT_ID'].duplicated()==True) & (df['LOCALITY']=='Indiranagar')].head(5)"
   ]
  },
  {
   "cell_type": "code",
   "execution_count": 13,
   "metadata": {},
   "outputs": [
    {
     "data": {
      "text/html": [
       "<div>\n",
       "<style scoped>\n",
       "    .dataframe tbody tr th:only-of-type {\n",
       "        vertical-align: middle;\n",
       "    }\n",
       "\n",
       "    .dataframe tbody tr th {\n",
       "        vertical-align: top;\n",
       "    }\n",
       "\n",
       "    .dataframe thead th {\n",
       "        text-align: right;\n",
       "    }\n",
       "</style>\n",
       "<table border=\"1\" class=\"dataframe\">\n",
       "  <thead>\n",
       "    <tr style=\"text-align: right;\">\n",
       "      <th></th>\n",
       "      <th>CITY</th>\n",
       "      <th>COST</th>\n",
       "      <th>CUISINES</th>\n",
       "      <th>LOCALITY</th>\n",
       "      <th>RATING</th>\n",
       "      <th>RESTAURANT_ID</th>\n",
       "      <th>TIME</th>\n",
       "      <th>TITLE</th>\n",
       "      <th>VOTES</th>\n",
       "    </tr>\n",
       "  </thead>\n",
       "  <tbody>\n",
       "    <tr>\n",
       "      <td>0</td>\n",
       "      <td>Thane</td>\n",
       "      <td>1200.0</td>\n",
       "      <td>Malwani, Goan, North Indian</td>\n",
       "      <td>Dombivali East</td>\n",
       "      <td>3.6</td>\n",
       "      <td>9438</td>\n",
       "      <td>11am – 4pm, 7:30pm – 11:30pm (Mon-Sun)</td>\n",
       "      <td>CASUAL DINING</td>\n",
       "      <td>49 votes</td>\n",
       "    </tr>\n",
       "    <tr>\n",
       "      <td>1</td>\n",
       "      <td>Chennai</td>\n",
       "      <td>1500.0</td>\n",
       "      <td>Asian, Modern Indian, Japanese</td>\n",
       "      <td>Ramapuram</td>\n",
       "      <td>4.2</td>\n",
       "      <td>13198</td>\n",
       "      <td>6pm – 11pm (Mon-Sun)</td>\n",
       "      <td>CASUAL DINING,BAR</td>\n",
       "      <td>30 votes</td>\n",
       "    </tr>\n",
       "    <tr>\n",
       "      <td>2</td>\n",
       "      <td>Chennai</td>\n",
       "      <td>800.0</td>\n",
       "      <td>North Indian, Chinese, Biryani, Hyderabadi</td>\n",
       "      <td>Saligramam</td>\n",
       "      <td>3.8</td>\n",
       "      <td>10915</td>\n",
       "      <td>11am – 3:30pm, 7pm – 11pm (Mon-Sun)</td>\n",
       "      <td>CASUAL DINING</td>\n",
       "      <td>221 votes</td>\n",
       "    </tr>\n",
       "    <tr>\n",
       "      <td>3</td>\n",
       "      <td>Mumbai</td>\n",
       "      <td>800.0</td>\n",
       "      <td>Tibetan, Chinese</td>\n",
       "      <td>Bandra West</td>\n",
       "      <td>4.1</td>\n",
       "      <td>6346</td>\n",
       "      <td>11:30am – 1am (Mon-Sun)</td>\n",
       "      <td>QUICK BITES</td>\n",
       "      <td>24 votes</td>\n",
       "    </tr>\n",
       "    <tr>\n",
       "      <td>4</td>\n",
       "      <td>Mumbai</td>\n",
       "      <td>300.0</td>\n",
       "      <td>Desserts</td>\n",
       "      <td>Lower Parel</td>\n",
       "      <td>3.8</td>\n",
       "      <td>15387</td>\n",
       "      <td>11am – 1am (Mon-Sun)</td>\n",
       "      <td>DESSERT PARLOR</td>\n",
       "      <td>165 votes</td>\n",
       "    </tr>\n",
       "  </tbody>\n",
       "</table>\n",
       "</div>"
      ],
      "text/plain": [
       "      CITY    COST                                    CUISINES  \\\n",
       "0    Thane  1200.0                 Malwani, Goan, North Indian   \n",
       "1  Chennai  1500.0              Asian, Modern Indian, Japanese   \n",
       "2  Chennai   800.0  North Indian, Chinese, Biryani, Hyderabadi   \n",
       "3   Mumbai   800.0                            Tibetan, Chinese   \n",
       "4   Mumbai   300.0                                    Desserts   \n",
       "\n",
       "         LOCALITY RATING  RESTAURANT_ID  \\\n",
       "0  Dombivali East    3.6           9438   \n",
       "1       Ramapuram    4.2          13198   \n",
       "2      Saligramam    3.8          10915   \n",
       "3     Bandra West    4.1           6346   \n",
       "4     Lower Parel    3.8          15387   \n",
       "\n",
       "                                     TIME              TITLE      VOTES  \n",
       "0  11am – 4pm, 7:30pm – 11:30pm (Mon-Sun)      CASUAL DINING   49 votes  \n",
       "1                    6pm – 11pm (Mon-Sun)  CASUAL DINING,BAR   30 votes  \n",
       "2     11am – 3:30pm, 7pm – 11pm (Mon-Sun)      CASUAL DINING  221 votes  \n",
       "3                 11:30am – 1am (Mon-Sun)        QUICK BITES   24 votes  \n",
       "4                    11am – 1am (Mon-Sun)     DESSERT PARLOR  165 votes  "
      ]
     },
     "execution_count": 13,
     "metadata": {},
     "output_type": "execute_result"
    }
   ],
   "source": [
    "df.head(5)"
   ]
  },
  {
   "cell_type": "markdown",
   "metadata": {},
   "source": [
    "### Data Cleaning - VOTES"
   ]
  },
  {
   "cell_type": "code",
   "execution_count": 14,
   "metadata": {},
   "outputs": [],
   "source": [
    "df['VOTES'] = df['VOTES'].str.extract('(\\d+)') #.str.split(' ').str[0].fillna(0).astype(int) > this will need strip()"
   ]
  },
  {
   "cell_type": "markdown",
   "metadata": {},
   "source": [
    "### Data Cleaning - TITLE"
   ]
  },
  {
   "cell_type": "code",
   "execution_count": 15,
   "metadata": {},
   "outputs": [
    {
     "name": "stdout",
     "output_type": "stream",
     "text": [
      "Maximum TITLE in a cell :: 2\n"
     ]
    }
   ],
   "source": [
    "# len(('CASUAL DINING,BAR').split(','))\n",
    "num = 1\n",
    "for i in df['TITLE']:\n",
    "    if len(i.split(',')) > num:\n",
    "        num = len(i.split(','))\n",
    "print('Maximum TITLE in a cell ::', num)"
   ]
  },
  {
   "cell_type": "code",
   "execution_count": 16,
   "metadata": {},
   "outputs": [
    {
     "name": "stdout",
     "output_type": "stream",
     "text": [
      "['CASUAL DINING', 'BAR', 'QUICK BITES', 'DESSERT PARLOR', 'CAFÉ', 'MICROBREWERY', 'BEVERAGE SHOP', 'IRANI CAFE', 'None', 'PUB', 'FINE DINING', 'SWEET SHOP', 'BAKERY', 'LOUNGE', 'FOOD COURT', 'FOOD TRUCK', 'MESS', 'KIOSK', 'CLUB', 'CONFECTIONERY', 'DHABA', 'MEAT SHOP', 'COCKTAIL BAR', 'PAAN SHOP', 'BHOJANALYA']\n"
     ]
    }
   ],
   "source": [
    "title_lst = []\n",
    "for i in df['TITLE']:\n",
    "    if len(i.split(',')) == 1:\n",
    "        if i not in title_lst:\n",
    "            title_lst.append(i)\n",
    "        else: continue\n",
    "    elif len(i.split(',')) == 2:\n",
    "        if i.split(',')[1] not in title_lst:\n",
    "            title_lst.append(i.split(',')[1])\n",
    "        else: continue\n",
    "        if i.split(',')[1] not in title_lst:\n",
    "            title_lst.append(i.split(',')[1])\n",
    "        else: continue\n",
    "print(title_lst)"
   ]
  },
  {
   "cell_type": "code",
   "execution_count": 17,
   "metadata": {},
   "outputs": [],
   "source": [
    "for i in title_lst:\n",
    "    df[i] = 0"
   ]
  },
  {
   "cell_type": "code",
   "execution_count": 18,
   "metadata": {},
   "outputs": [],
   "source": [
    "for i, j in enumerate(df['TITLE']):\n",
    "    if len(j.split(',')) == 1:\n",
    "        df[j][i] = 1\n",
    "    elif len(j.split(',')) == 2:\n",
    "        df[j.split(',')[0]][i] == 1\n",
    "        df[j.split(',')[1]][i] == 1"
   ]
  },
  {
   "cell_type": "code",
   "execution_count": 19,
   "metadata": {},
   "outputs": [
    {
     "data": {
      "text/html": [
       "<div>\n",
       "<style scoped>\n",
       "    .dataframe tbody tr th:only-of-type {\n",
       "        vertical-align: middle;\n",
       "    }\n",
       "\n",
       "    .dataframe tbody tr th {\n",
       "        vertical-align: top;\n",
       "    }\n",
       "\n",
       "    .dataframe thead th {\n",
       "        text-align: right;\n",
       "    }\n",
       "</style>\n",
       "<table border=\"1\" class=\"dataframe\">\n",
       "  <thead>\n",
       "    <tr style=\"text-align: right;\">\n",
       "      <th></th>\n",
       "      <th>CITY</th>\n",
       "      <th>COST</th>\n",
       "      <th>CUISINES</th>\n",
       "      <th>LOCALITY</th>\n",
       "      <th>RATING</th>\n",
       "      <th>RESTAURANT_ID</th>\n",
       "      <th>TIME</th>\n",
       "      <th>VOTES</th>\n",
       "      <th>CASUAL DINING</th>\n",
       "      <th>BAR</th>\n",
       "      <th>...</th>\n",
       "      <th>FOOD TRUCK</th>\n",
       "      <th>MESS</th>\n",
       "      <th>KIOSK</th>\n",
       "      <th>CLUB</th>\n",
       "      <th>CONFECTIONERY</th>\n",
       "      <th>DHABA</th>\n",
       "      <th>MEAT SHOP</th>\n",
       "      <th>COCKTAIL BAR</th>\n",
       "      <th>PAAN SHOP</th>\n",
       "      <th>BHOJANALYA</th>\n",
       "    </tr>\n",
       "  </thead>\n",
       "  <tbody>\n",
       "    <tr>\n",
       "      <td>0</td>\n",
       "      <td>Thane</td>\n",
       "      <td>1200.0</td>\n",
       "      <td>Malwani, Goan, North Indian</td>\n",
       "      <td>Dombivali East</td>\n",
       "      <td>3.6</td>\n",
       "      <td>9438</td>\n",
       "      <td>11am – 4pm, 7:30pm – 11:30pm (Mon-Sun)</td>\n",
       "      <td>49</td>\n",
       "      <td>1</td>\n",
       "      <td>0</td>\n",
       "      <td>...</td>\n",
       "      <td>0</td>\n",
       "      <td>0</td>\n",
       "      <td>0</td>\n",
       "      <td>0</td>\n",
       "      <td>0</td>\n",
       "      <td>0</td>\n",
       "      <td>0</td>\n",
       "      <td>0</td>\n",
       "      <td>0</td>\n",
       "      <td>0</td>\n",
       "    </tr>\n",
       "    <tr>\n",
       "      <td>1</td>\n",
       "      <td>Chennai</td>\n",
       "      <td>1500.0</td>\n",
       "      <td>Asian, Modern Indian, Japanese</td>\n",
       "      <td>Ramapuram</td>\n",
       "      <td>4.2</td>\n",
       "      <td>13198</td>\n",
       "      <td>6pm – 11pm (Mon-Sun)</td>\n",
       "      <td>30</td>\n",
       "      <td>0</td>\n",
       "      <td>0</td>\n",
       "      <td>...</td>\n",
       "      <td>0</td>\n",
       "      <td>0</td>\n",
       "      <td>0</td>\n",
       "      <td>0</td>\n",
       "      <td>0</td>\n",
       "      <td>0</td>\n",
       "      <td>0</td>\n",
       "      <td>0</td>\n",
       "      <td>0</td>\n",
       "      <td>0</td>\n",
       "    </tr>\n",
       "    <tr>\n",
       "      <td>2</td>\n",
       "      <td>Chennai</td>\n",
       "      <td>800.0</td>\n",
       "      <td>North Indian, Chinese, Biryani, Hyderabadi</td>\n",
       "      <td>Saligramam</td>\n",
       "      <td>3.8</td>\n",
       "      <td>10915</td>\n",
       "      <td>11am – 3:30pm, 7pm – 11pm (Mon-Sun)</td>\n",
       "      <td>221</td>\n",
       "      <td>1</td>\n",
       "      <td>0</td>\n",
       "      <td>...</td>\n",
       "      <td>0</td>\n",
       "      <td>0</td>\n",
       "      <td>0</td>\n",
       "      <td>0</td>\n",
       "      <td>0</td>\n",
       "      <td>0</td>\n",
       "      <td>0</td>\n",
       "      <td>0</td>\n",
       "      <td>0</td>\n",
       "      <td>0</td>\n",
       "    </tr>\n",
       "  </tbody>\n",
       "</table>\n",
       "<p>3 rows × 33 columns</p>\n",
       "</div>"
      ],
      "text/plain": [
       "      CITY    COST                                    CUISINES  \\\n",
       "0    Thane  1200.0                 Malwani, Goan, North Indian   \n",
       "1  Chennai  1500.0              Asian, Modern Indian, Japanese   \n",
       "2  Chennai   800.0  North Indian, Chinese, Biryani, Hyderabadi   \n",
       "\n",
       "         LOCALITY RATING  RESTAURANT_ID  \\\n",
       "0  Dombivali East    3.6           9438   \n",
       "1       Ramapuram    4.2          13198   \n",
       "2      Saligramam    3.8          10915   \n",
       "\n",
       "                                     TIME VOTES  CASUAL DINING  BAR  ...  \\\n",
       "0  11am – 4pm, 7:30pm – 11:30pm (Mon-Sun)    49              1    0  ...   \n",
       "1                    6pm – 11pm (Mon-Sun)    30              0    0  ...   \n",
       "2     11am – 3:30pm, 7pm – 11pm (Mon-Sun)   221              1    0  ...   \n",
       "\n",
       "   FOOD TRUCK  MESS  KIOSK  CLUB  CONFECTIONERY  DHABA  MEAT SHOP  \\\n",
       "0           0     0      0     0              0      0          0   \n",
       "1           0     0      0     0              0      0          0   \n",
       "2           0     0      0     0              0      0          0   \n",
       "\n",
       "   COCKTAIL BAR  PAAN SHOP  BHOJANALYA  \n",
       "0             0          0           0  \n",
       "1             0          0           0  \n",
       "2             0          0           0  \n",
       "\n",
       "[3 rows x 33 columns]"
      ]
     },
     "execution_count": 19,
     "metadata": {},
     "output_type": "execute_result"
    }
   ],
   "source": [
    "df.drop(columns=['TITLE'], axis=1, inplace=True)\n",
    "df.head(3)"
   ]
  },
  {
   "cell_type": "markdown",
   "metadata": {},
   "source": [
    "### Data Cleaning - CUISINES"
   ]
  },
  {
   "cell_type": "code",
   "execution_count": 20,
   "metadata": {},
   "outputs": [
    {
     "name": "stdout",
     "output_type": "stream",
     "text": [
      "Maximum CUISINES in a cell :: 8\n"
     ]
    }
   ],
   "source": [
    "num = 1\n",
    "for i in df['CUISINES']:\n",
    "    if len(i.split(',')) > num:\n",
    "        num = len(i.split(','))\n",
    "print('Maximum CUISINES in a cell ::', num)"
   ]
  },
  {
   "cell_type": "code",
   "execution_count": 21,
   "metadata": {},
   "outputs": [
    {
     "name": "stdout",
     "output_type": "stream",
     "text": [
      "['Malwani' 'Goan' 'North Indian' 'Asian' 'Modern Indian' 'Japanese'\n",
      " 'Chinese' 'Biryani' 'Hyderabadi' 'Tibetan' 'Desserts' 'Seafood' 'Cafe'\n",
      " 'Pizza' 'Burger' 'Bar Food' 'South Indian' 'Fast Food' 'Beverages'\n",
      " 'Arabian' 'Mughlai' 'Maharashtrian' 'Parsi' 'Thai' 'Bakery' 'Momos'\n",
      " 'Continental' 'European' 'Rolls' 'Andhra' 'Italian' 'Bbq' 'Finger Food'\n",
      " 'Tea' 'American' 'Healthy Food' 'Coffee' 'Indonesian' 'Korean' 'Nepalese'\n",
      " 'Ice Cream' 'Mexican' 'Kerala' 'Indian' 'Mithai' 'Street Food'\n",
      " 'Malaysian' 'Vietnamese' 'Iranian' 'Kebab' 'Juices' 'Sandwich'\n",
      " 'Mediterranean' 'Salad' 'Gujarati' 'Rajasthani' 'Tex-Mex' 'Roast Chicken'\n",
      " 'Burmese' 'Chettinad' 'North Eastern' 'Lebanese' 'Coffee And Tea' 'Grill'\n",
      " '' 'Bihari' 'Bengali' 'Lucknowi' 'Awadhi' 'Steak' 'French' 'Portuguese'\n",
      " 'Wraps' 'Sri Lankan' 'Oriya' 'Ethiopian' 'Konkan' 'Sushi' 'Spanish'\n",
      " 'Russian' 'Mangalorean' 'Turkish' 'Bubble Tea' 'Afghan' 'Naga'\n",
      " 'Singaporean' 'German' 'Middle Eastern' 'Sindhi' 'Cantonese' 'Hot Pot'\n",
      " 'Pan Asian' 'Satay' 'Dumplings' 'Kashmiri' 'Raw Meats' 'Drinks Only'\n",
      " 'Moroccan' 'Panini' 'Cafe Food' 'Charcoal Chicken' 'Belgian' 'Mongolian'\n",
      " 'Tamil' 'African' 'Paan' 'Assamese' 'Hot Dogs' 'Poké' 'British' 'Bohri'\n",
      " 'Fusion' 'Armenian' 'South American' 'Greek' 'Pakistani' 'Peruvian'\n",
      " 'Cuisine Varies' 'Irish' 'Multi Cuisine' 'Jewish' 'Vegan' 'Oriental'\n",
      " 'Modern Australian' 'Egyptian' 'Fish And Chips' 'Brazilian' 'Mishti'\n",
      " 'Falafel' 'Hawaiian']\n"
     ]
    }
   ],
   "source": [
    "cuisines_lst = []\n",
    "for i in df['CUISINES']:\n",
    "    if len(i.split(',')) == 1:\n",
    "        cuisines_lst.append(i.split(',')[0].strip().title())\n",
    "    else:\n",
    "        for j in range(len(i.split(','))):\n",
    "            cuisines_lst.append(i.split(',')[j].strip().title())\n",
    "\n",
    "cuisines_lst = pd.Series(cuisines_lst).unique()\n",
    "print(cuisines_lst)"
   ]
  },
  {
   "cell_type": "code",
   "execution_count": 22,
   "metadata": {},
   "outputs": [
    {
     "data": {
      "text/html": [
       "<div>\n",
       "<style scoped>\n",
       "    .dataframe tbody tr th:only-of-type {\n",
       "        vertical-align: middle;\n",
       "    }\n",
       "\n",
       "    .dataframe tbody tr th {\n",
       "        vertical-align: top;\n",
       "    }\n",
       "\n",
       "    .dataframe thead th {\n",
       "        text-align: right;\n",
       "    }\n",
       "</style>\n",
       "<table border=\"1\" class=\"dataframe\">\n",
       "  <thead>\n",
       "    <tr style=\"text-align: right;\">\n",
       "      <th></th>\n",
       "      <th>0</th>\n",
       "      <th>1</th>\n",
       "      <th>2</th>\n",
       "      <th>3</th>\n",
       "      <th>4</th>\n",
       "      <th>5</th>\n",
       "      <th>6</th>\n",
       "      <th>7</th>\n",
       "    </tr>\n",
       "  </thead>\n",
       "  <tbody>\n",
       "    <tr>\n",
       "      <td>0</td>\n",
       "      <td>Malwani</td>\n",
       "      <td>Goan</td>\n",
       "      <td>North Indian</td>\n",
       "      <td>0</td>\n",
       "      <td>0</td>\n",
       "      <td>0</td>\n",
       "      <td>0</td>\n",
       "      <td>0</td>\n",
       "    </tr>\n",
       "    <tr>\n",
       "      <td>1</td>\n",
       "      <td>Asian</td>\n",
       "      <td>Modern Indian</td>\n",
       "      <td>Japanese</td>\n",
       "      <td>0</td>\n",
       "      <td>0</td>\n",
       "      <td>0</td>\n",
       "      <td>0</td>\n",
       "      <td>0</td>\n",
       "    </tr>\n",
       "    <tr>\n",
       "      <td>2</td>\n",
       "      <td>North Indian</td>\n",
       "      <td>Chinese</td>\n",
       "      <td>Biryani</td>\n",
       "      <td>Hyderabadi</td>\n",
       "      <td>0</td>\n",
       "      <td>0</td>\n",
       "      <td>0</td>\n",
       "      <td>0</td>\n",
       "    </tr>\n",
       "    <tr>\n",
       "      <td>3</td>\n",
       "      <td>Tibetan</td>\n",
       "      <td>Chinese</td>\n",
       "      <td>0</td>\n",
       "      <td>0</td>\n",
       "      <td>0</td>\n",
       "      <td>0</td>\n",
       "      <td>0</td>\n",
       "      <td>0</td>\n",
       "    </tr>\n",
       "    <tr>\n",
       "      <td>4</td>\n",
       "      <td>Desserts</td>\n",
       "      <td>0</td>\n",
       "      <td>0</td>\n",
       "      <td>0</td>\n",
       "      <td>0</td>\n",
       "      <td>0</td>\n",
       "      <td>0</td>\n",
       "      <td>0</td>\n",
       "    </tr>\n",
       "    <tr>\n",
       "      <td>5</td>\n",
       "      <td>North Indian</td>\n",
       "      <td>Chinese</td>\n",
       "      <td>Seafood</td>\n",
       "      <td>Biryani</td>\n",
       "      <td>0</td>\n",
       "      <td>0</td>\n",
       "      <td>0</td>\n",
       "      <td>0</td>\n",
       "    </tr>\n",
       "    <tr>\n",
       "      <td>6</td>\n",
       "      <td>Cafe</td>\n",
       "      <td>Chinese</td>\n",
       "      <td>Pizza</td>\n",
       "      <td>North Indian</td>\n",
       "      <td>Burger</td>\n",
       "      <td>0</td>\n",
       "      <td>0</td>\n",
       "      <td>0</td>\n",
       "    </tr>\n",
       "    <tr>\n",
       "      <td>7</td>\n",
       "      <td>Bar Food</td>\n",
       "      <td>0</td>\n",
       "      <td>0</td>\n",
       "      <td>0</td>\n",
       "      <td>0</td>\n",
       "      <td>0</td>\n",
       "      <td>0</td>\n",
       "      <td>0</td>\n",
       "    </tr>\n",
       "    <tr>\n",
       "      <td>8</td>\n",
       "      <td>South Indian</td>\n",
       "      <td>North Indian</td>\n",
       "      <td>0</td>\n",
       "      <td>0</td>\n",
       "      <td>0</td>\n",
       "      <td>0</td>\n",
       "      <td>0</td>\n",
       "      <td>0</td>\n",
       "    </tr>\n",
       "    <tr>\n",
       "      <td>9</td>\n",
       "      <td>North Indian</td>\n",
       "      <td>0</td>\n",
       "      <td>0</td>\n",
       "      <td>0</td>\n",
       "      <td>0</td>\n",
       "      <td>0</td>\n",
       "      <td>0</td>\n",
       "      <td>0</td>\n",
       "    </tr>\n",
       "    <tr>\n",
       "      <td>10</td>\n",
       "      <td>North Indian</td>\n",
       "      <td>Chinese</td>\n",
       "      <td>Fast Food</td>\n",
       "      <td>Biryani</td>\n",
       "      <td>0</td>\n",
       "      <td>0</td>\n",
       "      <td>0</td>\n",
       "      <td>0</td>\n",
       "    </tr>\n",
       "    <tr>\n",
       "      <td>11</td>\n",
       "      <td>Fast Food</td>\n",
       "      <td>Burger</td>\n",
       "      <td>Beverages</td>\n",
       "      <td>0</td>\n",
       "      <td>0</td>\n",
       "      <td>0</td>\n",
       "      <td>0</td>\n",
       "      <td>0</td>\n",
       "    </tr>\n",
       "    <tr>\n",
       "      <td>12</td>\n",
       "      <td>Arabian</td>\n",
       "      <td>Mughlai</td>\n",
       "      <td>0</td>\n",
       "      <td>0</td>\n",
       "      <td>0</td>\n",
       "      <td>0</td>\n",
       "      <td>0</td>\n",
       "      <td>0</td>\n",
       "    </tr>\n",
       "    <tr>\n",
       "      <td>13</td>\n",
       "      <td>South Indian</td>\n",
       "      <td>0</td>\n",
       "      <td>0</td>\n",
       "      <td>0</td>\n",
       "      <td>0</td>\n",
       "      <td>0</td>\n",
       "      <td>0</td>\n",
       "      <td>0</td>\n",
       "    </tr>\n",
       "    <tr>\n",
       "      <td>14</td>\n",
       "      <td>Maharashtrian</td>\n",
       "      <td>0</td>\n",
       "      <td>0</td>\n",
       "      <td>0</td>\n",
       "      <td>0</td>\n",
       "      <td>0</td>\n",
       "      <td>0</td>\n",
       "      <td>0</td>\n",
       "    </tr>\n",
       "  </tbody>\n",
       "</table>\n",
       "</div>"
      ],
      "text/plain": [
       "                0               1              2              3        4  5  \\\n",
       "0         Malwani            Goan   North Indian              0        0  0   \n",
       "1           Asian   Modern Indian       Japanese              0        0  0   \n",
       "2    North Indian         Chinese        Biryani     Hyderabadi        0  0   \n",
       "3         Tibetan         Chinese              0              0        0  0   \n",
       "4        Desserts               0              0              0        0  0   \n",
       "5    North Indian         Chinese        Seafood        Biryani        0  0   \n",
       "6            Cafe         Chinese          Pizza   North Indian   Burger  0   \n",
       "7        Bar Food               0              0              0        0  0   \n",
       "8    South Indian    North Indian              0              0        0  0   \n",
       "9    North Indian               0              0              0        0  0   \n",
       "10   North Indian         Chinese      Fast Food        Biryani        0  0   \n",
       "11      Fast Food          Burger      Beverages              0        0  0   \n",
       "12        Arabian         Mughlai              0              0        0  0   \n",
       "13   South Indian               0              0              0        0  0   \n",
       "14  Maharashtrian               0              0              0        0  0   \n",
       "\n",
       "    6  7  \n",
       "0   0  0  \n",
       "1   0  0  \n",
       "2   0  0  \n",
       "3   0  0  \n",
       "4   0  0  \n",
       "5   0  0  \n",
       "6   0  0  \n",
       "7   0  0  \n",
       "8   0  0  \n",
       "9   0  0  \n",
       "10  0  0  \n",
       "11  0  0  \n",
       "12  0  0  \n",
       "13  0  0  \n",
       "14  0  0  "
      ]
     },
     "execution_count": 22,
     "metadata": {},
     "output_type": "execute_result"
    }
   ],
   "source": [
    "data = df['CUISINES'].str.split(',', expand=True)\n",
    "data.fillna('0', inplace=True)\n",
    "data.head(15)"
   ]
  },
  {
   "cell_type": "code",
   "execution_count": 23,
   "metadata": {},
   "outputs": [
    {
     "name": "stdout",
     "output_type": "stream",
     "text": [
      "---- 0 >>> 106\n",
      "['Malwani' 'Asian' 'North Indian' 'Tibetan' 'Desserts' 'Cafe' 'Bar Food'\n",
      " 'South Indian' 'Fast Food' 'Arabian' 'Maharashtrian' 'Parsi' 'Chinese'\n",
      " 'Bakery' 'Continental' 'Andhra' 'Biryani' 'Italian' 'Finger Food'\n",
      " 'Beverages' 'American' 'European' 'Ice Cream' 'Kerala' 'Seafood' 'Pizza'\n",
      " 'Mithai' 'Rolls' 'Thai' 'Juices' 'Burger' 'Hyderabadi' 'Mediterranean'\n",
      " 'Gujarati' 'Mexican' 'Healthy Food' 'Sandwich' 'Indian' 'Coffee'\n",
      " 'Indonesian' 'BBQ' 'Bihari' 'Lebanese' 'Bengali' 'Chettinad' 'Mughlai'\n",
      " 'Street Food' 'Rajasthani' 'Portuguese' 'Oriya' 'Japanese' 'Ethiopian'\n",
      " 'Modern Indian' 'Spanish' 'Russian' 'Mangalorean' 'Turkish' 'Steak'\n",
      " 'Kebab' 'Wraps' 'Momos' 'Naga' 'Burmese' 'Malaysian' 'Korean' 'Tea'\n",
      " 'Sindhi' 'Vietnamese' 'Goan' 'French' 'Raw Meats' 'Salad'\n",
      " 'Middle Eastern' 'Kashmiri' 'North Eastern' 'Sri Lankan' 'Sushi'\n",
      " 'Tex-Mex' 'Afghan' 'Konkan' 'Bubble Tea' 'African' 'German' 'Drinks Only'\n",
      " 'Paan' 'Assamese' 'Nepalese' 'Hot dogs' 'Cafe Food' 'Awadhi' 'British'\n",
      " 'Bohri' 'Armenian' 'South American' 'Iranian' 'Lucknowi'\n",
      " 'Charcoal Chicken' 'Tamil' 'Pakistani' 'Irish' 'Multi Cuisine'\n",
      " 'Roast Chicken' 'Singaporean' 'Egyptian' 'Brazilian' 'Cantonese'] \n",
      "\n",
      "---- 1 >>> 101\n",
      "['Goan' 'Modern Indian' 'Chinese' '0' 'North Indian' 'Burger' 'Mughlai'\n",
      " 'Hyderabadi' 'Fast Food' 'Thai' 'European' 'Rolls' 'Italian'\n",
      " 'Continental' 'Tea' 'Coffee' 'Indonesian' 'Healthy Food' 'South Indian'\n",
      " 'Nepalese' 'Pizza' 'Desserts' 'Beverages' 'Street Food' 'Momos' 'Mithai'\n",
      " 'Biryani' 'Japanese' 'Mexican' 'Iranian' 'Kebab' 'Sandwich' 'Andhra'\n",
      " 'Seafood' 'Rajasthani' 'Tex-Mex' 'Kerala' 'Arabian' 'Ice Cream'\n",
      " 'American' 'Chettinad' 'Lebanese' 'Asian' 'Mediterranean' 'Juices'\n",
      " 'Finger Food' 'French' 'Gujarati' 'Bakery' 'Wraps' 'Lucknowi' 'Konkan'\n",
      " 'Cafe' 'Sushi' 'Salad' 'Bubble Tea' 'Afghan' 'BBQ' 'Awadhi'\n",
      " 'Maharashtrian' 'North Eastern' 'Bengali' 'Bihari' 'Malaysian' 'German'\n",
      " 'Turkish' 'Tibetan' 'Cantonese' 'Oriya' 'Kashmiri' 'Malwani'\n",
      " 'Mangalorean' 'Parsi' 'Korean' 'Burmese' 'Vietnamese' 'Tamil' 'Bar Food'\n",
      " 'Indian' 'Middle Eastern' 'Portuguese' 'Naga' 'Belgian' 'Sindhi'\n",
      " 'Roast Chicken' 'Spanish' 'Charcoal Chicken' 'Singaporean' 'Steak'\n",
      " 'Russian' 'Panini' 'Greek' 'Pakistani' 'Pan Asian' 'Oriental' 'British'\n",
      " 'Assamese' 'Grill' 'Sri Lankan' 'Mishti' 'Hawaiian'] \n",
      "\n",
      "---- 2 >>> 101\n",
      "['North Indian' 'Japanese' 'Biryani' '0' 'Seafood' 'Pizza' 'Fast Food'\n",
      " 'Beverages' 'Chinese' 'Momos' 'Mughlai' 'BBQ' 'Continental' 'Asian'\n",
      " 'European' 'Tea' 'Korean' 'American' 'Mexican' 'Indian' 'Burger'\n",
      " 'Healthy Food' 'Thai' 'Italian' 'Sandwich' 'Maharashtrian'\n",
      " 'Roast Chicken' 'South Indian' 'Ice Cream' 'Rolls' 'Chettinad' 'Kebab'\n",
      " 'Hyderabadi' 'North Eastern' 'Lebanese' 'Cafe' 'Salad' 'Desserts'\n",
      " 'Mithai' 'Street Food' 'Andhra' 'Lucknowi' 'Bengali' 'Steak' 'Sri Lankan'\n",
      " 'Arabian' 'Juices' 'Coffee' 'Mediterranean' 'Kerala' 'Indonesian'\n",
      " 'Malaysian' 'French' 'Bakery' 'Rajasthani' 'Wraps' 'Vietnamese' 'Grill'\n",
      " 'Singaporean' 'Malwani' 'Finger Food' 'Modern Indian' 'Sushi' 'Goan'\n",
      " 'Hot Pot' 'Mangalorean' 'Burmese' 'Afghan' 'Drinks Only' 'Moroccan'\n",
      " 'Panini' 'Tex-Mex' 'Awadhi' 'Bar Food' 'Charcoal Chicken' 'Turkish'\n",
      " 'Belgian' 'Oriya' 'Tibetan' 'Parsi' 'Kashmiri' 'Spanish' 'Paan' 'Konkan'\n",
      " 'British' 'Naga' 'Gujarati' 'Fusion' 'Peruvian' 'Middle Eastern'\n",
      " 'Mongolian' 'Cantonese' 'Modern Australian' 'Bubble Tea' 'African'\n",
      " 'Egyptian' 'South American' 'Nepalese' 'Tamil' 'Greek' 'Bihari'] \n",
      "\n",
      "---- 3 >>> 90\n",
      "['0' 'Hyderabadi' 'Biryani' 'North Indian' 'Rolls' 'Italian' 'American'\n",
      " 'Chinese' 'Healthy Food' 'Fast Food' 'Momos' 'Seafood' 'Malaysian' 'Thai'\n",
      " 'Beverages' 'Salad' 'Finger Food' 'Continental' 'Ice Cream' 'Rajasthani'\n",
      " 'Burmese' 'Mughlai' 'Coffee and Tea' 'Street Food' 'Japanese' 'Sandwich'\n",
      " 'Asian' 'Awadhi' 'European' 'Kebab' 'Juices' 'Mexican' 'Burger'\n",
      " 'South Indian' 'Desserts' 'Kerala' 'Goan' 'Modern Indian' 'BBQ'\n",
      " 'Mediterranean' 'Gujarati' 'Steak' 'Pizza' 'Afghan' 'Chettinad' 'Tea'\n",
      " 'Mithai' 'Indonesian' 'Bar Food' 'Bakery' 'Grill' 'Wraps' 'Konkan'\n",
      " 'Middle Eastern' 'Andhra' 'Korean' 'Vietnamese' 'Mangalorean' 'Malwani'\n",
      " 'Lebanese' 'Cafe' 'Tex-Mex' 'Spanish' 'Coffee' 'Arabian' 'Cafe Food'\n",
      " 'Sri Lankan' 'Mongolian' 'Sushi' 'Maharashtrian' 'Tibetan' 'Parsi'\n",
      " 'Turkish' 'Bengali' 'Indian' 'Iranian' 'Nepalese' 'Poké' 'Lucknowi'\n",
      " 'Cuisine Varies' 'French' 'Jewish' 'Oriya' 'British' 'Peruvian'\n",
      " 'Moroccan' 'Bubble Tea' 'Greek' 'Naga' 'South American'] \n",
      "\n",
      "---- 4 >>> 84\n",
      "['0' 'Burger' 'Healthy Food' 'Fast Food' 'Continental' 'Vietnamese'\n",
      " 'American' 'South Indian' 'Desserts' 'Chinese' 'Juices' 'Seafood' 'Grill'\n",
      " 'BBQ' 'Malaysian' 'Salad' 'Cafe' 'Goan' 'Japanese' 'Asian' 'Kebab'\n",
      " 'Pizza' 'Chettinad' 'Wraps' 'Beverages' 'Street Food' 'Momos' 'Andhra'\n",
      " 'Italian' 'Finger Food' 'Mughlai' 'North Indian' 'French' 'Rajasthani'\n",
      " 'Middle Eastern' 'Sandwich' 'Mithai' 'Pan Asian' 'Arabian' 'Thai'\n",
      " 'Tibetan' 'Hyderabadi' 'Coffee' 'Rolls' 'Sushi' 'Biryani' 'Mangalorean'\n",
      " 'European' 'German' 'Gujarati' 'Ice Cream' 'Malwani' 'Korean' 'Spanish'\n",
      " 'Steak' 'Indonesian' 'Singaporean' 'Mexican' 'Bengali' 'Maharashtrian'\n",
      " 'Bar Food' 'Kerala' 'Lucknowi' 'Lebanese' 'Poké' 'Mediterranean' 'Bakery'\n",
      " 'Fusion' 'Awadhi' 'Burmese' 'Bubble Tea' 'Kashmiri' 'Indian' 'Nepalese'\n",
      " 'Afghan' 'Iranian' 'Tea' 'Modern Indian' 'Greek' 'Moroccan' 'Falafel'\n",
      " 'Cuisine Varies' 'Konkan' 'Vegan'] \n",
      "\n",
      "---- 5 >>> 76\n",
      "['0' 'Japanese' 'Arabian' 'North Indian' 'Beverages' 'Asian' 'Pizza'\n",
      " 'Momos' 'Coffee' 'Kebab' 'Desserts' 'Rolls' 'Cafe' 'Sandwich' 'Burger'\n",
      " 'Salad' 'Juices' 'Seafood' 'South Indian' 'Goan' 'Fast Food'\n",
      " 'Healthy Food' 'Italian' 'Street Food' 'Burmese' 'Mexican' 'Sri Lankan'\n",
      " 'Steak' 'Kerala' 'Satay' 'Awadhi' 'Biryani' 'Chinese' 'Finger Food'\n",
      " 'Lebanese' 'Mughlai' 'American' 'European' 'Continental' 'Malaysian'\n",
      " 'Wraps' 'Tea' 'Hyderabadi' 'Cafe Food' 'Konkan' 'Mediterranean' 'Bengali'\n",
      " 'Thai' 'Mithai' 'Tex-Mex' 'Indian' 'Gujarati' 'Charcoal Chicken'\n",
      " 'Ice Cream' 'Poké' 'Grill' 'Bar Food' 'Panini' 'French' 'Sushi'\n",
      " 'Vietnamese' 'Afghan' 'Bakery' 'Vegan' 'Singaporean' 'Parsi' 'Korean'\n",
      " 'Middle Eastern' '' 'BBQ' 'Portuguese' 'Iranian' 'Modern Indian'\n",
      " 'Malwani' 'Roast Chicken' 'Tibetan'] \n",
      "\n",
      "---- 6 >>> 57\n",
      "['0' 'Biryani' 'Tea' 'Burger' 'Sandwich' '' 'European' 'North Indian'\n",
      " 'Italian' 'BBQ' 'Vietnamese' 'Pizza' 'Salad' 'Dumplings' 'Desserts'\n",
      " 'Burmese' 'Seafood' 'Beverages' 'French' 'Arabian' 'Chinese' 'Lucknowi'\n",
      " 'Healthy Food' 'Mangalorean' 'Momos' 'Indonesian' 'Mughlai'\n",
      " 'Mediterranean' 'Lebanese' 'Parsi' 'Juices' 'Middle Eastern'\n",
      " 'Continental' 'Bakery' 'Kebab' 'Afghan' 'Turkish' 'American' 'Thai'\n",
      " 'South Indian' 'Steak' 'Modern Indian' 'Coffee' 'Japanese' 'Malaysian'\n",
      " 'Rolls' 'Spanish' 'Cafe Food' 'Malwani' 'Asian' 'Hyderabadi' 'Fast Food'\n",
      " 'Grill' 'Mexican' 'Kerala' 'Oriental' 'Finger Food'] \n",
      "\n",
      "---- 7 >>> 23\n",
      "['0' '' 'Healthy Food' 'Pizza' 'Ice Cream' 'Lebanese' 'Desserts' 'Asian'\n",
      " 'Mexican' 'Fast Food' 'Rolls' 'Beverages' 'Chinese' 'Momos'\n",
      " 'North Indian' 'Burger' 'Coffee and Tea' 'Cafe Food' 'Salad' 'European'\n",
      " 'Fish and Chips' 'Grill' 'Juices'] \n",
      "\n"
     ]
    }
   ],
   "source": [
    "for i in data:\n",
    "    data[i]=data[i].str.strip()\n",
    "    print('----',i,'>>>', data[i].nunique())\n",
    "    print(data[i].unique(), '\\n')"
   ]
  },
  {
   "cell_type": "code",
   "execution_count": 24,
   "metadata": {},
   "outputs": [
    {
     "data": {
      "text/html": [
       "<div>\n",
       "<style scoped>\n",
       "    .dataframe tbody tr th:only-of-type {\n",
       "        vertical-align: middle;\n",
       "    }\n",
       "\n",
       "    .dataframe tbody tr th {\n",
       "        vertical-align: top;\n",
       "    }\n",
       "\n",
       "    .dataframe thead th {\n",
       "        text-align: right;\n",
       "    }\n",
       "</style>\n",
       "<table border=\"1\" class=\"dataframe\">\n",
       "  <thead>\n",
       "    <tr style=\"text-align: right;\">\n",
       "      <th></th>\n",
       "      <th>0</th>\n",
       "      <th>1</th>\n",
       "      <th>2</th>\n",
       "      <th>3</th>\n",
       "      <th>4</th>\n",
       "      <th>5</th>\n",
       "      <th>6</th>\n",
       "      <th>7</th>\n",
       "    </tr>\n",
       "  </thead>\n",
       "  <tbody>\n",
       "    <tr>\n",
       "      <td>3022</td>\n",
       "      <td>Afghan</td>\n",
       "      <td>Mughlai</td>\n",
       "      <td>0</td>\n",
       "      <td>0</td>\n",
       "      <td>0</td>\n",
       "      <td>0</td>\n",
       "      <td>0</td>\n",
       "      <td>0</td>\n",
       "    </tr>\n",
       "    <tr>\n",
       "      <td>15700</td>\n",
       "      <td>African</td>\n",
       "      <td>Burger</td>\n",
       "      <td>Desserts</td>\n",
       "      <td>Beverages</td>\n",
       "      <td>Fast Food</td>\n",
       "      <td>Salad</td>\n",
       "      <td>0</td>\n",
       "      <td>0</td>\n",
       "    </tr>\n",
       "    <tr>\n",
       "      <td>3504</td>\n",
       "      <td>African</td>\n",
       "      <td>Burger</td>\n",
       "      <td>Desserts</td>\n",
       "      <td>Beverages</td>\n",
       "      <td>Fast Food</td>\n",
       "      <td>Salad</td>\n",
       "      <td>0</td>\n",
       "      <td>0</td>\n",
       "    </tr>\n",
       "    <tr>\n",
       "      <td>14453</td>\n",
       "      <td>American</td>\n",
       "      <td>Italian</td>\n",
       "      <td>Mexican</td>\n",
       "      <td>0</td>\n",
       "      <td>0</td>\n",
       "      <td>0</td>\n",
       "      <td>0</td>\n",
       "      <td>0</td>\n",
       "    </tr>\n",
       "    <tr>\n",
       "      <td>8707</td>\n",
       "      <td>American</td>\n",
       "      <td>Tex-Mex</td>\n",
       "      <td>Burger</td>\n",
       "      <td>BBQ</td>\n",
       "      <td>0</td>\n",
       "      <td>0</td>\n",
       "      <td>0</td>\n",
       "      <td>0</td>\n",
       "    </tr>\n",
       "    <tr>\n",
       "      <td>...</td>\n",
       "      <td>...</td>\n",
       "      <td>...</td>\n",
       "      <td>...</td>\n",
       "      <td>...</td>\n",
       "      <td>...</td>\n",
       "      <td>...</td>\n",
       "      <td>...</td>\n",
       "      <td>...</td>\n",
       "    </tr>\n",
       "    <tr>\n",
       "      <td>15838</td>\n",
       "      <td>Vietnamese</td>\n",
       "      <td>0</td>\n",
       "      <td>0</td>\n",
       "      <td>0</td>\n",
       "      <td>0</td>\n",
       "      <td>0</td>\n",
       "      <td>0</td>\n",
       "      <td>0</td>\n",
       "    </tr>\n",
       "    <tr>\n",
       "      <td>747</td>\n",
       "      <td>Wraps</td>\n",
       "      <td>0</td>\n",
       "      <td>0</td>\n",
       "      <td>0</td>\n",
       "      <td>0</td>\n",
       "      <td>0</td>\n",
       "      <td>0</td>\n",
       "      <td>0</td>\n",
       "    </tr>\n",
       "    <tr>\n",
       "      <td>3356</td>\n",
       "      <td>Wraps</td>\n",
       "      <td>Biryani</td>\n",
       "      <td>North Indian</td>\n",
       "      <td>Kebab</td>\n",
       "      <td>Desserts</td>\n",
       "      <td>Salad</td>\n",
       "      <td>Pizza</td>\n",
       "      <td>0</td>\n",
       "    </tr>\n",
       "    <tr>\n",
       "      <td>9301</td>\n",
       "      <td>Wraps</td>\n",
       "      <td>Fast Food</td>\n",
       "      <td>0</td>\n",
       "      <td>0</td>\n",
       "      <td>0</td>\n",
       "      <td>0</td>\n",
       "      <td>0</td>\n",
       "      <td>0</td>\n",
       "    </tr>\n",
       "    <tr>\n",
       "      <td>6761</td>\n",
       "      <td>Wraps</td>\n",
       "      <td>Sandwich</td>\n",
       "      <td>Rolls</td>\n",
       "      <td>Fast Food</td>\n",
       "      <td>Burger</td>\n",
       "      <td>Pizza</td>\n",
       "      <td>0</td>\n",
       "      <td>0</td>\n",
       "    </tr>\n",
       "  </tbody>\n",
       "</table>\n",
       "<p>16921 rows × 8 columns</p>\n",
       "</div>"
      ],
      "text/plain": [
       "                0          1             2          3          4      5  \\\n",
       "3022       Afghan    Mughlai             0          0          0      0   \n",
       "15700     African     Burger      Desserts  Beverages  Fast Food  Salad   \n",
       "3504      African     Burger      Desserts  Beverages  Fast Food  Salad   \n",
       "14453    American    Italian       Mexican          0          0      0   \n",
       "8707     American    Tex-Mex        Burger        BBQ          0      0   \n",
       "...           ...        ...           ...        ...        ...    ...   \n",
       "15838  Vietnamese          0             0          0          0      0   \n",
       "747         Wraps          0             0          0          0      0   \n",
       "3356        Wraps    Biryani  North Indian      Kebab   Desserts  Salad   \n",
       "9301        Wraps  Fast Food             0          0          0      0   \n",
       "6761        Wraps   Sandwich         Rolls  Fast Food     Burger  Pizza   \n",
       "\n",
       "           6  7  \n",
       "3022       0  0  \n",
       "15700      0  0  \n",
       "3504       0  0  \n",
       "14453      0  0  \n",
       "8707       0  0  \n",
       "...      ... ..  \n",
       "15838      0  0  \n",
       "747        0  0  \n",
       "3356   Pizza  0  \n",
       "9301       0  0  \n",
       "6761       0  0  \n",
       "\n",
       "[16921 rows x 8 columns]"
      ]
     },
     "execution_count": 24,
     "metadata": {},
     "output_type": "execute_result"
    }
   ],
   "source": [
    "data.sort_values(by=0, ascending=True)"
   ]
  },
  {
   "cell_type": "code",
   "execution_count": 25,
   "metadata": {},
   "outputs": [
    {
     "data": {
      "text/plain": [
       "130"
      ]
     },
     "execution_count": 25,
     "metadata": {},
     "output_type": "execute_result"
    }
   ],
   "source": [
    "lst = []\n",
    "for i in data:\n",
    "    lst = lst + data[i].unique().tolist()\n",
    "lst = sorted(set(filter(None, lst)))\n",
    "len(lst)"
   ]
  },
  {
   "cell_type": "code",
   "execution_count": 26,
   "metadata": {},
   "outputs": [],
   "source": [
    "data1 = data.apply(pd.Series.value_counts, axis=1)[lst].fillna(0)\n",
    "data1.drop(columns=['0'], axis=1, inplace=True)\n",
    "data1 = data1.astype(int)"
   ]
  },
  {
   "cell_type": "code",
   "execution_count": 27,
   "metadata": {},
   "outputs": [
    {
     "data": {
      "text/html": [
       "<div>\n",
       "<style scoped>\n",
       "    .dataframe tbody tr th:only-of-type {\n",
       "        vertical-align: middle;\n",
       "    }\n",
       "\n",
       "    .dataframe tbody tr th {\n",
       "        vertical-align: top;\n",
       "    }\n",
       "\n",
       "    .dataframe thead th {\n",
       "        text-align: right;\n",
       "    }\n",
       "</style>\n",
       "<table border=\"1\" class=\"dataframe\">\n",
       "  <thead>\n",
       "    <tr style=\"text-align: right;\">\n",
       "      <th></th>\n",
       "      <th>CITY</th>\n",
       "      <th>COST</th>\n",
       "      <th>CUISINES</th>\n",
       "      <th>LOCALITY</th>\n",
       "      <th>RATING</th>\n",
       "      <th>RESTAURANT_ID</th>\n",
       "      <th>TIME</th>\n",
       "      <th>VOTES</th>\n",
       "      <th>CASUAL DINING</th>\n",
       "      <th>BAR</th>\n",
       "      <th>...</th>\n",
       "      <th>Sushi</th>\n",
       "      <th>Tamil</th>\n",
       "      <th>Tea</th>\n",
       "      <th>Tex-Mex</th>\n",
       "      <th>Thai</th>\n",
       "      <th>Tibetan</th>\n",
       "      <th>Turkish</th>\n",
       "      <th>Vegan</th>\n",
       "      <th>Vietnamese</th>\n",
       "      <th>Wraps</th>\n",
       "    </tr>\n",
       "  </thead>\n",
       "  <tbody>\n",
       "    <tr>\n",
       "      <td>0</td>\n",
       "      <td>Thane</td>\n",
       "      <td>1200.0</td>\n",
       "      <td>Malwani, Goan, North Indian</td>\n",
       "      <td>Dombivali East</td>\n",
       "      <td>3.6</td>\n",
       "      <td>9438</td>\n",
       "      <td>11am – 4pm, 7:30pm – 11:30pm (Mon-Sun)</td>\n",
       "      <td>49</td>\n",
       "      <td>1</td>\n",
       "      <td>0</td>\n",
       "      <td>...</td>\n",
       "      <td>0</td>\n",
       "      <td>0</td>\n",
       "      <td>0</td>\n",
       "      <td>0</td>\n",
       "      <td>0</td>\n",
       "      <td>0</td>\n",
       "      <td>0</td>\n",
       "      <td>0</td>\n",
       "      <td>0</td>\n",
       "      <td>0</td>\n",
       "    </tr>\n",
       "    <tr>\n",
       "      <td>1</td>\n",
       "      <td>Chennai</td>\n",
       "      <td>1500.0</td>\n",
       "      <td>Asian, Modern Indian, Japanese</td>\n",
       "      <td>Ramapuram</td>\n",
       "      <td>4.2</td>\n",
       "      <td>13198</td>\n",
       "      <td>6pm – 11pm (Mon-Sun)</td>\n",
       "      <td>30</td>\n",
       "      <td>0</td>\n",
       "      <td>0</td>\n",
       "      <td>...</td>\n",
       "      <td>0</td>\n",
       "      <td>0</td>\n",
       "      <td>0</td>\n",
       "      <td>0</td>\n",
       "      <td>0</td>\n",
       "      <td>0</td>\n",
       "      <td>0</td>\n",
       "      <td>0</td>\n",
       "      <td>0</td>\n",
       "      <td>0</td>\n",
       "    </tr>\n",
       "    <tr>\n",
       "      <td>2</td>\n",
       "      <td>Chennai</td>\n",
       "      <td>800.0</td>\n",
       "      <td>North Indian, Chinese, Biryani, Hyderabadi</td>\n",
       "      <td>Saligramam</td>\n",
       "      <td>3.8</td>\n",
       "      <td>10915</td>\n",
       "      <td>11am – 3:30pm, 7pm – 11pm (Mon-Sun)</td>\n",
       "      <td>221</td>\n",
       "      <td>1</td>\n",
       "      <td>0</td>\n",
       "      <td>...</td>\n",
       "      <td>0</td>\n",
       "      <td>0</td>\n",
       "      <td>0</td>\n",
       "      <td>0</td>\n",
       "      <td>0</td>\n",
       "      <td>0</td>\n",
       "      <td>0</td>\n",
       "      <td>0</td>\n",
       "      <td>0</td>\n",
       "      <td>0</td>\n",
       "    </tr>\n",
       "    <tr>\n",
       "      <td>3</td>\n",
       "      <td>Mumbai</td>\n",
       "      <td>800.0</td>\n",
       "      <td>Tibetan, Chinese</td>\n",
       "      <td>Bandra West</td>\n",
       "      <td>4.1</td>\n",
       "      <td>6346</td>\n",
       "      <td>11:30am – 1am (Mon-Sun)</td>\n",
       "      <td>24</td>\n",
       "      <td>0</td>\n",
       "      <td>0</td>\n",
       "      <td>...</td>\n",
       "      <td>0</td>\n",
       "      <td>0</td>\n",
       "      <td>0</td>\n",
       "      <td>0</td>\n",
       "      <td>0</td>\n",
       "      <td>1</td>\n",
       "      <td>0</td>\n",
       "      <td>0</td>\n",
       "      <td>0</td>\n",
       "      <td>0</td>\n",
       "    </tr>\n",
       "    <tr>\n",
       "      <td>4</td>\n",
       "      <td>Mumbai</td>\n",
       "      <td>300.0</td>\n",
       "      <td>Desserts</td>\n",
       "      <td>Lower Parel</td>\n",
       "      <td>3.8</td>\n",
       "      <td>15387</td>\n",
       "      <td>11am – 1am (Mon-Sun)</td>\n",
       "      <td>165</td>\n",
       "      <td>0</td>\n",
       "      <td>0</td>\n",
       "      <td>...</td>\n",
       "      <td>0</td>\n",
       "      <td>0</td>\n",
       "      <td>0</td>\n",
       "      <td>0</td>\n",
       "      <td>0</td>\n",
       "      <td>0</td>\n",
       "      <td>0</td>\n",
       "      <td>0</td>\n",
       "      <td>0</td>\n",
       "      <td>0</td>\n",
       "    </tr>\n",
       "  </tbody>\n",
       "</table>\n",
       "<p>5 rows × 162 columns</p>\n",
       "</div>"
      ],
      "text/plain": [
       "      CITY    COST                                    CUISINES  \\\n",
       "0    Thane  1200.0                 Malwani, Goan, North Indian   \n",
       "1  Chennai  1500.0              Asian, Modern Indian, Japanese   \n",
       "2  Chennai   800.0  North Indian, Chinese, Biryani, Hyderabadi   \n",
       "3   Mumbai   800.0                            Tibetan, Chinese   \n",
       "4   Mumbai   300.0                                    Desserts   \n",
       "\n",
       "         LOCALITY RATING  RESTAURANT_ID  \\\n",
       "0  Dombivali East    3.6           9438   \n",
       "1       Ramapuram    4.2          13198   \n",
       "2      Saligramam    3.8          10915   \n",
       "3     Bandra West    4.1           6346   \n",
       "4     Lower Parel    3.8          15387   \n",
       "\n",
       "                                     TIME VOTES  CASUAL DINING  BAR  ...  \\\n",
       "0  11am – 4pm, 7:30pm – 11:30pm (Mon-Sun)    49              1    0  ...   \n",
       "1                    6pm – 11pm (Mon-Sun)    30              0    0  ...   \n",
       "2     11am – 3:30pm, 7pm – 11pm (Mon-Sun)   221              1    0  ...   \n",
       "3                 11:30am – 1am (Mon-Sun)    24              0    0  ...   \n",
       "4                    11am – 1am (Mon-Sun)   165              0    0  ...   \n",
       "\n",
       "   Sushi  Tamil  Tea  Tex-Mex  Thai  Tibetan  Turkish  Vegan  Vietnamese  \\\n",
       "0      0      0    0        0     0        0        0      0           0   \n",
       "1      0      0    0        0     0        0        0      0           0   \n",
       "2      0      0    0        0     0        0        0      0           0   \n",
       "3      0      0    0        0     0        1        0      0           0   \n",
       "4      0      0    0        0     0        0        0      0           0   \n",
       "\n",
       "   Wraps  \n",
       "0      0  \n",
       "1      0  \n",
       "2      0  \n",
       "3      0  \n",
       "4      0  \n",
       "\n",
       "[5 rows x 162 columns]"
      ]
     },
     "execution_count": 27,
     "metadata": {},
     "output_type": "execute_result"
    }
   ],
   "source": [
    "df=pd.concat([df, data1], axis=1)\n",
    "df.head(5)"
   ]
  },
  {
   "cell_type": "code",
   "execution_count": 28,
   "metadata": {},
   "outputs": [],
   "source": [
    "df['Cuisine_Count'] = df['CUISINES'].str.count(',') + 1"
   ]
  },
  {
   "cell_type": "markdown",
   "metadata": {},
   "source": [
    "### Data Cleaning - CITY"
   ]
  },
  {
   "cell_type": "code",
   "execution_count": 29,
   "metadata": {},
   "outputs": [
    {
     "data": {
      "text/html": [
       "<div>\n",
       "<style scoped>\n",
       "    .dataframe tbody tr th:only-of-type {\n",
       "        vertical-align: middle;\n",
       "    }\n",
       "\n",
       "    .dataframe tbody tr th {\n",
       "        vertical-align: top;\n",
       "    }\n",
       "\n",
       "    .dataframe thead th {\n",
       "        text-align: right;\n",
       "    }\n",
       "</style>\n",
       "<table border=\"1\" class=\"dataframe\">\n",
       "  <thead>\n",
       "    <tr style=\"text-align: right;\">\n",
       "      <th></th>\n",
       "      <th>CITY</th>\n",
       "      <th>COST</th>\n",
       "      <th>CUISINES</th>\n",
       "      <th>LOCALITY</th>\n",
       "      <th>RATING</th>\n",
       "      <th>RESTAURANT_ID</th>\n",
       "      <th>TIME</th>\n",
       "      <th>VOTES</th>\n",
       "      <th>CASUAL DINING</th>\n",
       "      <th>BAR</th>\n",
       "      <th>...</th>\n",
       "      <th>Tamil</th>\n",
       "      <th>Tea</th>\n",
       "      <th>Tex-Mex</th>\n",
       "      <th>Thai</th>\n",
       "      <th>Tibetan</th>\n",
       "      <th>Turkish</th>\n",
       "      <th>Vegan</th>\n",
       "      <th>Vietnamese</th>\n",
       "      <th>Wraps</th>\n",
       "      <th>Cuisine_Count</th>\n",
       "    </tr>\n",
       "  </thead>\n",
       "  <tbody>\n",
       "    <tr>\n",
       "      <td>0</td>\n",
       "      <td>Thane</td>\n",
       "      <td>1200.0</td>\n",
       "      <td>Malwani, Goan, North Indian</td>\n",
       "      <td>Dombivali East</td>\n",
       "      <td>3.6</td>\n",
       "      <td>9438</td>\n",
       "      <td>11am – 4pm, 7:30pm – 11:30pm (Mon-Sun)</td>\n",
       "      <td>49</td>\n",
       "      <td>1</td>\n",
       "      <td>0</td>\n",
       "      <td>...</td>\n",
       "      <td>0</td>\n",
       "      <td>0</td>\n",
       "      <td>0</td>\n",
       "      <td>0</td>\n",
       "      <td>0</td>\n",
       "      <td>0</td>\n",
       "      <td>0</td>\n",
       "      <td>0</td>\n",
       "      <td>0</td>\n",
       "      <td>3</td>\n",
       "    </tr>\n",
       "    <tr>\n",
       "      <td>1</td>\n",
       "      <td>Chennai</td>\n",
       "      <td>1500.0</td>\n",
       "      <td>Asian, Modern Indian, Japanese</td>\n",
       "      <td>Ramapuram</td>\n",
       "      <td>4.2</td>\n",
       "      <td>13198</td>\n",
       "      <td>6pm – 11pm (Mon-Sun)</td>\n",
       "      <td>30</td>\n",
       "      <td>0</td>\n",
       "      <td>0</td>\n",
       "      <td>...</td>\n",
       "      <td>0</td>\n",
       "      <td>0</td>\n",
       "      <td>0</td>\n",
       "      <td>0</td>\n",
       "      <td>0</td>\n",
       "      <td>0</td>\n",
       "      <td>0</td>\n",
       "      <td>0</td>\n",
       "      <td>0</td>\n",
       "      <td>3</td>\n",
       "    </tr>\n",
       "  </tbody>\n",
       "</table>\n",
       "<p>2 rows × 163 columns</p>\n",
       "</div>"
      ],
      "text/plain": [
       "      CITY    COST                        CUISINES        LOCALITY RATING  \\\n",
       "0    Thane  1200.0     Malwani, Goan, North Indian  Dombivali East    3.6   \n",
       "1  Chennai  1500.0  Asian, Modern Indian, Japanese       Ramapuram    4.2   \n",
       "\n",
       "   RESTAURANT_ID                                    TIME VOTES  CASUAL DINING  \\\n",
       "0           9438  11am – 4pm, 7:30pm – 11:30pm (Mon-Sun)    49              1   \n",
       "1          13198                    6pm – 11pm (Mon-Sun)    30              0   \n",
       "\n",
       "   BAR  ...  Tamil  Tea  Tex-Mex  Thai  Tibetan  Turkish  Vegan  Vietnamese  \\\n",
       "0    0  ...      0    0        0     0        0        0      0           0   \n",
       "1    0  ...      0    0        0     0        0        0      0           0   \n",
       "\n",
       "   Wraps  Cuisine_Count  \n",
       "0      0              3  \n",
       "1      0              3  \n",
       "\n",
       "[2 rows x 163 columns]"
      ]
     },
     "execution_count": 29,
     "metadata": {},
     "output_type": "execute_result"
    }
   ],
   "source": [
    "df.head(2)"
   ]
  },
  {
   "cell_type": "code",
   "execution_count": 30,
   "metadata": {},
   "outputs": [
    {
     "data": {
      "text/plain": [
       "451"
      ]
     },
     "execution_count": 30,
     "metadata": {},
     "output_type": "execute_result"
    }
   ],
   "source": [
    "df['CITY'].fillna('Unknown', inplace=True)\n",
    "city_lst = df['CITY'].unique().tolist()\n",
    "city_list = sorted(set(filter(None, city_lst)))\n",
    "len(city_lst)"
   ]
  },
  {
   "cell_type": "code",
   "execution_count": 31,
   "metadata": {},
   "outputs": [
    {
     "name": "stdout",
     "output_type": "stream",
     "text": [
      "Total CITIES :: 451 \n",
      "\n",
      "Chennai          2855\n",
      "Bangalore        2835\n",
      "Hyderabad        2458\n",
      "Mumbai           2311\n",
      "New Delhi        1754\n",
      "Kochi            1751\n",
      "Gurgaon           524\n",
      "Secunderabad      396\n",
      "Noida             274\n",
      "Navi Mumbai       222\n",
      "Unknown           147\n",
      "Ghaziabad         132\n",
      "Thane             118\n",
      "Faridabad         109\n",
      "Bandra West        85\n",
      "Thane West         73\n",
      "Andheri West       69\n",
      "Bengaluru          61\n",
      "Greater Noida      38\n",
      "India              31\n",
      "Name: CITY, dtype: int64\n"
     ]
    }
   ],
   "source": [
    "print('Total CITIES ::', len(df['CITY'].value_counts()),'\\n')\n",
    "print(df['CITY'].value_counts().head(20))"
   ]
  },
  {
   "cell_type": "markdown",
   "metadata": {},
   "source": [
    "Observations:\n",
    "    1. We have replaced missing values with 'Unknown'.\n",
    "    2. We will replace 'India' with missing values too.\n",
    "    3. we will group closeby cities together into a common name.\n",
    "    4. We will first identify if the top city names are available in other strings and replace it with main city."
   ]
  },
  {
   "cell_type": "code",
   "execution_count": 32,
   "metadata": {},
   "outputs": [],
   "source": [
    "data=df['CITY']"
   ]
  },
  {
   "cell_type": "code",
   "execution_count": 33,
   "metadata": {},
   "outputs": [],
   "source": [
    "def classify(num, value):\n",
    "    for i in num:\n",
    "        data[i] = value"
   ]
  },
  {
   "cell_type": "code",
   "execution_count": 34,
   "metadata": {},
   "outputs": [],
   "source": [
    "main_city = ['Chennai', 'Bangalore', 'Hyderabad', 'Mumbai', 'New Delhi', 'Kochi']\n",
    "for i in main_city:\n",
    "    ind = data[(data.str.contains(i))].index\n",
    "    classify(ind, i)"
   ]
  },
  {
   "cell_type": "code",
   "execution_count": 35,
   "metadata": {},
   "outputs": [
    {
     "data": {
      "text/plain": [
       "Chennai         2894\n",
       "Bangalore       2855\n",
       "Mumbai          2566\n",
       "Hyderabad       2477\n",
       "Kochi           1773\n",
       "New Delhi       1765\n",
       "Gurgaon          524\n",
       "Secunderabad     396\n",
       "Noida            274\n",
       "Unknown          147\n",
       "Ghaziabad        132\n",
       "Thane            118\n",
       "Faridabad        109\n",
       "Bandra West       85\n",
       "Thane West        73\n",
       "Name: CITY, dtype: int64"
      ]
     },
     "execution_count": 35,
     "metadata": {},
     "output_type": "execute_result"
    }
   ],
   "source": [
    "data.value_counts().head(15)"
   ]
  },
  {
   "cell_type": "code",
   "execution_count": 36,
   "metadata": {},
   "outputs": [],
   "source": [
    "ind = data[(data.str.contains('Kerala')) | (data.str.contains('Aluva')) | (data.str.contains('Palarivattom')) | (data.str.contains('Kakkanad')) | (data.str.contains('Ernakulam')) | (data.str.contains('THRISSUR')) | (data.str.contains('Kochi')) | (data.str.contains('Edappally')) | (data.str.contains('kochi')) | (data.str.contains('Kaloor'))].index\n",
    "classify(ind, 'City_Kerala')"
   ]
  },
  {
   "cell_type": "code",
   "execution_count": 37,
   "metadata": {},
   "outputs": [],
   "source": [
    "ind = data[(data.str.contains('Delhi'))].index\n",
    "classify(ind, 'New Delhi')"
   ]
  },
  {
   "cell_type": "code",
   "execution_count": 38,
   "metadata": {},
   "outputs": [],
   "source": [
    "ind = data[(data.str.contains('India'))].index\n",
    "classify(ind, 'Unknown')"
   ]
  },
  {
   "cell_type": "code",
   "execution_count": 39,
   "metadata": {},
   "outputs": [],
   "source": [
    "ind = data[(data.str.contains('Greater')) | (data.str.contains('Uttar')) | (data.str.contains('Noida')) | (data.str.contains('Ghaziabad')) | (data.str.contains('Noida'))].index\n",
    "classify(ind, 'Uttar Pradesh') "
   ]
  },
  {
   "cell_type": "code",
   "execution_count": 40,
   "metadata": {},
   "outputs": [],
   "source": [
    "ind = data[(data.str.contains('Banglore')) |(data.str.contains('Karna'))  |(data.str.contains('Bangalore')) | (data.str.contains('Besant')) | (data.str.contains('Bengaluru')) | (data.str.contains('Whitefield')) | (data.str.contains('Bengalore')) | (data.str.contains(r'Bang', re.I)) | (data.str.contains('JP')) | (data.str.contains('Service'))].index\n",
    "classify(ind, 'Karnataka')"
   ]
  },
  {
   "cell_type": "code",
   "execution_count": 41,
   "metadata": {},
   "outputs": [],
   "source": [
    "ind = data[(data.str.contains('West')) | (data.str.contains('Maharashtra')) | (data.str.contains('west')) | (data.str.contains('Thane')) & (~data.str.contains('Maredpally')) & (~data.str.contains('Anna'))].index\n",
    "classify(ind, 'Maharashtra')"
   ]
  },
  {
   "cell_type": "code",
   "execution_count": 42,
   "metadata": {},
   "outputs": [],
   "source": [
    "ind = data[(data.str.contains(r'Hydera', re.I)) | (data.str.contains(r'Himayath', re.I))].index\n",
    "classify(ind, 'Hyderabad')"
   ]
  },
  {
   "cell_type": "code",
   "execution_count": 43,
   "metadata": {},
   "outputs": [],
   "source": [
    "ind = data[(data.str.contains(r'Secunderabad', re.I)) | (data.str.contains(r'Telangana', re.I)) | (data.str.contains(r'Madhapur', re.I))].index\n",
    "classify(ind, 'Telangana')"
   ]
  },
  {
   "cell_type": "code",
   "execution_count": 44,
   "metadata": {},
   "outputs": [],
   "source": [
    "ind = data[(data.str.contains('Faridabad')) | (data.str.contains('Gurgaon')) | (data.str.contains(r'Gurugram', re.I))].index\n",
    "classify(ind, 'Haryana')"
   ]
  },
  {
   "cell_type": "code",
   "execution_count": 45,
   "metadata": {},
   "outputs": [],
   "source": [
    "ind = data[(data.str.contains('chennai')) | (data.str.contains('Tamil')) | (data.str.contains('Chennai')) | (data.str.contains('Velachery'))].index\n",
    "classify(ind, 'Tamil Nadu')"
   ]
  },
  {
   "cell_type": "code",
   "execution_count": 46,
   "metadata": {},
   "outputs": [],
   "source": [
    "searchfor = ['City_Kerala', 'New Delhi', 'Unknown', 'Uttar Pradesh', 'Karnataka', 'Maharashtra', 'Hyderabad', 'Telangana', 'Haryana', 'Tamil Nadu']\n",
    "ind = data[(~data.str.contains('|'.join(searchfor)))].index\n",
    "classify(ind, 'Others')"
   ]
  },
  {
   "cell_type": "code",
   "execution_count": 47,
   "metadata": {},
   "outputs": [],
   "source": [
    "lst1 = ['City_Kerala', 'New Delhi', 'Unknown', 'Uttar Pradesh', 'Karnataka', 'Maharashtra', 'Hyderabad', 'Telangana', 'Haryana', 'Tamil Nadu', 'Others']\n",
    "data1 = pd.DataFrame(data).apply(pd.Series.value_counts, axis=1)[lst1].fillna(0)\n",
    "data1 = pd.DataFrame(data1)"
   ]
  },
  {
   "cell_type": "code",
   "execution_count": 48,
   "metadata": {},
   "outputs": [
    {
     "data": {
      "text/html": [
       "<div>\n",
       "<style scoped>\n",
       "    .dataframe tbody tr th:only-of-type {\n",
       "        vertical-align: middle;\n",
       "    }\n",
       "\n",
       "    .dataframe tbody tr th {\n",
       "        vertical-align: top;\n",
       "    }\n",
       "\n",
       "    .dataframe thead th {\n",
       "        text-align: right;\n",
       "    }\n",
       "</style>\n",
       "<table border=\"1\" class=\"dataframe\">\n",
       "  <thead>\n",
       "    <tr style=\"text-align: right;\">\n",
       "      <th></th>\n",
       "      <th>New_City</th>\n",
       "    </tr>\n",
       "  </thead>\n",
       "  <tbody>\n",
       "    <tr>\n",
       "      <td>0</td>\n",
       "      <td>Maharashtra</td>\n",
       "    </tr>\n",
       "    <tr>\n",
       "      <td>1</td>\n",
       "      <td>Tamil Nadu</td>\n",
       "    </tr>\n",
       "  </tbody>\n",
       "</table>\n",
       "</div>"
      ],
      "text/plain": [
       "      New_City\n",
       "0  Maharashtra\n",
       "1   Tamil Nadu"
      ]
     },
     "execution_count": 48,
     "metadata": {},
     "output_type": "execute_result"
    }
   ],
   "source": [
    "data = pd.DataFrame(data)\n",
    "data.columns = ['New_City']\n",
    "data.head(2)"
   ]
  },
  {
   "cell_type": "code",
   "execution_count": 49,
   "metadata": {},
   "outputs": [
    {
     "data": {
      "text/html": [
       "<div>\n",
       "<style scoped>\n",
       "    .dataframe tbody tr th:only-of-type {\n",
       "        vertical-align: middle;\n",
       "    }\n",
       "\n",
       "    .dataframe tbody tr th {\n",
       "        vertical-align: top;\n",
       "    }\n",
       "\n",
       "    .dataframe thead th {\n",
       "        text-align: right;\n",
       "    }\n",
       "</style>\n",
       "<table border=\"1\" class=\"dataframe\">\n",
       "  <thead>\n",
       "    <tr style=\"text-align: right;\">\n",
       "      <th></th>\n",
       "      <th>COST</th>\n",
       "      <th>LOCALITY</th>\n",
       "      <th>RATING</th>\n",
       "      <th>RESTAURANT_ID</th>\n",
       "      <th>TIME</th>\n",
       "      <th>VOTES</th>\n",
       "      <th>CASUAL DINING</th>\n",
       "      <th>BAR</th>\n",
       "      <th>QUICK BITES</th>\n",
       "      <th>DESSERT PARLOR</th>\n",
       "      <th>...</th>\n",
       "      <th>New Delhi</th>\n",
       "      <th>Unknown</th>\n",
       "      <th>Uttar Pradesh</th>\n",
       "      <th>Karnataka</th>\n",
       "      <th>Maharashtra</th>\n",
       "      <th>Hyderabad</th>\n",
       "      <th>Telangana</th>\n",
       "      <th>Haryana</th>\n",
       "      <th>Tamil Nadu</th>\n",
       "      <th>Others</th>\n",
       "    </tr>\n",
       "  </thead>\n",
       "  <tbody>\n",
       "    <tr>\n",
       "      <td>0</td>\n",
       "      <td>1200.0</td>\n",
       "      <td>Dombivali East</td>\n",
       "      <td>3.6</td>\n",
       "      <td>9438</td>\n",
       "      <td>11am – 4pm, 7:30pm – 11:30pm (Mon-Sun)</td>\n",
       "      <td>49</td>\n",
       "      <td>1</td>\n",
       "      <td>0</td>\n",
       "      <td>0</td>\n",
       "      <td>0</td>\n",
       "      <td>...</td>\n",
       "      <td>0.0</td>\n",
       "      <td>0.0</td>\n",
       "      <td>0.0</td>\n",
       "      <td>0.0</td>\n",
       "      <td>1.0</td>\n",
       "      <td>0.0</td>\n",
       "      <td>0.0</td>\n",
       "      <td>0.0</td>\n",
       "      <td>0.0</td>\n",
       "      <td>0.0</td>\n",
       "    </tr>\n",
       "    <tr>\n",
       "      <td>1</td>\n",
       "      <td>1500.0</td>\n",
       "      <td>Ramapuram</td>\n",
       "      <td>4.2</td>\n",
       "      <td>13198</td>\n",
       "      <td>6pm – 11pm (Mon-Sun)</td>\n",
       "      <td>30</td>\n",
       "      <td>0</td>\n",
       "      <td>0</td>\n",
       "      <td>0</td>\n",
       "      <td>0</td>\n",
       "      <td>...</td>\n",
       "      <td>0.0</td>\n",
       "      <td>0.0</td>\n",
       "      <td>0.0</td>\n",
       "      <td>0.0</td>\n",
       "      <td>0.0</td>\n",
       "      <td>0.0</td>\n",
       "      <td>0.0</td>\n",
       "      <td>0.0</td>\n",
       "      <td>1.0</td>\n",
       "      <td>0.0</td>\n",
       "    </tr>\n",
       "  </tbody>\n",
       "</table>\n",
       "<p>2 rows × 173 columns</p>\n",
       "</div>"
      ],
      "text/plain": [
       "     COST        LOCALITY RATING  RESTAURANT_ID  \\\n",
       "0  1200.0  Dombivali East    3.6           9438   \n",
       "1  1500.0       Ramapuram    4.2          13198   \n",
       "\n",
       "                                     TIME VOTES  CASUAL DINING  BAR  \\\n",
       "0  11am – 4pm, 7:30pm – 11:30pm (Mon-Sun)    49              1    0   \n",
       "1                    6pm – 11pm (Mon-Sun)    30              0    0   \n",
       "\n",
       "   QUICK BITES  DESSERT PARLOR  ...  New Delhi  Unknown  Uttar Pradesh  \\\n",
       "0            0               0  ...        0.0      0.0            0.0   \n",
       "1            0               0  ...        0.0      0.0            0.0   \n",
       "\n",
       "   Karnataka  Maharashtra  Hyderabad  Telangana  Haryana  Tamil Nadu  Others  \n",
       "0        0.0          1.0        0.0        0.0      0.0         0.0     0.0  \n",
       "1        0.0          0.0        0.0        0.0      0.0         1.0     0.0  \n",
       "\n",
       "[2 rows x 173 columns]"
      ]
     },
     "execution_count": 49,
     "metadata": {},
     "output_type": "execute_result"
    }
   ],
   "source": [
    "df = pd.concat([df, data, data1], axis=1)\n",
    "df.drop(columns=['CITY', 'CUISINES'], axis=1, inplace=True)\n",
    "df.head(2)"
   ]
  },
  {
   "cell_type": "markdown",
   "metadata": {},
   "source": [
    "### Data Cleaning - LOCALITY"
   ]
  },
  {
   "cell_type": "code",
   "execution_count": 50,
   "metadata": {},
   "outputs": [
    {
     "data": {
      "text/plain": [
       "Gachibowli     216\n",
       "Indiranagar    187\n",
       "Name: LOCALITY, dtype: int64"
      ]
     },
     "execution_count": 50,
     "metadata": {},
     "output_type": "execute_result"
    }
   ],
   "source": [
    "df['LOCALITY'].value_counts().head(2)"
   ]
  },
  {
   "cell_type": "code",
   "execution_count": 51,
   "metadata": {},
   "outputs": [],
   "source": [
    "data = df['LOCALITY']"
   ]
  },
  {
   "cell_type": "code",
   "execution_count": 52,
   "metadata": {},
   "outputs": [
    {
     "data": {
      "text/plain": [
       "0"
      ]
     },
     "execution_count": 52,
     "metadata": {},
     "output_type": "execute_result"
    }
   ],
   "source": [
    "data.fillna('Loc_Unknown', inplace=True)\n",
    "data.isna().sum()"
   ]
  },
  {
   "cell_type": "code",
   "execution_count": 53,
   "metadata": {},
   "outputs": [
    {
     "data": {
      "text/plain": [
       "Gachibowli       216\n",
       "Indiranagar      187\n",
       "Kakkanad         175\n",
       "Kukatpally       171\n",
       "Madhapur         169\n",
       "Whitefield       164\n",
       "Banjara Hills    157\n",
       "Edappally        154\n",
       "HSR              149\n",
       "Marathahalli     148\n",
       "Name: LOCALITY, dtype: int64"
      ]
     },
     "execution_count": 53,
     "metadata": {},
     "output_type": "execute_result"
    }
   ],
   "source": [
    "data.value_counts().head(10)\n",
    "# sorted(data.unique())"
   ]
  },
  {
   "cell_type": "code",
   "execution_count": 54,
   "metadata": {},
   "outputs": [],
   "source": [
    "lst2 = ['Gachibowli', 'Indiranagar', 'Kakkanad', 'Kukatpally', 'Madhapur', 'Whitefield', 'Banjara', 'Edappally', 'HSR', 'Marathahalli', 'Jubilee', 'Kochi', 'Nungambakkam', 'BTM', 'MG', 'Kaloor', 'Jayanagar', 'Andheri']\n",
    "for i in lst2:\n",
    "    ind = data[(data.str.contains(i))].index\n",
    "    classify(ind, i)"
   ]
  },
  {
   "cell_type": "code",
   "execution_count": 55,
   "metadata": {},
   "outputs": [],
   "source": [
    "ind = data[(data.str.contains('Koramangala'))].index\n",
    "classify(ind, 'Koramangala')"
   ]
  },
  {
   "cell_type": "code",
   "execution_count": 56,
   "metadata": {},
   "outputs": [],
   "source": [
    "ind = data[(data.str.contains('rnakulam'))].index\n",
    "classify(ind, 'Ernakulam')"
   ]
  },
  {
   "cell_type": "code",
   "execution_count": 57,
   "metadata": {},
   "outputs": [],
   "source": [
    "ind = data[(data.str.contains('Bandra')) | (data.str.contains('Kurla'))].index\n",
    "classify(ind, 'Bandra_Kurla')"
   ]
  },
  {
   "cell_type": "code",
   "execution_count": 58,
   "metadata": {},
   "outputs": [],
   "source": [
    "ind = data[(data.str.contains('Dombivali'))].index\n",
    "classify(ind, 'Dombivali')"
   ]
  },
  {
   "cell_type": "code",
   "execution_count": 59,
   "metadata": {},
   "outputs": [],
   "source": [
    "ind = data[(data.str.contains('Anna Nagar'))].index\n",
    "classify(ind, 'Anna_Nagar')"
   ]
  },
  {
   "cell_type": "code",
   "execution_count": 60,
   "metadata": {},
   "outputs": [],
   "source": [
    "ind = data[(data.str.contains('Ashok Vihar'))].index\n",
    "classify(ind, 'Ashok_Vihar')"
   ]
  },
  {
   "cell_type": "code",
   "execution_count": 61,
   "metadata": {},
   "outputs": [],
   "source": [
    "ind = data[(data.str.contains('Borivali'))].index\n",
    "classify(ind, 'Borivali')"
   ]
  },
  {
   "cell_type": "code",
   "execution_count": 62,
   "metadata": {},
   "outputs": [],
   "source": [
    "ind = data[(data.str.contains('DLF'))].index\n",
    "classify(ind, 'DLF')"
   ]
  },
  {
   "cell_type": "code",
   "execution_count": 63,
   "metadata": {},
   "outputs": [],
   "source": [
    "ind = data[(data.str.contains('Electronic City'))].index\n",
    "classify(ind, 'Electronic_City')"
   ]
  },
  {
   "cell_type": "code",
   "execution_count": 64,
   "metadata": {},
   "outputs": [],
   "source": [
    "ind = data[(data.str.contains('Hiranandani'))].index\n",
    "classify(ind, 'Hiranandani')"
   ]
  },
  {
   "cell_type": "code",
   "execution_count": 65,
   "metadata": {},
   "outputs": [],
   "source": [
    "ind = data[(data.str.contains('Malad'))].index\n",
    "classify(ind, 'Malad')"
   ]
  },
  {
   "cell_type": "code",
   "execution_count": 66,
   "metadata": {},
   "outputs": [],
   "source": [
    "data = pd.DataFrame(data)"
   ]
  },
  {
   "cell_type": "code",
   "execution_count": 67,
   "metadata": {},
   "outputs": [
    {
     "data": {
      "text/html": [
       "<div>\n",
       "<style scoped>\n",
       "    .dataframe tbody tr th:only-of-type {\n",
       "        vertical-align: middle;\n",
       "    }\n",
       "\n",
       "    .dataframe tbody tr th {\n",
       "        vertical-align: top;\n",
       "    }\n",
       "\n",
       "    .dataframe thead th {\n",
       "        text-align: right;\n",
       "    }\n",
       "</style>\n",
       "<table border=\"1\" class=\"dataframe\">\n",
       "  <thead>\n",
       "    <tr style=\"text-align: right;\">\n",
       "      <th></th>\n",
       "      <th>COST</th>\n",
       "      <th>RATING</th>\n",
       "      <th>RESTAURANT_ID</th>\n",
       "      <th>TIME</th>\n",
       "      <th>VOTES</th>\n",
       "      <th>CASUAL DINING</th>\n",
       "      <th>BAR</th>\n",
       "      <th>QUICK BITES</th>\n",
       "      <th>DESSERT PARLOR</th>\n",
       "      <th>CAFÉ</th>\n",
       "      <th>...</th>\n",
       "      <th>Unknown</th>\n",
       "      <th>Uttar Pradesh</th>\n",
       "      <th>Karnataka</th>\n",
       "      <th>Maharashtra</th>\n",
       "      <th>Hyderabad</th>\n",
       "      <th>Telangana</th>\n",
       "      <th>Haryana</th>\n",
       "      <th>Tamil Nadu</th>\n",
       "      <th>Others</th>\n",
       "      <th>LOCALITY</th>\n",
       "    </tr>\n",
       "  </thead>\n",
       "  <tbody>\n",
       "    <tr>\n",
       "      <td>0</td>\n",
       "      <td>1200.0</td>\n",
       "      <td>3.6</td>\n",
       "      <td>9438</td>\n",
       "      <td>11am – 4pm, 7:30pm – 11:30pm (Mon-Sun)</td>\n",
       "      <td>49</td>\n",
       "      <td>1</td>\n",
       "      <td>0</td>\n",
       "      <td>0</td>\n",
       "      <td>0</td>\n",
       "      <td>0</td>\n",
       "      <td>...</td>\n",
       "      <td>0.0</td>\n",
       "      <td>0.0</td>\n",
       "      <td>0.0</td>\n",
       "      <td>1.0</td>\n",
       "      <td>0.0</td>\n",
       "      <td>0.0</td>\n",
       "      <td>0.0</td>\n",
       "      <td>0.0</td>\n",
       "      <td>0.0</td>\n",
       "      <td>Dombivali</td>\n",
       "    </tr>\n",
       "    <tr>\n",
       "      <td>1</td>\n",
       "      <td>1500.0</td>\n",
       "      <td>4.2</td>\n",
       "      <td>13198</td>\n",
       "      <td>6pm – 11pm (Mon-Sun)</td>\n",
       "      <td>30</td>\n",
       "      <td>0</td>\n",
       "      <td>0</td>\n",
       "      <td>0</td>\n",
       "      <td>0</td>\n",
       "      <td>0</td>\n",
       "      <td>...</td>\n",
       "      <td>0.0</td>\n",
       "      <td>0.0</td>\n",
       "      <td>0.0</td>\n",
       "      <td>0.0</td>\n",
       "      <td>0.0</td>\n",
       "      <td>0.0</td>\n",
       "      <td>0.0</td>\n",
       "      <td>1.0</td>\n",
       "      <td>0.0</td>\n",
       "      <td>Ramapuram</td>\n",
       "    </tr>\n",
       "  </tbody>\n",
       "</table>\n",
       "<p>2 rows × 173 columns</p>\n",
       "</div>"
      ],
      "text/plain": [
       "     COST RATING  RESTAURANT_ID                                    TIME VOTES  \\\n",
       "0  1200.0    3.6           9438  11am – 4pm, 7:30pm – 11:30pm (Mon-Sun)    49   \n",
       "1  1500.0    4.2          13198                    6pm – 11pm (Mon-Sun)    30   \n",
       "\n",
       "   CASUAL DINING  BAR  QUICK BITES  DESSERT PARLOR  CAFÉ  ...  Unknown  \\\n",
       "0              1    0            0               0     0  ...      0.0   \n",
       "1              0    0            0               0     0  ...      0.0   \n",
       "\n",
       "   Uttar Pradesh  Karnataka  Maharashtra  Hyderabad  Telangana  Haryana  \\\n",
       "0            0.0        0.0          1.0        0.0        0.0      0.0   \n",
       "1            0.0        0.0          0.0        0.0        0.0      0.0   \n",
       "\n",
       "   Tamil Nadu  Others   LOCALITY  \n",
       "0         0.0     0.0  Dombivali  \n",
       "1         1.0     0.0  Ramapuram  \n",
       "\n",
       "[2 rows x 173 columns]"
      ]
     },
     "execution_count": 67,
     "metadata": {},
     "output_type": "execute_result"
    }
   ],
   "source": [
    "df.drop(columns=['LOCALITY'], axis=1, inplace=True)\n",
    "df = pd.concat([df, data], axis=1)\n",
    "df.head(2)"
   ]
  },
  {
   "cell_type": "markdown",
   "metadata": {},
   "source": [
    "### Data Cleaning - TIME"
   ]
  },
  {
   "cell_type": "code",
   "execution_count": 68,
   "metadata": {},
   "outputs": [],
   "source": [
    "data = df['TIME']"
   ]
  },
  {
   "cell_type": "code",
   "execution_count": 69,
   "metadata": {},
   "outputs": [
    {
     "data": {
      "text/plain": [
       "0"
      ]
     },
     "execution_count": 69,
     "metadata": {},
     "output_type": "execute_result"
    }
   ],
   "source": [
    "data.isnull().sum()"
   ]
  },
  {
   "cell_type": "code",
   "execution_count": 70,
   "metadata": {},
   "outputs": [
    {
     "data": {
      "text/plain": [
       "14                      Closed (Mon),11am – 11pm (Tue-Sun)\n",
       "19                       Closed (Mon),9am – 10pm (Tue-Sun)\n",
       "27         Closed (Mon),12noon – 3pm, 6pm – 11pm (Tue-Sun)\n",
       "31       8am – 11pm (Mon-Fri),8am – 7pm (Sat),Closed (Sun)\n",
       "85                 Closed (Mon),7:30am – 10:30pm (Tue-Sun)\n",
       "                               ...                        \n",
       "16783               Closed (Mon),8:30am – 8:30pm (Tue-Sun)\n",
       "16837                     Closed (Mon),8am – 9pm (Tue-Sun)\n",
       "16840                 Closed (Mon),6:30pm – 11pm (Tue-Sun)\n",
       "16887                10:30am – 11pm (Mon-Sat),Closed (Sun)\n",
       "16902                Closed (Mon),10am – 11:45pm (Tue-Sun)\n",
       "Name: TIME, Length: 539, dtype: object"
      ]
     },
     "execution_count": 70,
     "metadata": {},
     "output_type": "execute_result"
    }
   ],
   "source": [
    "data[(data.str.contains('Closed'))]"
   ]
  },
  {
   "cell_type": "code",
   "execution_count": 71,
   "metadata": {},
   "outputs": [],
   "source": [
    "data = pd.DataFrame(data)"
   ]
  },
  {
   "cell_type": "code",
   "execution_count": 72,
   "metadata": {},
   "outputs": [],
   "source": [
    "data['Open_Hr']=np.nan\n",
    "for i, j in enumerate(data['TIME']):\n",
    "    try:\n",
    "        data['Open_Hr'][i] = int(re.search(r'\\d+', j).group())\n",
    "    except:\n",
    "        pass"
   ]
  },
  {
   "cell_type": "code",
   "execution_count": 73,
   "metadata": {},
   "outputs": [],
   "source": [
    "data['Close_Hr']=np.nan\n",
    "for i, j in enumerate(data['TIME']):\n",
    "    try:\n",
    "        if int(re.search(r'\\d+', j[::-1]).group()[::-1]) > 12:\n",
    "            se = len(re.findall(r'\\d+', j)) - 2\n",
    "            data['Close_Hr'][i] = int(re.findall(r'\\d+', j)[se])\n",
    "        else:\n",
    "            data['Close_Hr'][i] = int(re.search(r'\\d+', j[::-1]).group()[::-1])\n",
    "    except:\n",
    "        pass"
   ]
  },
  {
   "cell_type": "code",
   "execution_count": 74,
   "metadata": {},
   "outputs": [],
   "source": [
    "data['Closed'] = 'Not_Closed'\n",
    "pattern = 'Closed \\((.*?)\\)'\n",
    "for i, j in enumerate(data['TIME']):\n",
    "    try:\n",
    "        data['Closed'][i] = re.search(pattern, j).group(1)\n",
    "    except:\n",
    "        pass"
   ]
  },
  {
   "cell_type": "code",
   "execution_count": 75,
   "metadata": {},
   "outputs": [
    {
     "data": {
      "text/plain": [
       "array(['Not_Closed', 'Mon', 'Sun', 'Sat-Sun', 'Mon, Sun', 'Mon, Thu',\n",
       "       'Mon, Tue, Thu, Fri, Sat, Sun', 'Mon, Tue, Wed, Thu, Sun', 'Tue',\n",
       "       'Mon, Wed, Thu, Sun', 'Sat', 'Mon-Tue', 'Mon, Tue, Thu, Sun',\n",
       "       'Fri-Sun', 'Mon, Sat', 'Wed-Sun', 'Mon, Fri', 'Mon-Thu',\n",
       "       'Mon, Tue, Thu', 'Mon, Tue, Sun', 'Mon, Wed, Thu, Sat', 'Wed',\n",
       "       'Thu-Sun', 'Mon, Tue, Wed, Thu, Fri, Sun'], dtype=object)"
      ]
     },
     "execution_count": 75,
     "metadata": {},
     "output_type": "execute_result"
    }
   ],
   "source": [
    "data[~data['Closed'].isna()]['Closed'].unique()"
   ]
  },
  {
   "cell_type": "code",
   "execution_count": 76,
   "metadata": {},
   "outputs": [
    {
     "data": {
      "text/plain": [
       "Not_Closed                      16465\n",
       "Mon                               277\n",
       "Sun                               127\n",
       "Mon, Tue, Wed, Thu, Sun             7\n",
       "Mon-Tue                             6\n",
       "Sat-Sun                             6\n",
       "Tue                                 5\n",
       "Mon, Sat                            3\n",
       "Mon-Thu                             3\n",
       "Fri-Sun                             3\n",
       "Mon, Tue, Sun                       3\n",
       "Mon, Thu                            2\n",
       "Mon, Sun                            2\n",
       "Wed                                 2\n",
       "Mon, Wed, Thu, Sun                  1\n",
       "Sat                                 1\n",
       "Mon, Tue, Thu                       1\n",
       "Wed-Sun                             1\n",
       "Mon, Tue, Thu, Fri, Sat, Sun        1\n",
       "Mon, Wed, Thu, Sat                  1\n",
       "Mon, Tue, Wed, Thu, Fri, Sun        1\n",
       "Thu-Sun                             1\n",
       "Mon, Tue, Thu, Sun                  1\n",
       "Mon, Fri                            1\n",
       "Name: Closed, dtype: int64"
      ]
     },
     "execution_count": 76,
     "metadata": {},
     "output_type": "execute_result"
    }
   ],
   "source": [
    "data[~data['Closed'].isna()]['Closed'].value_counts()"
   ]
  },
  {
   "cell_type": "code",
   "execution_count": 77,
   "metadata": {},
   "outputs": [
    {
     "data": {
      "text/html": [
       "<div>\n",
       "<style scoped>\n",
       "    .dataframe tbody tr th:only-of-type {\n",
       "        vertical-align: middle;\n",
       "    }\n",
       "\n",
       "    .dataframe tbody tr th {\n",
       "        vertical-align: top;\n",
       "    }\n",
       "\n",
       "    .dataframe thead th {\n",
       "        text-align: right;\n",
       "    }\n",
       "</style>\n",
       "<table border=\"1\" class=\"dataframe\">\n",
       "  <thead>\n",
       "    <tr style=\"text-align: right;\">\n",
       "      <th></th>\n",
       "      <th>TIME</th>\n",
       "      <th>Open_Hr</th>\n",
       "      <th>Close_Hr</th>\n",
       "      <th>Closed</th>\n",
       "    </tr>\n",
       "  </thead>\n",
       "  <tbody>\n",
       "    <tr>\n",
       "      <td>14860</td>\n",
       "      <td>Closed (Mon, Tue, Wed, Thu, Fri, Sun), 10pm – ...</td>\n",
       "      <td>10.0</td>\n",
       "      <td>11.0</td>\n",
       "      <td>Mon, Tue, Wed, Thu, Fri, Sun</td>\n",
       "    </tr>\n",
       "  </tbody>\n",
       "</table>\n",
       "</div>"
      ],
      "text/plain": [
       "                                                    TIME  Open_Hr  Close_Hr  \\\n",
       "14860  Closed (Mon, Tue, Wed, Thu, Fri, Sun), 10pm – ...     10.0      11.0   \n",
       "\n",
       "                             Closed  \n",
       "14860  Mon, Tue, Wed, Thu, Fri, Sun  "
      ]
     },
     "execution_count": 77,
     "metadata": {},
     "output_type": "execute_result"
    }
   ],
   "source": [
    "data[data['Closed']=='Mon, Tue, Wed, Thu, Fri, Sun']"
   ]
  },
  {
   "cell_type": "code",
   "execution_count": 78,
   "metadata": {},
   "outputs": [
    {
     "data": {
      "text/html": [
       "<div>\n",
       "<style scoped>\n",
       "    .dataframe tbody tr th:only-of-type {\n",
       "        vertical-align: middle;\n",
       "    }\n",
       "\n",
       "    .dataframe tbody tr th {\n",
       "        vertical-align: top;\n",
       "    }\n",
       "\n",
       "    .dataframe thead th {\n",
       "        text-align: right;\n",
       "    }\n",
       "</style>\n",
       "<table border=\"1\" class=\"dataframe\">\n",
       "  <thead>\n",
       "    <tr style=\"text-align: right;\">\n",
       "      <th></th>\n",
       "      <th>COST</th>\n",
       "      <th>RATING</th>\n",
       "      <th>RESTAURANT_ID</th>\n",
       "      <th>TIME</th>\n",
       "      <th>VOTES</th>\n",
       "      <th>CASUAL DINING</th>\n",
       "      <th>BAR</th>\n",
       "      <th>QUICK BITES</th>\n",
       "      <th>DESSERT PARLOR</th>\n",
       "      <th>CAFÉ</th>\n",
       "      <th>...</th>\n",
       "      <th>Maharashtra</th>\n",
       "      <th>Hyderabad</th>\n",
       "      <th>Telangana</th>\n",
       "      <th>Haryana</th>\n",
       "      <th>Tamil Nadu</th>\n",
       "      <th>Others</th>\n",
       "      <th>LOCALITY</th>\n",
       "      <th>Open_Hr</th>\n",
       "      <th>Close_Hr</th>\n",
       "      <th>Closed</th>\n",
       "    </tr>\n",
       "  </thead>\n",
       "  <tbody>\n",
       "    <tr>\n",
       "      <td>0</td>\n",
       "      <td>1200.0</td>\n",
       "      <td>3.6</td>\n",
       "      <td>9438</td>\n",
       "      <td>11am – 4pm, 7:30pm – 11:30pm (Mon-Sun)</td>\n",
       "      <td>49</td>\n",
       "      <td>1</td>\n",
       "      <td>0</td>\n",
       "      <td>0</td>\n",
       "      <td>0</td>\n",
       "      <td>0</td>\n",
       "      <td>...</td>\n",
       "      <td>1.0</td>\n",
       "      <td>0.0</td>\n",
       "      <td>0.0</td>\n",
       "      <td>0.0</td>\n",
       "      <td>0.0</td>\n",
       "      <td>0.0</td>\n",
       "      <td>Dombivali</td>\n",
       "      <td>11.0</td>\n",
       "      <td>11.0</td>\n",
       "      <td>Not_Closed</td>\n",
       "    </tr>\n",
       "    <tr>\n",
       "      <td>1</td>\n",
       "      <td>1500.0</td>\n",
       "      <td>4.2</td>\n",
       "      <td>13198</td>\n",
       "      <td>6pm – 11pm (Mon-Sun)</td>\n",
       "      <td>30</td>\n",
       "      <td>0</td>\n",
       "      <td>0</td>\n",
       "      <td>0</td>\n",
       "      <td>0</td>\n",
       "      <td>0</td>\n",
       "      <td>...</td>\n",
       "      <td>0.0</td>\n",
       "      <td>0.0</td>\n",
       "      <td>0.0</td>\n",
       "      <td>0.0</td>\n",
       "      <td>1.0</td>\n",
       "      <td>0.0</td>\n",
       "      <td>Ramapuram</td>\n",
       "      <td>6.0</td>\n",
       "      <td>11.0</td>\n",
       "      <td>Not_Closed</td>\n",
       "    </tr>\n",
       "    <tr>\n",
       "      <td>2</td>\n",
       "      <td>800.0</td>\n",
       "      <td>3.8</td>\n",
       "      <td>10915</td>\n",
       "      <td>11am – 3:30pm, 7pm – 11pm (Mon-Sun)</td>\n",
       "      <td>221</td>\n",
       "      <td>1</td>\n",
       "      <td>0</td>\n",
       "      <td>0</td>\n",
       "      <td>0</td>\n",
       "      <td>0</td>\n",
       "      <td>...</td>\n",
       "      <td>0.0</td>\n",
       "      <td>0.0</td>\n",
       "      <td>0.0</td>\n",
       "      <td>0.0</td>\n",
       "      <td>1.0</td>\n",
       "      <td>0.0</td>\n",
       "      <td>Saligramam</td>\n",
       "      <td>11.0</td>\n",
       "      <td>11.0</td>\n",
       "      <td>Not_Closed</td>\n",
       "    </tr>\n",
       "    <tr>\n",
       "      <td>3</td>\n",
       "      <td>800.0</td>\n",
       "      <td>4.1</td>\n",
       "      <td>6346</td>\n",
       "      <td>11:30am – 1am (Mon-Sun)</td>\n",
       "      <td>24</td>\n",
       "      <td>0</td>\n",
       "      <td>0</td>\n",
       "      <td>1</td>\n",
       "      <td>0</td>\n",
       "      <td>0</td>\n",
       "      <td>...</td>\n",
       "      <td>0.0</td>\n",
       "      <td>0.0</td>\n",
       "      <td>0.0</td>\n",
       "      <td>0.0</td>\n",
       "      <td>0.0</td>\n",
       "      <td>1.0</td>\n",
       "      <td>Bandra_Kurla</td>\n",
       "      <td>11.0</td>\n",
       "      <td>1.0</td>\n",
       "      <td>Not_Closed</td>\n",
       "    </tr>\n",
       "    <tr>\n",
       "      <td>4</td>\n",
       "      <td>300.0</td>\n",
       "      <td>3.8</td>\n",
       "      <td>15387</td>\n",
       "      <td>11am – 1am (Mon-Sun)</td>\n",
       "      <td>165</td>\n",
       "      <td>0</td>\n",
       "      <td>0</td>\n",
       "      <td>0</td>\n",
       "      <td>1</td>\n",
       "      <td>0</td>\n",
       "      <td>...</td>\n",
       "      <td>0.0</td>\n",
       "      <td>0.0</td>\n",
       "      <td>0.0</td>\n",
       "      <td>0.0</td>\n",
       "      <td>0.0</td>\n",
       "      <td>1.0</td>\n",
       "      <td>Lower Parel</td>\n",
       "      <td>11.0</td>\n",
       "      <td>1.0</td>\n",
       "      <td>Not_Closed</td>\n",
       "    </tr>\n",
       "  </tbody>\n",
       "</table>\n",
       "<p>5 rows × 176 columns</p>\n",
       "</div>"
      ],
      "text/plain": [
       "     COST RATING  RESTAURANT_ID                                    TIME VOTES  \\\n",
       "0  1200.0    3.6           9438  11am – 4pm, 7:30pm – 11:30pm (Mon-Sun)    49   \n",
       "1  1500.0    4.2          13198                    6pm – 11pm (Mon-Sun)    30   \n",
       "2   800.0    3.8          10915     11am – 3:30pm, 7pm – 11pm (Mon-Sun)   221   \n",
       "3   800.0    4.1           6346                 11:30am – 1am (Mon-Sun)    24   \n",
       "4   300.0    3.8          15387                    11am – 1am (Mon-Sun)   165   \n",
       "\n",
       "   CASUAL DINING  BAR  QUICK BITES  DESSERT PARLOR  CAFÉ  ...  Maharashtra  \\\n",
       "0              1    0            0               0     0  ...          1.0   \n",
       "1              0    0            0               0     0  ...          0.0   \n",
       "2              1    0            0               0     0  ...          0.0   \n",
       "3              0    0            1               0     0  ...          0.0   \n",
       "4              0    0            0               1     0  ...          0.0   \n",
       "\n",
       "   Hyderabad  Telangana  Haryana  Tamil Nadu  Others      LOCALITY  Open_Hr  \\\n",
       "0        0.0        0.0      0.0         0.0     0.0     Dombivali     11.0   \n",
       "1        0.0        0.0      0.0         1.0     0.0     Ramapuram      6.0   \n",
       "2        0.0        0.0      0.0         1.0     0.0    Saligramam     11.0   \n",
       "3        0.0        0.0      0.0         0.0     1.0  Bandra_Kurla     11.0   \n",
       "4        0.0        0.0      0.0         0.0     1.0   Lower Parel     11.0   \n",
       "\n",
       "   Close_Hr      Closed  \n",
       "0      11.0  Not_Closed  \n",
       "1      11.0  Not_Closed  \n",
       "2      11.0  Not_Closed  \n",
       "3       1.0  Not_Closed  \n",
       "4       1.0  Not_Closed  \n",
       "\n",
       "[5 rows x 176 columns]"
      ]
     },
     "execution_count": 78,
     "metadata": {},
     "output_type": "execute_result"
    }
   ],
   "source": [
    "data.drop(columns=['TIME'], axis=1, inplace=True)\n",
    "data = pd.DataFrame(data)\n",
    "df=pd.concat([df, data], axis=1)\n",
    "df.head(5)"
   ]
  },
  {
   "cell_type": "code",
   "execution_count": 79,
   "metadata": {},
   "outputs": [
    {
     "data": {
      "text/plain": [
       "(16921, 175)"
      ]
     },
     "execution_count": 79,
     "metadata": {},
     "output_type": "execute_result"
    }
   ],
   "source": [
    "df.drop(columns=['TIME'], axis=1, inplace=True)\n",
    "df.shape"
   ]
  },
  {
   "cell_type": "markdown",
   "metadata": {},
   "source": [
    "### Data Cleaning - RATING"
   ]
  },
  {
   "cell_type": "code",
   "execution_count": 80,
   "metadata": {},
   "outputs": [
    {
     "data": {
      "text/plain": [
       "(16917, 175)"
      ]
     },
     "execution_count": 80,
     "metadata": {},
     "output_type": "execute_result"
    }
   ],
   "source": [
    "df = df[~df['RATING'].isna()]\n",
    "df.shape"
   ]
  },
  {
   "cell_type": "code",
   "execution_count": 81,
   "metadata": {},
   "outputs": [
    {
     "data": {
      "text/plain": [
       "3.9    1643\n",
       "3.8    1604\n",
       "4.0    1498\n",
       "3.7    1437\n",
       "3.6    1261\n",
       "4.1    1217\n",
       "3.5     988\n",
       "4.2     968\n",
       "NEW     930\n",
       "3.4     777\n",
       "4.3     740\n",
       "-       672\n",
       "Name: RATING, dtype: int64"
      ]
     },
     "execution_count": 81,
     "metadata": {},
     "output_type": "execute_result"
    }
   ],
   "source": [
    "df['RATING'].value_counts().head(12)"
   ]
  },
  {
   "cell_type": "code",
   "execution_count": 82,
   "metadata": {},
   "outputs": [
    {
     "data": {
      "text/plain": [
       "array(['3.6', '4.2', '3.8', '4.1', '4.0', '4.3', '3.9', '3.3', '3.4', '-',\n",
       "       '4.5', '3.5', '4.4', '2.7', '3.7', '4.7', 'NEW', '3.1', '2.5',\n",
       "       '4.6', '2.8', '3.0', '3.2', '2.6', '2.9', '4.9', '4.8', '2.4',\n",
       "       '2.3', '2.0', '2.1', '2.2'], dtype=object)"
      ]
     },
     "execution_count": 82,
     "metadata": {},
     "output_type": "execute_result"
    }
   ],
   "source": [
    "df['RATING'].unique()"
   ]
  },
  {
   "cell_type": "markdown",
   "metadata": {},
   "source": [
    "1. We have 930 restaurants that have no rating as they are new restaurants. We will create a column as 'NEW'.\n",
    "2. We also have 670 restaurants tht have no rating. We will remove them."
   ]
  },
  {
   "cell_type": "code",
   "execution_count": 83,
   "metadata": {},
   "outputs": [
    {
     "data": {
      "text/plain": [
       "(930, 175)"
      ]
     },
     "execution_count": 83,
     "metadata": {},
     "output_type": "execute_result"
    }
   ],
   "source": [
    "df[(df['RATING']=='NEW') | (df['VOTES']==np.nan)].shape"
   ]
  },
  {
   "cell_type": "code",
   "execution_count": 84,
   "metadata": {},
   "outputs": [
    {
     "data": {
      "text/plain": [
       "(15315, 175)"
      ]
     },
     "execution_count": 84,
     "metadata": {},
     "output_type": "execute_result"
    }
   ],
   "source": [
    "df = df[df['RATING']!='-']\n",
    "df = df[df['RATING']!='NEW']\n",
    "df.shape"
   ]
  },
  {
   "cell_type": "code",
   "execution_count": 85,
   "metadata": {},
   "outputs": [
    {
     "data": {
      "text/plain": [
       "array([3.6, 4.2, 3.8, 4.1, 4. , 4.3, 3.9, 3.3, 3.4, 4.5, 3.5, 4.4, 2.7,\n",
       "       3.7, 4.7, 3.1, 2.5, 4.6, 2.8, 3. , 3.2, 2.6, 2.9, 4.9, 4.8, 2.4,\n",
       "       2.3, 2. , 2.1, 2.2])"
      ]
     },
     "execution_count": 85,
     "metadata": {},
     "output_type": "execute_result"
    }
   ],
   "source": [
    "df['RATING'] = df['RATING'].astype(float)\n",
    "df['RATING'].unique()"
   ]
  },
  {
   "cell_type": "code",
   "execution_count": 86,
   "metadata": {},
   "outputs": [],
   "source": [
    "df['VOTES'] = df['VOTES'].astype(int)\n",
    "df['Cuisine_Count'] = df['Cuisine_Count'].astype(int)\n",
    "df['RESTAURANT_ID'] = df['RESTAURANT_ID'].astype(int)"
   ]
  },
  {
   "cell_type": "code",
   "execution_count": 87,
   "metadata": {},
   "outputs": [
    {
     "name": "stdout",
     "output_type": "stream",
     "text": [
      ">>> Total Number of Features :: 175\n",
      ">>> Number of Categorical Features :: 3\n",
      ">>> Number of Numerical Features :: 172\n"
     ]
    }
   ],
   "source": [
    "cat_df, num_df = [], []\n",
    "for i in df:\n",
    "    if df[i].dtypes=='object':\n",
    "        cat_df.append(i)\n",
    "    elif (df[i].dtypes=='int') | (df[i].dtypes=='float') | (df[i].dtypes=='int64'):\n",
    "        num_df.append(i)\n",
    "    else: print('Unknown >', i)\n",
    "print('>>> Total Number of Features ::', df.shape[1])\n",
    "print('>>> Number of Categorical Features ::', len(cat_df))\n",
    "print('>>> Number of Numerical Features ::', len(num_df))"
   ]
  },
  {
   "cell_type": "code",
   "execution_count": 88,
   "metadata": {},
   "outputs": [
    {
     "data": {
      "text/plain": [
       "['New_City', 'LOCALITY', 'Closed']"
      ]
     },
     "execution_count": 88,
     "metadata": {},
     "output_type": "execute_result"
    }
   ],
   "source": [
    "cat_df"
   ]
  },
  {
   "cell_type": "code",
   "execution_count": 89,
   "metadata": {},
   "outputs": [
    {
     "data": {
      "text/plain": [
       "Index(['COST', 'RATING', 'RESTAURANT_ID', 'VOTES', 'CASUAL DINING', 'BAR',\n",
       "       'QUICK BITES', 'DESSERT PARLOR', 'CAFÉ', 'MICROBREWERY',\n",
       "       ...\n",
       "       'Maharashtra', 'Hyderabad', 'Telangana', 'Haryana', 'Tamil Nadu',\n",
       "       'Others', 'LOCALITY', 'Open_Hr', 'Close_Hr', 'Closed'],\n",
       "      dtype='object', length=175)"
      ]
     },
     "execution_count": 89,
     "metadata": {},
     "output_type": "execute_result"
    }
   ],
   "source": [
    "df.columns"
   ]
  },
  {
   "cell_type": "code",
   "execution_count": 96,
   "metadata": {},
   "outputs": [
    {
     "data": {
      "text/plain": [
       "<matplotlib.axes._subplots.AxesSubplot at 0x836b2bc8>"
      ]
     },
     "execution_count": 96,
     "metadata": {},
     "output_type": "execute_result"
    },
    {
     "data": {
      "image/png": "[encoded data removed]",
      "text/plain": [
       "<Figure size 1152x576 with 2 Axes>"
      ]
     },
     "metadata": {
      "needs_background": "light"
     },
     "output_type": "display_data"
    }
   ],
   "source": [
    "plt.figure(figsize=(16,8))\n",
    "sns.heatmap(df.corr(), vmax=1, vmin=-1, fmt='.1g', cmap='bwr', mask=np.triu(df.corr()))"
   ]
  },
  {
   "cell_type": "code",
   "execution_count": 92,
   "metadata": {},
   "outputs": [
    {
     "data": {
      "image/png": "[encoded data removed]",
      "text/plain": [
       "<Figure size 1152x216 with 1 Axes>"
      ]
     },
     "metadata": {
      "needs_background": "light"
     },
     "output_type": "display_data"
    },
    {
     "data": {
      "image/png": "[encoded data removed]",
      "text/plain": [
       "<Figure size 1152x216 with 1 Axes>"
      ]
     },
     "metadata": {
      "needs_background": "light"
     },
     "output_type": "display_data"
    },
    {
     "data": {
      "image/png": "[encoded data removed]",
      "text/plain": [
       "<Figure size 1152x216 with 1 Axes>"
      ]
     },
     "metadata": {
      "needs_background": "light"
     },
     "output_type": "display_data"
    }
   ],
   "source": [
    "#Univariate analysis of categorical features\n",
    "for i in cat_df:\n",
    "    f=plt.figure(figsize=(16,3))\n",
    "    f.add_subplot(1,1,1)\n",
    "    sns.countplot(df[i])"
   ]
  },
  {
   "cell_type": "code",
   "execution_count": 93,
   "metadata": {},
   "outputs": [
    {
     "data": {
      "text/plain": [
       "<matplotlib.axes._subplots.AxesSubplot at 0x7edfb188>"
      ]
     },
     "execution_count": 93,
     "metadata": {},
     "output_type": "execute_result"
    },
    {
     "data": {
      "image/png": "[encoded data removed]",
      "text/plain": [
       "<Figure size 1152x360 with 1 Axes>"
      ]
     },
     "metadata": {
      "needs_background": "light"
     },
     "output_type": "display_data"
    }
   ],
   "source": [
    "plt.figure(figsize=(16,5))\n",
    "sns.lineplot(x='New_City', y='COST', data=df, ci=None)"
   ]
  },
  {
   "cell_type": "markdown",
   "metadata": {},
   "source": [
    "Observations:\n",
    "    1. New_city is negatively correlated with other features.\n",
    "    2. Drinks only, Iranian, Japanese, Biriyani, Oriental, Chinese, Momos are among the few that is highly correlated.\n",
    "    3. Tamilnadu and Karnataka is the maximum data that we have.\n",
    "    4. Prices are less in Telangana and Kerala.\n",
    "    5. We have very high prices in Maharashtra. This could be due to the high cost of living in Mumbai and nearby cities."
   ]
  },
  {
   "cell_type": "code",
   "execution_count": 106,
   "metadata": {},
   "outputs": [],
   "source": [
    "df.drop(columns=['New_City'], axis=1, inplace=True)"
   ]
  },
  {
   "cell_type": "code",
   "execution_count": 111,
   "metadata": {},
   "outputs": [],
   "source": [
    "df['Open_Hr'].fillna(0, inplace=True)\n",
    "df['Open_Hr'] = df['Open_Hr'].astype(int)\n",
    "df['Close_Hr'].fillna(0, inplace=True)\n",
    "df['Close_Hr'] = df['Close_Hr'].astype(int)"
   ]
  },
  {
   "cell_type": "code",
   "execution_count": 125,
   "metadata": {},
   "outputs": [
    {
     "data": {
      "text/plain": [
       "(15315, 1593)"
      ]
     },
     "execution_count": 125,
     "metadata": {},
     "output_type": "execute_result"
    }
   ],
   "source": [
    "df=pd.get_dummies(df)\n",
    "df.shape"
   ]
  },
  {
   "cell_type": "code",
   "execution_count": 126,
   "metadata": {},
   "outputs": [
    {
     "data": {
      "text/html": [
       "<div>\n",
       "<style scoped>\n",
       "    .dataframe tbody tr th:only-of-type {\n",
       "        vertical-align: middle;\n",
       "    }\n",
       "\n",
       "    .dataframe tbody tr th {\n",
       "        vertical-align: top;\n",
       "    }\n",
       "\n",
       "    .dataframe thead th {\n",
       "        text-align: right;\n",
       "    }\n",
       "</style>\n",
       "<table border=\"1\" class=\"dataframe\">\n",
       "  <thead>\n",
       "    <tr style=\"text-align: right;\">\n",
       "      <th></th>\n",
       "      <th>COST</th>\n",
       "      <th>RATING</th>\n",
       "      <th>RESTAURANT_ID</th>\n",
       "      <th>VOTES</th>\n",
       "      <th>CASUAL DINING</th>\n",
       "      <th>BAR</th>\n",
       "      <th>QUICK BITES</th>\n",
       "      <th>DESSERT PARLOR</th>\n",
       "      <th>CAFÉ</th>\n",
       "      <th>MICROBREWERY</th>\n",
       "      <th>...</th>\n",
       "      <th>Closed_Mon, Wed, Thu, Sat</th>\n",
       "      <th>Closed_Mon-Thu</th>\n",
       "      <th>Closed_Mon-Tue</th>\n",
       "      <th>Closed_Not_Closed</th>\n",
       "      <th>Closed_Sat</th>\n",
       "      <th>Closed_Sat-Sun</th>\n",
       "      <th>Closed_Sun</th>\n",
       "      <th>Closed_Tue</th>\n",
       "      <th>Closed_Wed</th>\n",
       "      <th>Closed_Wed-Sun</th>\n",
       "    </tr>\n",
       "  </thead>\n",
       "  <tbody>\n",
       "    <tr>\n",
       "      <td>12690</td>\n",
       "      <td>NaN</td>\n",
       "      <td>4.3</td>\n",
       "      <td>4085</td>\n",
       "      <td>564</td>\n",
       "      <td>1</td>\n",
       "      <td>0</td>\n",
       "      <td>0</td>\n",
       "      <td>0</td>\n",
       "      <td>0</td>\n",
       "      <td>0</td>\n",
       "      <td>...</td>\n",
       "      <td>0</td>\n",
       "      <td>0</td>\n",
       "      <td>0</td>\n",
       "      <td>1</td>\n",
       "      <td>0</td>\n",
       "      <td>0</td>\n",
       "      <td>0</td>\n",
       "      <td>0</td>\n",
       "      <td>0</td>\n",
       "      <td>0</td>\n",
       "    </tr>\n",
       "    <tr>\n",
       "      <td>12691</td>\n",
       "      <td>NaN</td>\n",
       "      <td>4.2</td>\n",
       "      <td>12680</td>\n",
       "      <td>61</td>\n",
       "      <td>0</td>\n",
       "      <td>0</td>\n",
       "      <td>1</td>\n",
       "      <td>0</td>\n",
       "      <td>0</td>\n",
       "      <td>0</td>\n",
       "      <td>...</td>\n",
       "      <td>0</td>\n",
       "      <td>0</td>\n",
       "      <td>0</td>\n",
       "      <td>1</td>\n",
       "      <td>0</td>\n",
       "      <td>0</td>\n",
       "      <td>0</td>\n",
       "      <td>0</td>\n",
       "      <td>0</td>\n",
       "      <td>0</td>\n",
       "    </tr>\n",
       "  </tbody>\n",
       "</table>\n",
       "<p>2 rows × 1593 columns</p>\n",
       "</div>"
      ],
      "text/plain": [
       "       COST  RATING  RESTAURANT_ID  VOTES  CASUAL DINING  BAR  QUICK BITES  \\\n",
       "12690   NaN     4.3           4085    564              1    0            0   \n",
       "12691   NaN     4.2          12680     61              0    0            1   \n",
       "\n",
       "       DESSERT PARLOR  CAFÉ  MICROBREWERY  ...  Closed_Mon, Wed, Thu, Sat  \\\n",
       "12690               0     0             0  ...                          0   \n",
       "12691               0     0             0  ...                          0   \n",
       "\n",
       "       Closed_Mon-Thu  Closed_Mon-Tue  Closed_Not_Closed  Closed_Sat  \\\n",
       "12690               0               0                  1           0   \n",
       "12691               0               0                  1           0   \n",
       "\n",
       "       Closed_Sat-Sun  Closed_Sun  Closed_Tue  Closed_Wed  Closed_Wed-Sun  \n",
       "12690               0           0           0           0               0  \n",
       "12691               0           0           0           0               0  \n",
       "\n",
       "[2 rows x 1593 columns]"
      ]
     },
     "execution_count": 126,
     "metadata": {},
     "output_type": "execute_result"
    }
   ],
   "source": [
    "df[df['COST'].isna()].head(2)"
   ]
  },
  {
   "cell_type": "code",
   "execution_count": 152,
   "metadata": {},
   "outputs": [],
   "source": [
    "df_train = df[0:12690]\n",
    "df_test = df[12690:].drop(columns=['COST'], axis=1)\n",
    "x = df_train.drop(columns=['COST'], axis=1)\n",
    "y = df_train['COST']"
   ]
  },
  {
   "cell_type": "code",
   "execution_count": 153,
   "metadata": {},
   "outputs": [],
   "source": [
    "x.fillna(0, inplace=True)"
   ]
  },
  {
   "cell_type": "code",
   "execution_count": 154,
   "metadata": {},
   "outputs": [],
   "source": [
    "# Instantiate and scale the data\n",
    "ss=StandardScaler()\n",
    "x=ss.fit_transform(x)"
   ]
  },
  {
   "cell_type": "code",
   "execution_count": 155,
   "metadata": {},
   "outputs": [
    {
     "data": {
      "text/plain": [
       "(12690, 10)"
      ]
     },
     "execution_count": 155,
     "metadata": {},
     "output_type": "execute_result"
    }
   ],
   "source": [
    "# Instanstiate PCA\n",
    "pca=PCA(n_components=10)\n",
    "x=pca.fit_transform(x)\n",
    "x.shape"
   ]
  },
  {
   "cell_type": "markdown",
   "metadata": {},
   "source": [
    "### Machine Learning Algorithms"
   ]
  },
  {
   "cell_type": "code",
   "execution_count": 156,
   "metadata": {},
   "outputs": [
    {
     "name": "stdout",
     "output_type": "stream",
     "text": [
      "x_train.shape --> (10152, 10) | x_test.shape --> (2538, 10) \n",
      "y_train.shape --> (10152,) | y_test.shape --> (2538,)\n"
     ]
    }
   ],
   "source": [
    "x_train,x_test,y_train,y_test=train_test_split(x,y,test_size=0.2,random_state=42)\n",
    "print('x_train.shape -->',x_train.shape,'| x_test.shape -->',x_test.shape,'\\ny_train.shape -->',y_train.shape,'| y_test.shape -->',y_test.shape)"
   ]
  },
  {
   "cell_type": "code",
   "execution_count": 157,
   "metadata": {},
   "outputs": [],
   "source": [
    "#Creating function for Model Training\n",
    "def models(model, x_train, x_test, y_train, y_test, score, rmse):\n",
    "    #Fit the algorithm on the data\n",
    "    model.fit(x_train, y_train)\n",
    "    \n",
    "    #Predict training set:\n",
    "    y_pred = model.predict(x_test)\n",
    "    \n",
    "    score.append(model.score(x_train, y_train)*100)\n",
    "    rmse.append(np.sqrt(mean_squared_error(y_test, y_pred)))\n",
    "    \n",
    "    print('Accuracy Score :: %0.2f' %(model.score(x_train, y_train)*100))\n",
    "    print('R2 Score:', r2_score(y_test, y_pred))\n",
    "    print('>>> Error >>>')\n",
    "    print('Mean Absolute Error:', mean_absolute_error(y_test, y_pred))\n",
    "    print('Mean Squared Error:', mean_squared_error(y_test, y_pred))\n",
    "    print('Root Mean Squared Error:', np.sqrt(mean_squared_error(y_test, y_pred)))"
   ]
  },
  {
   "cell_type": "code",
   "execution_count": 132,
   "metadata": {},
   "outputs": [],
   "source": [
    "# Instantiate all models\n",
    "lreg = LinearRegression()\n",
    "knr = KNeighborsRegressor()\n",
    "rr = Ridge()\n",
    "lr = Lasso()\n",
    "enr = ElasticNet()\n",
    "svr = SVR()\n",
    "dct = DecisionTreeRegressor()\n",
    "rf = RandomForestRegressor()"
   ]
  },
  {
   "cell_type": "code",
   "execution_count": 133,
   "metadata": {},
   "outputs": [],
   "source": [
    "all_models={'Linear Regression': lreg,\n",
    "            'K-Neighbors Regressor': knr,\n",
    "            'Ridge Regression': rr,\n",
    "            'Lasso Regression': lr,\n",
    "            'Elastic Net': enr,\n",
    "            'Support Vector Regression': svr,\n",
    "            'Decision Tree Regression': dct,\n",
    "            'Random Forest Regressor': rf\n",
    "           }"
   ]
  },
  {
   "cell_type": "code",
   "execution_count": 158,
   "metadata": {},
   "outputs": [
    {
     "name": "stdout",
     "output_type": "stream",
     "text": [
      "------------------- Linear Regression -------------------\n",
      "Accuracy Score :: 31.03\n",
      "R2 Score: 0.31766099321291397\n",
      ">>> Error >>>\n",
      "Mean Absolute Error: 303.26603230525467\n",
      "Mean Squared Error: 268482.7634856485\n",
      "Root Mean Squared Error: 518.1532239460144\n",
      "------------------- K-Neighbors Regressor -------------------\n",
      "Accuracy Score :: 64.26\n",
      "R2 Score: 0.437867680126385\n",
      ">>> Error >>>\n",
      "Mean Absolute Error: 267.27501970055164\n",
      "Mean Squared Error: 221184.53903861306\n",
      "Root Mean Squared Error: 470.30260369108424\n",
      "------------------- Ridge Regression -------------------\n",
      "Accuracy Score :: 31.03\n",
      "R2 Score: 0.31766105109307263\n",
      ">>> Error >>>\n",
      "Mean Absolute Error: 303.2652439180042\n",
      "Mean Squared Error: 268482.74071130203\n",
      "Root Mean Squared Error: 518.1532019695546\n",
      "------------------- Lasso Regression -------------------\n",
      "Accuracy Score :: 31.03\n",
      "R2 Score: 0.3174779814426263\n",
      ">>> Error >>>\n",
      "Mean Absolute Error: 303.1834313219844\n",
      "Mean Squared Error: 268554.7738871476\n",
      "Root Mean Squared Error: 518.2227068424806\n",
      "------------------- Elastic Net -------------------\n",
      "Accuracy Score :: 30.54\n",
      "R2 Score: 0.31287650273794854\n",
      ">>> Error >>>\n",
      "Mean Absolute Error: 301.8639987097994\n",
      "Mean Squared Error: 270365.33682794945\n",
      "Root Mean Squared Error: 519.9666689586453\n",
      "------------------- Support Vector Regression -------------------\n",
      "Accuracy Score :: 16.68\n",
      "R2 Score: 0.1812978465905618\n",
      ">>> Error >>>\n",
      "Mean Absolute Error: 305.8687934546743\n",
      "Mean Squared Error: 322138.1372494289\n",
      "Root Mean Squared Error: 567.5721427707925\n",
      "------------------- Decision Tree Regression -------------------\n",
      "Accuracy Score :: 100.00\n",
      "R2 Score: -0.3535175989739454\n",
      ">>> Error >>>\n",
      "Mean Absolute Error: 380.08274231678485\n",
      "Mean Squared Error: 532574.1922773838\n",
      "Root Mean Squared Error: 729.776809906552\n",
      "------------------- Random Forest Regressor -------------------\n",
      "Accuracy Score :: 92.39\n",
      "R2 Score: 0.49565704242099906\n",
      ">>> Error >>>\n",
      "Mean Absolute Error: 253.62581954294723\n",
      "Mean Squared Error: 198445.91859539883\n",
      "Root Mean Squared Error: 445.4726911892567\n"
     ]
    }
   ],
   "source": [
    "score,rmse = [],[]\n",
    "for i, j in all_models.items():\n",
    "    print('-------------------', i, '-------------------')\n",
    "    models(j, x_train, x_test, y_train, y_test, score, rmse)"
   ]
  },
  {
   "cell_type": "code",
   "execution_count": 159,
   "metadata": {},
   "outputs": [
    {
     "data": {
      "text/html": [
       "<div>\n",
       "<style scoped>\n",
       "    .dataframe tbody tr th:only-of-type {\n",
       "        vertical-align: middle;\n",
       "    }\n",
       "\n",
       "    .dataframe tbody tr th {\n",
       "        vertical-align: top;\n",
       "    }\n",
       "\n",
       "    .dataframe thead th {\n",
       "        text-align: right;\n",
       "    }\n",
       "</style>\n",
       "<table border=\"1\" class=\"dataframe\">\n",
       "  <thead>\n",
       "    <tr style=\"text-align: right;\">\n",
       "      <th></th>\n",
       "      <th>Model</th>\n",
       "      <th>Accuracy Score</th>\n",
       "      <th>RMSE</th>\n",
       "    </tr>\n",
       "  </thead>\n",
       "  <tbody>\n",
       "    <tr>\n",
       "      <td>6</td>\n",
       "      <td>Decision Tree Regression</td>\n",
       "      <td>99.9981</td>\n",
       "      <td>729.777</td>\n",
       "    </tr>\n",
       "    <tr>\n",
       "      <td>7</td>\n",
       "      <td>Random Forest Regressor</td>\n",
       "      <td>92.3867</td>\n",
       "      <td>445.473</td>\n",
       "    </tr>\n",
       "    <tr>\n",
       "      <td>1</td>\n",
       "      <td>K-Neighbors Regressor</td>\n",
       "      <td>64.2573</td>\n",
       "      <td>470.303</td>\n",
       "    </tr>\n",
       "    <tr>\n",
       "      <td>0</td>\n",
       "      <td>Linear Regression</td>\n",
       "      <td>31.0271</td>\n",
       "      <td>518.153</td>\n",
       "    </tr>\n",
       "    <tr>\n",
       "      <td>2</td>\n",
       "      <td>Ridge Regression</td>\n",
       "      <td>31.0271</td>\n",
       "      <td>518.153</td>\n",
       "    </tr>\n",
       "    <tr>\n",
       "      <td>3</td>\n",
       "      <td>Lasso Regression</td>\n",
       "      <td>31.0263</td>\n",
       "      <td>518.223</td>\n",
       "    </tr>\n",
       "    <tr>\n",
       "      <td>4</td>\n",
       "      <td>Elastic Net</td>\n",
       "      <td>30.5398</td>\n",
       "      <td>519.967</td>\n",
       "    </tr>\n",
       "    <tr>\n",
       "      <td>5</td>\n",
       "      <td>Support Vector Regression</td>\n",
       "      <td>16.6799</td>\n",
       "      <td>567.572</td>\n",
       "    </tr>\n",
       "  </tbody>\n",
       "</table>\n",
       "</div>"
      ],
      "text/plain": [
       "                       Model Accuracy Score     RMSE\n",
       "6   Decision Tree Regression        99.9981  729.777\n",
       "7    Random Forest Regressor        92.3867  445.473\n",
       "1      K-Neighbors Regressor        64.2573  470.303\n",
       "0          Linear Regression        31.0271  518.153\n",
       "2           Ridge Regression        31.0271  518.153\n",
       "3           Lasso Regression        31.0263  518.223\n",
       "4                Elastic Net        30.5398  519.967\n",
       "5  Support Vector Regression        16.6799  567.572"
      ]
     },
     "execution_count": 159,
     "metadata": {},
     "output_type": "execute_result"
    }
   ],
   "source": [
    "pd.DataFrame([all_models.keys(), score, rmse], index=['Model', 'Accuracy Score', 'RMSE']).T.sort_values(by='Accuracy Score', ascending=False)"
   ]
  },
  {
   "cell_type": "code",
   "execution_count": 160,
   "metadata": {},
   "outputs": [
    {
     "data": {
      "text/plain": [
       "-20.348359867050405"
      ]
     },
     "execution_count": 160,
     "metadata": {},
     "output_type": "execute_result"
    }
   ],
   "source": [
    "cv_scores = cross_val_score(dct, x_train, y_train, cv=10)\n",
    "cv_scores.mean()*100"
   ]
  },
  {
   "cell_type": "markdown",
   "metadata": {},
   "source": [
    "Conclusion:\n",
    "    1. Support Vector regression is the worst model with 10.73% accuracy.\n",
    "    2. We could not acheive a good score through cross validation.\n",
    "    3. Ridge Regression and Lasso Regression did not improve the score from Linear Regression.\n",
    "    4. As we can see, Decision Tree Regression gained 100 % accuracy and is the best model for this dataset."
   ]
  },
  {
   "cell_type": "code",
   "execution_count": 161,
   "metadata": {},
   "outputs": [
    {
     "data": {
      "text/plain": [
       "['Restaurant_Food_Cost.pkl']"
      ]
     },
     "execution_count": 161,
     "metadata": {},
     "output_type": "execute_result"
    }
   ],
   "source": [
    "#Exporting model as pkl file\n",
    "joblib.dump(dct,'Restaurant_Food_Cost.pkl')"
   ]
  },
  {
   "cell_type": "code",
   "execution_count": 162,
   "metadata": {},
   "outputs": [
    {
     "name": "stdout",
     "output_type": "stream",
     "text": [
      "Predicted Result Price: [1500.    0.    0. ...  700.    0.  400.]\n"
     ]
    }
   ],
   "source": [
    "# predict the value\n",
    "dct.fit(x_train, y_train)\n",
    "pred=dct.predict(x_test)\n",
    "print(\"Predicted Result Price:\",pred)"
   ]
  },
  {
   "cell_type": "code",
   "execution_count": 163,
   "metadata": {},
   "outputs": [],
   "source": [
    "df_pred=pd.DataFrame(pred)\n",
    "df_pred.to_csv('Restaurant_food_cost_prediction.csv')"
   ]
  }
 ],
 "metadata": {
  "kernelspec": {
   "display_name": "Python 3",
   "language": "python",
   "name": "python3"
  },
  "language_info": {
   "codemirror_mode": {
    "name": "ipython",
    "version": 3
   },
   "file_extension": ".py",
   "mimetype": "text/x-python",
   "name": "python",
   "nbconvert_exporter": "python",
   "pygments_lexer": "ipython3",
   "version": "3.7.4"
  }
 },
 "nbformat": 4,
 "nbformat_minor": 2
}
