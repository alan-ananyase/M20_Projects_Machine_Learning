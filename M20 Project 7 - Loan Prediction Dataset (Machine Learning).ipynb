{
 "cells": [
  {
   "cell_type": "code",
   "execution_count": 1,
   "metadata": {},
   "outputs": [],
   "source": [
    "# Basic Libraries\n",
    "import numpy as np\n",
    "import pandas as pd\n",
    "import warnings\n",
    "warnings.filterwarnings('ignore')\n",
    "\n",
    "# Data Visualization Libraries\n",
    "import seaborn as sns\n",
    "import matplotlib.pyplot as plt\n",
    "\n",
    "# Check for Outliers\n",
    "from scipy.stats import zscore\n",
    "\n",
    "# Data Pre-processing\n",
    "from sklearn.preprocessing import LabelEncoder\n",
    "from sklearn.impute import SimpleImputer\n",
    "from sklearn.preprocessing import StandardScaler\n",
    "\n",
    "# Model Training and Validation\n",
    "from sklearn.model_selection import train_test_split, GridSearchCV, cross_val_score\n",
    "from sklearn.metrics import accuracy_score, roc_auc_score, confusion_matrix, roc_curve, classification_report, plot_confusion_matrix\n",
    "\n",
    "# ML Algorithms\n",
    "from sklearn.linear_model import LogisticRegression\n",
    "from sklearn.naive_bayes import GaussianNB\n",
    "from sklearn.svm import SVC\n",
    "from sklearn.neighbors import KNeighborsClassifier\n",
    "from sklearn.tree import DecisionTreeClassifier\n",
    "from xgboost import XGBClassifier\n",
    "from sklearn.ensemble import RandomForestClassifier, BaggingClassifier, ExtraTreesClassifier, GradientBoostingClassifier\n",
    "\n",
    "# Model Export\n",
    "import joblib\n",
    "from joblib import dump #from joblib import load > to load .pkl file"
   ]
  },
  {
   "cell_type": "code",
   "execution_count": 2,
   "metadata": {},
   "outputs": [
    {
     "name": "stdout",
     "output_type": "stream",
     "text": [
      "(614, 13)\n"
     ]
    },
    {
     "data": {
      "text/html": [
       "<div>\n",
       "<style scoped>\n",
       "    .dataframe tbody tr th:only-of-type {\n",
       "        vertical-align: middle;\n",
       "    }\n",
       "\n",
       "    .dataframe tbody tr th {\n",
       "        vertical-align: top;\n",
       "    }\n",
       "\n",
       "    .dataframe thead th {\n",
       "        text-align: right;\n",
       "    }\n",
       "</style>\n",
       "<table border=\"1\" class=\"dataframe\">\n",
       "  <thead>\n",
       "    <tr style=\"text-align: right;\">\n",
       "      <th></th>\n",
       "      <th>Loan_ID</th>\n",
       "      <th>Gender</th>\n",
       "      <th>Married</th>\n",
       "      <th>Dependents</th>\n",
       "      <th>Education</th>\n",
       "      <th>Self_Employed</th>\n",
       "      <th>ApplicantIncome</th>\n",
       "      <th>CoapplicantIncome</th>\n",
       "      <th>LoanAmount</th>\n",
       "      <th>Loan_Amount_Term</th>\n",
       "      <th>Credit_History</th>\n",
       "      <th>Property_Area</th>\n",
       "      <th>Loan_Status</th>\n",
       "    </tr>\n",
       "  </thead>\n",
       "  <tbody>\n",
       "    <tr>\n",
       "      <td>0</td>\n",
       "      <td>LP001002</td>\n",
       "      <td>Male</td>\n",
       "      <td>No</td>\n",
       "      <td>0</td>\n",
       "      <td>Graduate</td>\n",
       "      <td>No</td>\n",
       "      <td>5849</td>\n",
       "      <td>0.0</td>\n",
       "      <td>NaN</td>\n",
       "      <td>360.0</td>\n",
       "      <td>1.0</td>\n",
       "      <td>Urban</td>\n",
       "      <td>Y</td>\n",
       "    </tr>\n",
       "    <tr>\n",
       "      <td>1</td>\n",
       "      <td>LP001003</td>\n",
       "      <td>Male</td>\n",
       "      <td>Yes</td>\n",
       "      <td>1</td>\n",
       "      <td>Graduate</td>\n",
       "      <td>No</td>\n",
       "      <td>4583</td>\n",
       "      <td>1508.0</td>\n",
       "      <td>128.0</td>\n",
       "      <td>360.0</td>\n",
       "      <td>1.0</td>\n",
       "      <td>Rural</td>\n",
       "      <td>N</td>\n",
       "    </tr>\n",
       "    <tr>\n",
       "      <td>2</td>\n",
       "      <td>LP001005</td>\n",
       "      <td>Male</td>\n",
       "      <td>Yes</td>\n",
       "      <td>0</td>\n",
       "      <td>Graduate</td>\n",
       "      <td>Yes</td>\n",
       "      <td>3000</td>\n",
       "      <td>0.0</td>\n",
       "      <td>66.0</td>\n",
       "      <td>360.0</td>\n",
       "      <td>1.0</td>\n",
       "      <td>Urban</td>\n",
       "      <td>Y</td>\n",
       "    </tr>\n",
       "    <tr>\n",
       "      <td>3</td>\n",
       "      <td>LP001006</td>\n",
       "      <td>Male</td>\n",
       "      <td>Yes</td>\n",
       "      <td>0</td>\n",
       "      <td>Not Graduate</td>\n",
       "      <td>No</td>\n",
       "      <td>2583</td>\n",
       "      <td>2358.0</td>\n",
       "      <td>120.0</td>\n",
       "      <td>360.0</td>\n",
       "      <td>1.0</td>\n",
       "      <td>Urban</td>\n",
       "      <td>Y</td>\n",
       "    </tr>\n",
       "    <tr>\n",
       "      <td>4</td>\n",
       "      <td>LP001008</td>\n",
       "      <td>Male</td>\n",
       "      <td>No</td>\n",
       "      <td>0</td>\n",
       "      <td>Graduate</td>\n",
       "      <td>No</td>\n",
       "      <td>6000</td>\n",
       "      <td>0.0</td>\n",
       "      <td>141.0</td>\n",
       "      <td>360.0</td>\n",
       "      <td>1.0</td>\n",
       "      <td>Urban</td>\n",
       "      <td>Y</td>\n",
       "    </tr>\n",
       "    <tr>\n",
       "      <td>5</td>\n",
       "      <td>LP001011</td>\n",
       "      <td>Male</td>\n",
       "      <td>Yes</td>\n",
       "      <td>2</td>\n",
       "      <td>Graduate</td>\n",
       "      <td>Yes</td>\n",
       "      <td>5417</td>\n",
       "      <td>4196.0</td>\n",
       "      <td>267.0</td>\n",
       "      <td>360.0</td>\n",
       "      <td>1.0</td>\n",
       "      <td>Urban</td>\n",
       "      <td>Y</td>\n",
       "    </tr>\n",
       "    <tr>\n",
       "      <td>6</td>\n",
       "      <td>LP001013</td>\n",
       "      <td>Male</td>\n",
       "      <td>Yes</td>\n",
       "      <td>0</td>\n",
       "      <td>Not Graduate</td>\n",
       "      <td>No</td>\n",
       "      <td>2333</td>\n",
       "      <td>1516.0</td>\n",
       "      <td>95.0</td>\n",
       "      <td>360.0</td>\n",
       "      <td>1.0</td>\n",
       "      <td>Urban</td>\n",
       "      <td>Y</td>\n",
       "    </tr>\n",
       "    <tr>\n",
       "      <td>7</td>\n",
       "      <td>LP001014</td>\n",
       "      <td>Male</td>\n",
       "      <td>Yes</td>\n",
       "      <td>3+</td>\n",
       "      <td>Graduate</td>\n",
       "      <td>No</td>\n",
       "      <td>3036</td>\n",
       "      <td>2504.0</td>\n",
       "      <td>158.0</td>\n",
       "      <td>360.0</td>\n",
       "      <td>0.0</td>\n",
       "      <td>Semiurban</td>\n",
       "      <td>N</td>\n",
       "    </tr>\n",
       "    <tr>\n",
       "      <td>8</td>\n",
       "      <td>LP001018</td>\n",
       "      <td>Male</td>\n",
       "      <td>Yes</td>\n",
       "      <td>2</td>\n",
       "      <td>Graduate</td>\n",
       "      <td>No</td>\n",
       "      <td>4006</td>\n",
       "      <td>1526.0</td>\n",
       "      <td>168.0</td>\n",
       "      <td>360.0</td>\n",
       "      <td>1.0</td>\n",
       "      <td>Urban</td>\n",
       "      <td>Y</td>\n",
       "    </tr>\n",
       "    <tr>\n",
       "      <td>9</td>\n",
       "      <td>LP001020</td>\n",
       "      <td>Male</td>\n",
       "      <td>Yes</td>\n",
       "      <td>1</td>\n",
       "      <td>Graduate</td>\n",
       "      <td>No</td>\n",
       "      <td>12841</td>\n",
       "      <td>10968.0</td>\n",
       "      <td>349.0</td>\n",
       "      <td>360.0</td>\n",
       "      <td>1.0</td>\n",
       "      <td>Semiurban</td>\n",
       "      <td>N</td>\n",
       "    </tr>\n",
       "  </tbody>\n",
       "</table>\n",
       "</div>"
      ],
      "text/plain": [
       "    Loan_ID Gender Married Dependents     Education Self_Employed  \\\n",
       "0  LP001002   Male      No          0      Graduate            No   \n",
       "1  LP001003   Male     Yes          1      Graduate            No   \n",
       "2  LP001005   Male     Yes          0      Graduate           Yes   \n",
       "3  LP001006   Male     Yes          0  Not Graduate            No   \n",
       "4  LP001008   Male      No          0      Graduate            No   \n",
       "5  LP001011   Male     Yes          2      Graduate           Yes   \n",
       "6  LP001013   Male     Yes          0  Not Graduate            No   \n",
       "7  LP001014   Male     Yes         3+      Graduate            No   \n",
       "8  LP001018   Male     Yes          2      Graduate            No   \n",
       "9  LP001020   Male     Yes          1      Graduate            No   \n",
       "\n",
       "   ApplicantIncome  CoapplicantIncome  LoanAmount  Loan_Amount_Term  \\\n",
       "0             5849                0.0         NaN             360.0   \n",
       "1             4583             1508.0       128.0             360.0   \n",
       "2             3000                0.0        66.0             360.0   \n",
       "3             2583             2358.0       120.0             360.0   \n",
       "4             6000                0.0       141.0             360.0   \n",
       "5             5417             4196.0       267.0             360.0   \n",
       "6             2333             1516.0        95.0             360.0   \n",
       "7             3036             2504.0       158.0             360.0   \n",
       "8             4006             1526.0       168.0             360.0   \n",
       "9            12841            10968.0       349.0             360.0   \n",
       "\n",
       "   Credit_History Property_Area Loan_Status  \n",
       "0             1.0         Urban           Y  \n",
       "1             1.0         Rural           N  \n",
       "2             1.0         Urban           Y  \n",
       "3             1.0         Urban           Y  \n",
       "4             1.0         Urban           Y  \n",
       "5             1.0         Urban           Y  \n",
       "6             1.0         Urban           Y  \n",
       "7             0.0     Semiurban           N  \n",
       "8             1.0         Urban           Y  \n",
       "9             1.0     Semiurban           N  "
      ]
     },
     "execution_count": 2,
     "metadata": {},
     "output_type": "execute_result"
    }
   ],
   "source": [
    "df=pd.read_csv('loan_prediction.csv')\n",
    "print(df.shape)\n",
    "df.head(10)"
   ]
  },
  {
   "cell_type": "code",
   "execution_count": 3,
   "metadata": {},
   "outputs": [
    {
     "name": "stdout",
     "output_type": "stream",
     "text": [
      "<class 'pandas.core.frame.DataFrame'>\n",
      "RangeIndex: 614 entries, 0 to 613\n",
      "Data columns (total 13 columns):\n",
      "Loan_ID              614 non-null object\n",
      "Gender               601 non-null object\n",
      "Married              611 non-null object\n",
      "Dependents           599 non-null object\n",
      "Education            614 non-null object\n",
      "Self_Employed        582 non-null object\n",
      "ApplicantIncome      614 non-null int64\n",
      "CoapplicantIncome    614 non-null float64\n",
      "LoanAmount           592 non-null float64\n",
      "Loan_Amount_Term     600 non-null float64\n",
      "Credit_History       564 non-null float64\n",
      "Property_Area        614 non-null object\n",
      "Loan_Status          614 non-null object\n",
      "dtypes: float64(4), int64(1), object(8)\n",
      "memory usage: 62.5+ KB\n"
     ]
    }
   ],
   "source": [
    "df.info()"
   ]
  },
  {
   "cell_type": "raw",
   "metadata": {},
   "source": [
    "Observations:\n",
    "    614 applications and lot of columns have missing values.\n",
    "    Loan ID is a unique identifier and can be removed.\n",
    "    Dependents is supposed to be int, but shows as Object. We will need to convert them accordingly.\n",
    "    Every ApplicantIncome that is Zero must not receive a Loan amount, regardless of Coapplicant income.\n",
    "    Check coapplicant income and look for any outliers. It is possible to have 0 for coapplicant. Need to check values for no coapplicant.\n",
    "    Loan amount must be less than income of applicant.\n",
    "    Don't seem to have any null values for Property_Area, Loan_Status, Income, Education and Loan ID."
   ]
  },
  {
   "cell_type": "code",
   "execution_count": 4,
   "metadata": {},
   "outputs": [
    {
     "data": {
      "text/html": [
       "<div>\n",
       "<style scoped>\n",
       "    .dataframe tbody tr th:only-of-type {\n",
       "        vertical-align: middle;\n",
       "    }\n",
       "\n",
       "    .dataframe tbody tr th {\n",
       "        vertical-align: top;\n",
       "    }\n",
       "\n",
       "    .dataframe thead th {\n",
       "        text-align: right;\n",
       "    }\n",
       "</style>\n",
       "<table border=\"1\" class=\"dataframe\">\n",
       "  <thead>\n",
       "    <tr style=\"text-align: right;\">\n",
       "      <th></th>\n",
       "      <th>ApplicantIncome</th>\n",
       "      <th>CoapplicantIncome</th>\n",
       "      <th>LoanAmount</th>\n",
       "      <th>Loan_Amount_Term</th>\n",
       "      <th>Credit_History</th>\n",
       "    </tr>\n",
       "  </thead>\n",
       "  <tbody>\n",
       "    <tr>\n",
       "      <td>count</td>\n",
       "      <td>614.000000</td>\n",
       "      <td>614.000000</td>\n",
       "      <td>592.000000</td>\n",
       "      <td>600.00000</td>\n",
       "      <td>564.000000</td>\n",
       "    </tr>\n",
       "    <tr>\n",
       "      <td>mean</td>\n",
       "      <td>5403.459283</td>\n",
       "      <td>1621.245798</td>\n",
       "      <td>146.412162</td>\n",
       "      <td>342.00000</td>\n",
       "      <td>0.842199</td>\n",
       "    </tr>\n",
       "    <tr>\n",
       "      <td>std</td>\n",
       "      <td>6109.041673</td>\n",
       "      <td>2926.248369</td>\n",
       "      <td>85.587325</td>\n",
       "      <td>65.12041</td>\n",
       "      <td>0.364878</td>\n",
       "    </tr>\n",
       "    <tr>\n",
       "      <td>min</td>\n",
       "      <td>150.000000</td>\n",
       "      <td>0.000000</td>\n",
       "      <td>9.000000</td>\n",
       "      <td>12.00000</td>\n",
       "      <td>0.000000</td>\n",
       "    </tr>\n",
       "    <tr>\n",
       "      <td>25%</td>\n",
       "      <td>2877.500000</td>\n",
       "      <td>0.000000</td>\n",
       "      <td>100.000000</td>\n",
       "      <td>360.00000</td>\n",
       "      <td>1.000000</td>\n",
       "    </tr>\n",
       "    <tr>\n",
       "      <td>50%</td>\n",
       "      <td>3812.500000</td>\n",
       "      <td>1188.500000</td>\n",
       "      <td>128.000000</td>\n",
       "      <td>360.00000</td>\n",
       "      <td>1.000000</td>\n",
       "    </tr>\n",
       "    <tr>\n",
       "      <td>75%</td>\n",
       "      <td>5795.000000</td>\n",
       "      <td>2297.250000</td>\n",
       "      <td>168.000000</td>\n",
       "      <td>360.00000</td>\n",
       "      <td>1.000000</td>\n",
       "    </tr>\n",
       "    <tr>\n",
       "      <td>max</td>\n",
       "      <td>81000.000000</td>\n",
       "      <td>41667.000000</td>\n",
       "      <td>700.000000</td>\n",
       "      <td>480.00000</td>\n",
       "      <td>1.000000</td>\n",
       "    </tr>\n",
       "  </tbody>\n",
       "</table>\n",
       "</div>"
      ],
      "text/plain": [
       "       ApplicantIncome  CoapplicantIncome  LoanAmount  Loan_Amount_Term  \\\n",
       "count       614.000000         614.000000  592.000000         600.00000   \n",
       "mean       5403.459283        1621.245798  146.412162         342.00000   \n",
       "std        6109.041673        2926.248369   85.587325          65.12041   \n",
       "min         150.000000           0.000000    9.000000          12.00000   \n",
       "25%        2877.500000           0.000000  100.000000         360.00000   \n",
       "50%        3812.500000        1188.500000  128.000000         360.00000   \n",
       "75%        5795.000000        2297.250000  168.000000         360.00000   \n",
       "max       81000.000000       41667.000000  700.000000         480.00000   \n",
       "\n",
       "       Credit_History  \n",
       "count      564.000000  \n",
       "mean         0.842199  \n",
       "std          0.364878  \n",
       "min          0.000000  \n",
       "25%          1.000000  \n",
       "50%          1.000000  \n",
       "75%          1.000000  \n",
       "max          1.000000  "
      ]
     },
     "execution_count": 4,
     "metadata": {},
     "output_type": "execute_result"
    }
   ],
   "source": [
    "df.describe()"
   ]
  },
  {
   "cell_type": "markdown",
   "metadata": {},
   "source": [
    "Observation: There are lot of outliers except for 'Credit_history'"
   ]
  },
  {
   "cell_type": "code",
   "execution_count": 5,
   "metadata": {},
   "outputs": [
    {
     "name": "stdout",
     "output_type": "stream",
     "text": [
      "Loan_ID\n",
      "# of unique values --> 614\n",
      "count          614\n",
      "unique         614\n",
      "top       LP001841\n",
      "freq             1\n",
      "Name: Loan_ID, dtype: object\n",
      "++++++++++++++++++++++++++++++++++++++++++++++++++++++++++++++++++++++\n",
      "Gender\n",
      "# of unique values --> 2\n",
      "['Male' 'Female' nan]\n",
      "++++++++++++++++++++++++++++++++++++++++++++++++++++++++++++++++++++++\n",
      "Married\n",
      "# of unique values --> 2\n",
      "['No' 'Yes' nan]\n",
      "++++++++++++++++++++++++++++++++++++++++++++++++++++++++++++++++++++++\n",
      "Dependents\n",
      "# of unique values --> 4\n",
      "['0' '1' '2' '3+' nan]\n",
      "++++++++++++++++++++++++++++++++++++++++++++++++++++++++++++++++++++++\n",
      "Education\n",
      "# of unique values --> 2\n",
      "['Graduate' 'Not Graduate']\n",
      "++++++++++++++++++++++++++++++++++++++++++++++++++++++++++++++++++++++\n",
      "Self_Employed\n",
      "# of unique values --> 2\n",
      "['No' 'Yes' nan]\n",
      "++++++++++++++++++++++++++++++++++++++++++++++++++++++++++++++++++++++\n",
      "ApplicantIncome\n",
      "# of unique values --> 505\n",
      "count      614.000000\n",
      "mean      5403.459283\n",
      "std       6109.041673\n",
      "min        150.000000\n",
      "25%       2877.500000\n",
      "50%       3812.500000\n",
      "75%       5795.000000\n",
      "max      81000.000000\n",
      "Name: ApplicantIncome, dtype: float64\n",
      "++++++++++++++++++++++++++++++++++++++++++++++++++++++++++++++++++++++\n",
      "CoapplicantIncome\n",
      "# of unique values --> 287\n",
      "count      614.000000\n",
      "mean      1621.245798\n",
      "std       2926.248369\n",
      "min          0.000000\n",
      "25%          0.000000\n",
      "50%       1188.500000\n",
      "75%       2297.250000\n",
      "max      41667.000000\n",
      "Name: CoapplicantIncome, dtype: float64\n",
      "++++++++++++++++++++++++++++++++++++++++++++++++++++++++++++++++++++++\n",
      "LoanAmount\n",
      "# of unique values --> 203\n",
      "count    592.000000\n",
      "mean     146.412162\n",
      "std       85.587325\n",
      "min        9.000000\n",
      "25%      100.000000\n",
      "50%      128.000000\n",
      "75%      168.000000\n",
      "max      700.000000\n",
      "Name: LoanAmount, dtype: float64\n",
      "++++++++++++++++++++++++++++++++++++++++++++++++++++++++++++++++++++++\n",
      "Loan_Amount_Term\n",
      "# of unique values --> 10\n",
      "[360. 120. 240.  nan 180.  60. 300. 480.  36.  84.  12.]\n",
      "++++++++++++++++++++++++++++++++++++++++++++++++++++++++++++++++++++++\n",
      "Credit_History\n",
      "# of unique values --> 2\n",
      "[ 1.  0. nan]\n",
      "++++++++++++++++++++++++++++++++++++++++++++++++++++++++++++++++++++++\n",
      "Property_Area\n",
      "# of unique values --> 3\n",
      "['Urban' 'Rural' 'Semiurban']\n",
      "++++++++++++++++++++++++++++++++++++++++++++++++++++++++++++++++++++++\n",
      "Loan_Status\n",
      "# of unique values --> 2\n",
      "['Y' 'N']\n",
      "++++++++++++++++++++++++++++++++++++++++++++++++++++++++++++++++++++++\n"
     ]
    }
   ],
   "source": [
    "for i in df.columns:\n",
    "    print(i)\n",
    "    print('# of unique values -->', df[i].nunique())\n",
    "    if df[i].nunique()<15:\n",
    "        print(df[i].unique())\n",
    "    else:\n",
    "        print(df[i].describe())\n",
    "    print('++++++++++++++++++++++++++++++++++++++++++++++++++++++++++++++++++++++')"
   ]
  },
  {
   "cell_type": "markdown",
   "metadata": {},
   "source": [
    "## Handling Missing Data"
   ]
  },
  {
   "cell_type": "code",
   "execution_count": 6,
   "metadata": {},
   "outputs": [
    {
     "data": {
      "text/plain": [
       "<matplotlib.axes._subplots.AxesSubplot at 0xc158508>"
      ]
     },
     "execution_count": 6,
     "metadata": {},
     "output_type": "execute_result"
    },
    {
     "data": {
      "image/png": "[encoded data removed]",
      "text/plain": [
       "<Figure size 1224x720 with 2 Axes>"
      ]
     },
     "metadata": {
      "needs_background": "light"
     },
     "output_type": "display_data"
    }
   ],
   "source": [
    "plt.figure(figsize=(17,10))\n",
    "sns.heatmap(df.isnull())"
   ]
  },
  {
   "cell_type": "code",
   "execution_count": 7,
   "metadata": {},
   "outputs": [
    {
     "data": {
      "text/plain": [
       "Loan_ID               0\n",
       "Gender               13\n",
       "Married               3\n",
       "Dependents           15\n",
       "Education             0\n",
       "Self_Employed        32\n",
       "ApplicantIncome       0\n",
       "CoapplicantIncome     0\n",
       "LoanAmount           22\n",
       "Loan_Amount_Term     14\n",
       "Credit_History       50\n",
       "Property_Area         0\n",
       "Loan_Status           0\n",
       "dtype: int64"
      ]
     },
     "execution_count": 7,
     "metadata": {},
     "output_type": "execute_result"
    }
   ],
   "source": [
    "#Dealing with NULL values\n",
    "df.isnull().sum()"
   ]
  },
  {
   "cell_type": "code",
   "execution_count": 8,
   "metadata": {},
   "outputs": [
    {
     "data": {
      "text/plain": [
       "<matplotlib.axes._subplots.AxesSubplot at 0xcc0bac8>"
      ]
     },
     "execution_count": 8,
     "metadata": {},
     "output_type": "execute_result"
    },
    {
     "data": {
      "image/png": "[encoded data removed]",
      "text/plain": [
       "<Figure size 432x288 with 1 Axes>"
      ]
     },
     "metadata": {
      "needs_background": "light"
     },
     "output_type": "display_data"
    }
   ],
   "source": [
    "#Gender\n",
    "sns.countplot('Gender', data=df)"
   ]
  },
  {
   "cell_type": "markdown",
   "metadata": {},
   "source": [
    "Males are 3 times more than females. It would not be fair to go with mode here. Let's see how much data we will loose if we remove those null rows"
   ]
  },
  {
   "cell_type": "code",
   "execution_count": 9,
   "metadata": {},
   "outputs": [
    {
     "data": {
      "text/plain": [
       "Loan_ID               0\n",
       "Gender               13\n",
       "Married               3\n",
       "Dependents           15\n",
       "Education             0\n",
       "Self_Employed        32\n",
       "ApplicantIncome       0\n",
       "CoapplicantIncome     0\n",
       "LoanAmount           22\n",
       "Loan_Amount_Term     14\n",
       "Credit_History       50\n",
       "Property_Area         0\n",
       "Loan_Status           0\n",
       "dtype: int64"
      ]
     },
     "execution_count": 9,
     "metadata": {},
     "output_type": "execute_result"
    }
   ],
   "source": [
    "df.isnull().sum()"
   ]
  },
  {
   "cell_type": "code",
   "execution_count": 10,
   "metadata": {},
   "outputs": [
    {
     "name": "stdout",
     "output_type": "stream",
     "text": [
      "cat_df >>> \n",
      " ['Loan_ID', 'Gender', 'Married', 'Dependents', 'Education', 'Self_Employed', 'Property_Area', 'Loan_Status'] \n",
      "num_df >>> \n",
      " ['ApplicantIncome', 'CoapplicantIncome', 'LoanAmount', 'Loan_Amount_Term', 'Credit_History']\n"
     ]
    }
   ],
   "source": [
    "cat_df,num_df=[],[]\n",
    "for i in df.columns:\n",
    "    if df[i].dtype=='O':\n",
    "        cat_df.append(i)\n",
    "    else:\n",
    "        num_df.append(i)\n",
    "print('cat_df >>> \\n',cat_df,'\\nnum_df >>> \\n',num_df)"
   ]
  },
  {
   "cell_type": "code",
   "execution_count": 11,
   "metadata": {},
   "outputs": [
    {
     "name": "stdout",
     "output_type": "stream",
     "text": [
      "614\n",
      "601\n",
      "598\n",
      "586\n",
      "554\n"
     ]
    }
   ],
   "source": [
    "# Removing rows where there is null values in categorical data\n",
    "print(df.shape[0])\n",
    "df=df[(df['Gender']=='Male') | (df['Gender']=='Female')]\n",
    "print(df.shape[0])\n",
    "df=df[(df['Married']=='Yes') | (df['Married']=='No')]\n",
    "print(df.shape[0])\n",
    "df=df[(df['Dependents']=='0') | (df['Dependents']=='1') | (df['Dependents']=='2') | (df['Dependents']=='3+')]\n",
    "print(df.shape[0])\n",
    "df=df[(df['Self_Employed']=='Yes') | (df['Self_Employed']=='No')]\n",
    "print(df.shape[0])"
   ]
  },
  {
   "cell_type": "code",
   "execution_count": 12,
   "metadata": {},
   "outputs": [
    {
     "data": {
      "text/plain": [
       "ApplicantIncome      0\n",
       "CoapplicantIncome    0\n",
       "LoanAmount           0\n",
       "Loan_Amount_Term     0\n",
       "Credit_History       0\n",
       "dtype: int64"
      ]
     },
     "execution_count": 12,
     "metadata": {},
     "output_type": "execute_result"
    }
   ],
   "source": [
    "# Using Simple Imputer to handle missing numerical values with its mean\n",
    "si_num=SimpleImputer(missing_values=np.nan, strategy='mean')\n",
    "a=pd.DataFrame(data=df[num_df])\n",
    "df_a=si_num.fit_transform(a)\n",
    "df_num=pd.DataFrame(df_a, columns=num_df)\n",
    "df_num.isnull().sum()"
   ]
  },
  {
   "cell_type": "code",
   "execution_count": 13,
   "metadata": {},
   "outputs": [],
   "source": [
    "df.drop(columns=num_df, axis=1, inplace=True)\n",
    "df=pd.concat([df,df_num],axis=1)\n",
    "df.dropna(axis=0, inplace=True)"
   ]
  },
  {
   "cell_type": "code",
   "execution_count": 14,
   "metadata": {},
   "outputs": [
    {
     "data": {
      "text/plain": [
       "array([[<matplotlib.axes._subplots.AxesSubplot object at 0x000000000D06FF88>,\n",
       "        <matplotlib.axes._subplots.AxesSubplot object at 0x000000000CD5DEC8>],\n",
       "       [<matplotlib.axes._subplots.AxesSubplot object at 0x000000000CD993C8>,\n",
       "        <matplotlib.axes._subplots.AxesSubplot object at 0x000000000CDCFB88>],\n",
       "       [<matplotlib.axes._subplots.AxesSubplot object at 0x000000000CE07C88>,\n",
       "        <matplotlib.axes._subplots.AxesSubplot object at 0x000000000CE40CC8>]],\n",
       "      dtype=object)"
      ]
     },
     "execution_count": 14,
     "metadata": {},
     "output_type": "execute_result"
    },
    {
     "data": {
      "image/png": "[encoded data removed]",
      "text/plain": [
       "<Figure size 864x576 with 6 Axes>"
      ]
     },
     "metadata": {
      "needs_background": "light"
     },
     "output_type": "display_data"
    }
   ],
   "source": [
    "df.hist(figsize=(12,8))"
   ]
  },
  {
   "cell_type": "code",
   "execution_count": 15,
   "metadata": {},
   "outputs": [
    {
     "data": {
      "text/plain": [
       "<seaborn.axisgrid.PairGrid at 0xcf42608>"
      ]
     },
     "execution_count": 15,
     "metadata": {},
     "output_type": "execute_result"
    },
    {
     "data": {
      "image/png": "[encoded data removed]",
      "text/plain": [
       "<Figure size 900x900 with 30 Axes>"
      ]
     },
     "metadata": {
      "needs_background": "light"
     },
     "output_type": "display_data"
    }
   ],
   "source": [
    "sns.pairplot(df)"
   ]
  },
  {
   "cell_type": "code",
   "execution_count": 16,
   "metadata": {},
   "outputs": [
    {
     "data": {
      "text/plain": [
       "Index(['Gender', 'Married', 'Dependents', 'Education', 'Self_Employed',\n",
       "       'Property_Area', 'Loan_Status', 'ApplicantIncome', 'CoapplicantIncome',\n",
       "       'LoanAmount', 'Loan_Amount_Term', 'Credit_History'],\n",
       "      dtype='object')"
      ]
     },
     "execution_count": 16,
     "metadata": {},
     "output_type": "execute_result"
    }
   ],
   "source": [
    "# Dropping 'Loan_ID' as it has unique values\n",
    "df.drop(columns=['Loan_ID'], axis=1, inplace=True)\n",
    "df.columns"
   ]
  },
  {
   "cell_type": "code",
   "execution_count": 17,
   "metadata": {},
   "outputs": [
    {
     "data": {
      "text/plain": [
       "<matplotlib.axes._subplots.AxesSubplot at 0xf0b9d08>"
      ]
     },
     "execution_count": 17,
     "metadata": {},
     "output_type": "execute_result"
    },
    {
     "data": {
      "image/png": "[encoded data removed]",
      "text/plain": [
       "<Figure size 432x288 with 1 Axes>"
      ]
     },
     "metadata": {
      "needs_background": "light"
     },
     "output_type": "display_data"
    }
   ],
   "source": [
    "sns.countplot(x='Married', data=df, hue='Loan_Status')"
   ]
  },
  {
   "cell_type": "code",
   "execution_count": 18,
   "metadata": {},
   "outputs": [
    {
     "data": {
      "text/plain": [
       "<seaborn.axisgrid.FacetGrid at 0xcd23f88>"
      ]
     },
     "execution_count": 18,
     "metadata": {},
     "output_type": "execute_result"
    },
    {
     "data": {
      "image/png": "[encoded data removed]",
      "text/plain": [
       "<Figure size 990.35x288 with 1 Axes>"
      ]
     },
     "metadata": {
      "needs_background": "light"
     },
     "output_type": "display_data"
    }
   ],
   "source": [
    "sns.catplot(x='Loan_Amount_Term',y='LoanAmount',data=df,hue='Loan_Status',height=4, aspect=3.2)"
   ]
  },
  {
   "cell_type": "code",
   "execution_count": 19,
   "metadata": {},
   "outputs": [
    {
     "data": {
      "text/plain": [
       "<seaborn.axisgrid.FacetGrid at 0xf1dfc88>"
      ]
     },
     "execution_count": 19,
     "metadata": {},
     "output_type": "execute_result"
    },
    {
     "data": {
      "image/png": "[encoded data removed]",
      "text/plain": [
       "<Figure size 932.75x288 with 1 Axes>"
      ]
     },
     "metadata": {
      "needs_background": "light"
     },
     "output_type": "display_data"
    }
   ],
   "source": [
    "sns.catplot(x='Education',y='LoanAmount',data=df,hue='Loan_Status',height=4, aspect=3)"
   ]
  },
  {
   "cell_type": "code",
   "execution_count": 20,
   "metadata": {},
   "outputs": [
    {
     "data": {
      "text/html": [
       "<div>\n",
       "<style scoped>\n",
       "    .dataframe tbody tr th:only-of-type {\n",
       "        vertical-align: middle;\n",
       "    }\n",
       "\n",
       "    .dataframe tbody tr th {\n",
       "        vertical-align: top;\n",
       "    }\n",
       "\n",
       "    .dataframe thead th {\n",
       "        text-align: right;\n",
       "    }\n",
       "</style>\n",
       "<table border=\"1\" class=\"dataframe\">\n",
       "  <thead>\n",
       "    <tr style=\"text-align: right;\">\n",
       "      <th>Loan_Status</th>\n",
       "      <th>N</th>\n",
       "      <th>Y</th>\n",
       "    </tr>\n",
       "    <tr>\n",
       "      <th>Education</th>\n",
       "      <th></th>\n",
       "      <th></th>\n",
       "    </tr>\n",
       "  </thead>\n",
       "  <tbody>\n",
       "    <tr>\n",
       "      <td>Graduate</td>\n",
       "      <td>112</td>\n",
       "      <td>276</td>\n",
       "    </tr>\n",
       "    <tr>\n",
       "      <td>Not Graduate</td>\n",
       "      <td>44</td>\n",
       "      <td>70</td>\n",
       "    </tr>\n",
       "  </tbody>\n",
       "</table>\n",
       "</div>"
      ],
      "text/plain": [
       "Loan_Status     N    Y\n",
       "Education             \n",
       "Graduate      112  276\n",
       "Not Graduate   44   70"
      ]
     },
     "execution_count": 20,
     "metadata": {},
     "output_type": "execute_result"
    }
   ],
   "source": [
    "pd.crosstab(df['Education'],df['Loan_Status'])"
   ]
  },
  {
   "cell_type": "code",
   "execution_count": 21,
   "metadata": {},
   "outputs": [
    {
     "data": {
      "text/plain": [
       "<seaborn.axisgrid.FacetGrid at 0xf904608>"
      ]
     },
     "execution_count": 21,
     "metadata": {},
     "output_type": "execute_result"
    },
    {
     "data": {
      "image/png": "[encoded data removed]",
      "text/plain": [
       "<Figure size 990.35x288 with 1 Axes>"
      ]
     },
     "metadata": {
      "needs_background": "light"
     },
     "output_type": "display_data"
    }
   ],
   "source": [
    "sns.catplot(x='Self_Employed',y='LoanAmount',data=df,hue='Loan_Status',height=4, aspect=3.2)"
   ]
  },
  {
   "cell_type": "code",
   "execution_count": 22,
   "metadata": {},
   "outputs": [
    {
     "data": {
      "text/html": [
       "<div>\n",
       "<style scoped>\n",
       "    .dataframe tbody tr th:only-of-type {\n",
       "        vertical-align: middle;\n",
       "    }\n",
       "\n",
       "    .dataframe tbody tr th {\n",
       "        vertical-align: top;\n",
       "    }\n",
       "\n",
       "    .dataframe thead th {\n",
       "        text-align: right;\n",
       "    }\n",
       "</style>\n",
       "<table border=\"1\" class=\"dataframe\">\n",
       "  <thead>\n",
       "    <tr style=\"text-align: right;\">\n",
       "      <th>Loan_Status</th>\n",
       "      <th>N</th>\n",
       "      <th>Y</th>\n",
       "    </tr>\n",
       "    <tr>\n",
       "      <th>Self_Employed</th>\n",
       "      <th></th>\n",
       "      <th></th>\n",
       "    </tr>\n",
       "  </thead>\n",
       "  <tbody>\n",
       "    <tr>\n",
       "      <td>No</td>\n",
       "      <td>135</td>\n",
       "      <td>300</td>\n",
       "    </tr>\n",
       "    <tr>\n",
       "      <td>Yes</td>\n",
       "      <td>21</td>\n",
       "      <td>46</td>\n",
       "    </tr>\n",
       "  </tbody>\n",
       "</table>\n",
       "</div>"
      ],
      "text/plain": [
       "Loan_Status      N    Y\n",
       "Self_Employed          \n",
       "No             135  300\n",
       "Yes             21   46"
      ]
     },
     "execution_count": 22,
     "metadata": {},
     "output_type": "execute_result"
    }
   ],
   "source": [
    "pd.crosstab(df['Self_Employed'],df['Loan_Status'])"
   ]
  },
  {
   "cell_type": "code",
   "execution_count": 23,
   "metadata": {},
   "outputs": [
    {
     "data": {
      "text/plain": [
       "<matplotlib.axes._subplots.AxesSubplot at 0x1002f708>"
      ]
     },
     "execution_count": 23,
     "metadata": {},
     "output_type": "execute_result"
    },
    {
     "data": {
      "image/png": "[encoded data removed]",
      "text/plain": [
       "<Figure size 1224x432 with 2 Axes>"
      ]
     },
     "metadata": {
      "needs_background": "light"
     },
     "output_type": "display_data"
    }
   ],
   "source": [
    "fig = plt.figure(figsize=(17,6))\n",
    "ax = fig.add_subplot(2,1,1)\n",
    "sns.distplot(df['ApplicantIncome'],bins=1,hist=False)\n",
    "\n",
    "ax = fig.add_subplot(2,1,2)\n",
    "sns.distplot(df['CoapplicantIncome'],bins=1,hist=False)"
   ]
  },
  {
   "cell_type": "code",
   "execution_count": 24,
   "metadata": {},
   "outputs": [
    {
     "data": {
      "text/plain": [
       "False    497\n",
       "True       5\n",
       "Name: CoapplicantIncome, dtype: int64"
      ]
     },
     "execution_count": 24,
     "metadata": {},
     "output_type": "execute_result"
    }
   ],
   "source": [
    "(df['CoapplicantIncome']>10000).value_counts()"
   ]
  },
  {
   "cell_type": "code",
   "execution_count": 25,
   "metadata": {},
   "outputs": [
    {
     "data": {
      "text/plain": [
       "False    493\n",
       "True       9\n",
       "Name: ApplicantIncome, dtype: int64"
      ]
     },
     "execution_count": 25,
     "metadata": {},
     "output_type": "execute_result"
    }
   ],
   "source": [
    "(df['ApplicantIncome']>20000).value_counts()"
   ]
  },
  {
   "cell_type": "markdown",
   "metadata": {},
   "source": [
    "## Checking for outliers"
   ]
  },
  {
   "cell_type": "code",
   "execution_count": 26,
   "metadata": {},
   "outputs": [
    {
     "data": {
      "text/plain": [
       "array([[0.10856471, 0.61542921, 0.01165147, 0.27862162, 0.45440903],\n",
       "       [0.11805554, 0.02801519, 0.19842569, 0.27862162, 0.45440903],\n",
       "       [0.40142036, 0.61542921, 0.96831403, 0.27862162, 0.45440903],\n",
       "       ...,\n",
       "       [0.5064927 , 0.52194157, 1.35376855, 0.27862162, 0.45440903],\n",
       "       [0.41895928, 0.61542921, 0.53420999, 0.27862162, 0.45440903],\n",
       "       [0.11805554, 0.61542921, 0.13633792, 0.27862162, 2.38769154]])"
      ]
     },
     "execution_count": 26,
     "metadata": {},
     "output_type": "execute_result"
    }
   ],
   "source": [
    "z=np.abs(zscore(df[num_df]))\n",
    "z"
   ]
  },
  {
   "cell_type": "code",
   "execution_count": 27,
   "metadata": {},
   "outputs": [
    {
     "name": "stdout",
     "output_type": "stream",
     "text": [
      "(array([  9,  12,  56,  82, 104, 107, 127, 127, 145, 145, 151, 153, 200,\n",
      "       216, 231, 257, 262, 327, 334, 340, 362, 397, 406, 415, 426, 428,\n",
      "       446, 460, 472, 476, 480, 492], dtype=int64), array([1, 3, 3, 3, 2, 3, 0, 2, 1, 2, 0, 0, 3, 3, 2, 2, 3, 1, 0, 1, 0, 2,\n",
      "       3, 2, 2, 2, 3, 2, 3, 1, 3, 2], dtype=int64))\n"
     ]
    }
   ],
   "source": [
    "#consider threshold = 3\n",
    "print(np.where(z>3))"
   ]
  },
  {
   "cell_type": "code",
   "execution_count": 28,
   "metadata": {},
   "outputs": [],
   "source": [
    "df=df[(z<3).all(axis=1)]"
   ]
  },
  {
   "cell_type": "code",
   "execution_count": 29,
   "metadata": {},
   "outputs": [
    {
     "name": "stdout",
     "output_type": "stream",
     "text": [
      "Categorical Data -> ['Gender', 'Married', 'Education', 'Self_Employed', 'Loan_Status']  &  ['Dependents', 'Property_Area']\n",
      "Numerical Data -> ['ApplicantIncome', 'CoapplicantIncome', 'LoanAmount', 'Loan_Amount_Term', 'Credit_History']\n"
     ]
    }
   ],
   "source": [
    "#separating categorical and numerical features\n",
    "cat1_col,cat2_col,num_col=[],[],[]\n",
    "for i in df.columns:\n",
    "    if df[i].dtypes == 'O':\n",
    "        if df[i].nunique() > 2:\n",
    "            cat2_col.append(i)\n",
    "        else:\n",
    "            cat1_col.append(i)\n",
    "    else:\n",
    "        num_col.append(i)\n",
    "print('Categorical Data ->',cat1_col,' & ',cat2_col)\n",
    "print('Numerical Data ->',num_col)"
   ]
  },
  {
   "cell_type": "code",
   "execution_count": 30,
   "metadata": {},
   "outputs": [],
   "source": [
    "# Splitting x and y\n",
    "x=df.drop('Loan_Status',axis=1)\n",
    "y=df['Loan_Status']\n",
    "y.replace({'N':0,'Y':1},inplace=True)"
   ]
  },
  {
   "cell_type": "code",
   "execution_count": 31,
   "metadata": {},
   "outputs": [],
   "source": [
    "# Instantiate labelEncoder for categorical features with 2 values\n",
    "le=LabelEncoder()\n",
    "for i in cat1_col:\n",
    "    if i!='Loan_Status':\n",
    "        x[i]=le.fit_transform(x[i])\n",
    "    else: continue"
   ]
  },
  {
   "cell_type": "code",
   "execution_count": 32,
   "metadata": {},
   "outputs": [
    {
     "name": "stdout",
     "output_type": "stream",
     "text": [
      "# of dummy columns created ->  7\n",
      "# of total columns in x ->  16\n"
     ]
    }
   ],
   "source": [
    "print('# of dummy columns created -> ', pd.get_dummies(x[cat2_col]).shape[1])\n",
    "x=pd.get_dummies(x)\n",
    "print('# of total columns in x -> ', x.shape[1])"
   ]
  },
  {
   "cell_type": "code",
   "execution_count": 33,
   "metadata": {},
   "outputs": [
    {
     "data": {
      "text/html": [
       "<div>\n",
       "<style scoped>\n",
       "    .dataframe tbody tr th:only-of-type {\n",
       "        vertical-align: middle;\n",
       "    }\n",
       "\n",
       "    .dataframe tbody tr th {\n",
       "        vertical-align: top;\n",
       "    }\n",
       "\n",
       "    .dataframe thead th {\n",
       "        text-align: right;\n",
       "    }\n",
       "</style>\n",
       "<table border=\"1\" class=\"dataframe\">\n",
       "  <thead>\n",
       "    <tr style=\"text-align: right;\">\n",
       "      <th></th>\n",
       "      <th>Gender</th>\n",
       "      <th>Married</th>\n",
       "      <th>Education</th>\n",
       "      <th>Self_Employed</th>\n",
       "      <th>ApplicantIncome</th>\n",
       "      <th>CoapplicantIncome</th>\n",
       "      <th>LoanAmount</th>\n",
       "      <th>Loan_Amount_Term</th>\n",
       "      <th>Credit_History</th>\n",
       "      <th>Dependents_0</th>\n",
       "      <th>Dependents_1</th>\n",
       "      <th>Dependents_2</th>\n",
       "      <th>Dependents_3+</th>\n",
       "      <th>Property_Area_Rural</th>\n",
       "      <th>Property_Area_Semiurban</th>\n",
       "      <th>Property_Area_Urban</th>\n",
       "    </tr>\n",
       "  </thead>\n",
       "  <tbody>\n",
       "    <tr>\n",
       "      <td>0</td>\n",
       "      <td>1</td>\n",
       "      <td>0</td>\n",
       "      <td>0</td>\n",
       "      <td>0</td>\n",
       "      <td>5849.0</td>\n",
       "      <td>0.0</td>\n",
       "      <td>144.917757</td>\n",
       "      <td>360.0</td>\n",
       "      <td>1.0</td>\n",
       "      <td>1</td>\n",
       "      <td>0</td>\n",
       "      <td>0</td>\n",
       "      <td>0</td>\n",
       "      <td>0</td>\n",
       "      <td>0</td>\n",
       "      <td>1</td>\n",
       "    </tr>\n",
       "    <tr>\n",
       "      <td>1</td>\n",
       "      <td>1</td>\n",
       "      <td>1</td>\n",
       "      <td>0</td>\n",
       "      <td>0</td>\n",
       "      <td>4583.0</td>\n",
       "      <td>1508.0</td>\n",
       "      <td>128.000000</td>\n",
       "      <td>360.0</td>\n",
       "      <td>1.0</td>\n",
       "      <td>0</td>\n",
       "      <td>1</td>\n",
       "      <td>0</td>\n",
       "      <td>0</td>\n",
       "      <td>1</td>\n",
       "      <td>0</td>\n",
       "      <td>0</td>\n",
       "    </tr>\n",
       "    <tr>\n",
       "      <td>2</td>\n",
       "      <td>1</td>\n",
       "      <td>1</td>\n",
       "      <td>0</td>\n",
       "      <td>1</td>\n",
       "      <td>3000.0</td>\n",
       "      <td>0.0</td>\n",
       "      <td>66.000000</td>\n",
       "      <td>360.0</td>\n",
       "      <td>1.0</td>\n",
       "      <td>1</td>\n",
       "      <td>0</td>\n",
       "      <td>0</td>\n",
       "      <td>0</td>\n",
       "      <td>0</td>\n",
       "      <td>0</td>\n",
       "      <td>1</td>\n",
       "    </tr>\n",
       "    <tr>\n",
       "      <td>3</td>\n",
       "      <td>1</td>\n",
       "      <td>1</td>\n",
       "      <td>1</td>\n",
       "      <td>0</td>\n",
       "      <td>2583.0</td>\n",
       "      <td>2358.0</td>\n",
       "      <td>120.000000</td>\n",
       "      <td>360.0</td>\n",
       "      <td>1.0</td>\n",
       "      <td>1</td>\n",
       "      <td>0</td>\n",
       "      <td>0</td>\n",
       "      <td>0</td>\n",
       "      <td>0</td>\n",
       "      <td>0</td>\n",
       "      <td>1</td>\n",
       "    </tr>\n",
       "    <tr>\n",
       "      <td>4</td>\n",
       "      <td>1</td>\n",
       "      <td>0</td>\n",
       "      <td>0</td>\n",
       "      <td>0</td>\n",
       "      <td>6000.0</td>\n",
       "      <td>0.0</td>\n",
       "      <td>141.000000</td>\n",
       "      <td>360.0</td>\n",
       "      <td>1.0</td>\n",
       "      <td>1</td>\n",
       "      <td>0</td>\n",
       "      <td>0</td>\n",
       "      <td>0</td>\n",
       "      <td>0</td>\n",
       "      <td>0</td>\n",
       "      <td>1</td>\n",
       "    </tr>\n",
       "    <tr>\n",
       "      <td>...</td>\n",
       "      <td>...</td>\n",
       "      <td>...</td>\n",
       "      <td>...</td>\n",
       "      <td>...</td>\n",
       "      <td>...</td>\n",
       "      <td>...</td>\n",
       "      <td>...</td>\n",
       "      <td>...</td>\n",
       "      <td>...</td>\n",
       "      <td>...</td>\n",
       "      <td>...</td>\n",
       "      <td>...</td>\n",
       "      <td>...</td>\n",
       "      <td>...</td>\n",
       "      <td>...</td>\n",
       "      <td>...</td>\n",
       "    </tr>\n",
       "    <tr>\n",
       "      <td>549</td>\n",
       "      <td>1</td>\n",
       "      <td>1</td>\n",
       "      <td>0</td>\n",
       "      <td>0</td>\n",
       "      <td>2900.0</td>\n",
       "      <td>0.0</td>\n",
       "      <td>71.000000</td>\n",
       "      <td>360.0</td>\n",
       "      <td>1.0</td>\n",
       "      <td>1</td>\n",
       "      <td>0</td>\n",
       "      <td>0</td>\n",
       "      <td>0</td>\n",
       "      <td>1</td>\n",
       "      <td>0</td>\n",
       "      <td>0</td>\n",
       "    </tr>\n",
       "    <tr>\n",
       "      <td>550</td>\n",
       "      <td>1</td>\n",
       "      <td>1</td>\n",
       "      <td>0</td>\n",
       "      <td>1</td>\n",
       "      <td>4106.0</td>\n",
       "      <td>0.0</td>\n",
       "      <td>40.000000</td>\n",
       "      <td>180.0</td>\n",
       "      <td>1.0</td>\n",
       "      <td>0</td>\n",
       "      <td>0</td>\n",
       "      <td>1</td>\n",
       "      <td>0</td>\n",
       "      <td>1</td>\n",
       "      <td>0</td>\n",
       "      <td>0</td>\n",
       "    </tr>\n",
       "    <tr>\n",
       "      <td>551</td>\n",
       "      <td>1</td>\n",
       "      <td>1</td>\n",
       "      <td>1</td>\n",
       "      <td>0</td>\n",
       "      <td>8072.0</td>\n",
       "      <td>240.0</td>\n",
       "      <td>253.000000</td>\n",
       "      <td>360.0</td>\n",
       "      <td>1.0</td>\n",
       "      <td>0</td>\n",
       "      <td>1</td>\n",
       "      <td>0</td>\n",
       "      <td>0</td>\n",
       "      <td>1</td>\n",
       "      <td>0</td>\n",
       "      <td>0</td>\n",
       "    </tr>\n",
       "    <tr>\n",
       "      <td>552</td>\n",
       "      <td>1</td>\n",
       "      <td>1</td>\n",
       "      <td>0</td>\n",
       "      <td>0</td>\n",
       "      <td>7583.0</td>\n",
       "      <td>0.0</td>\n",
       "      <td>187.000000</td>\n",
       "      <td>360.0</td>\n",
       "      <td>1.0</td>\n",
       "      <td>0</td>\n",
       "      <td>1</td>\n",
       "      <td>0</td>\n",
       "      <td>0</td>\n",
       "      <td>0</td>\n",
       "      <td>0</td>\n",
       "      <td>1</td>\n",
       "    </tr>\n",
       "    <tr>\n",
       "      <td>553</td>\n",
       "      <td>1</td>\n",
       "      <td>1</td>\n",
       "      <td>1</td>\n",
       "      <td>0</td>\n",
       "      <td>4583.0</td>\n",
       "      <td>0.0</td>\n",
       "      <td>133.000000</td>\n",
       "      <td>360.0</td>\n",
       "      <td>0.0</td>\n",
       "      <td>1</td>\n",
       "      <td>0</td>\n",
       "      <td>0</td>\n",
       "      <td>0</td>\n",
       "      <td>0</td>\n",
       "      <td>0</td>\n",
       "      <td>1</td>\n",
       "    </tr>\n",
       "  </tbody>\n",
       "</table>\n",
       "<p>472 rows × 16 columns</p>\n",
       "</div>"
      ],
      "text/plain": [
       "     Gender  Married  Education  Self_Employed  ApplicantIncome  \\\n",
       "0         1        0          0              0           5849.0   \n",
       "1         1        1          0              0           4583.0   \n",
       "2         1        1          0              1           3000.0   \n",
       "3         1        1          1              0           2583.0   \n",
       "4         1        0          0              0           6000.0   \n",
       "..      ...      ...        ...            ...              ...   \n",
       "549       1        1          0              0           2900.0   \n",
       "550       1        1          0              1           4106.0   \n",
       "551       1        1          1              0           8072.0   \n",
       "552       1        1          0              0           7583.0   \n",
       "553       1        1          1              0           4583.0   \n",
       "\n",
       "     CoapplicantIncome  LoanAmount  Loan_Amount_Term  Credit_History  \\\n",
       "0                  0.0  144.917757             360.0             1.0   \n",
       "1               1508.0  128.000000             360.0             1.0   \n",
       "2                  0.0   66.000000             360.0             1.0   \n",
       "3               2358.0  120.000000             360.0             1.0   \n",
       "4                  0.0  141.000000             360.0             1.0   \n",
       "..                 ...         ...               ...             ...   \n",
       "549                0.0   71.000000             360.0             1.0   \n",
       "550                0.0   40.000000             180.0             1.0   \n",
       "551              240.0  253.000000             360.0             1.0   \n",
       "552                0.0  187.000000             360.0             1.0   \n",
       "553                0.0  133.000000             360.0             0.0   \n",
       "\n",
       "     Dependents_0  Dependents_1  Dependents_2  Dependents_3+  \\\n",
       "0               1             0             0              0   \n",
       "1               0             1             0              0   \n",
       "2               1             0             0              0   \n",
       "3               1             0             0              0   \n",
       "4               1             0             0              0   \n",
       "..            ...           ...           ...            ...   \n",
       "549             1             0             0              0   \n",
       "550             0             0             1              0   \n",
       "551             0             1             0              0   \n",
       "552             0             1             0              0   \n",
       "553             1             0             0              0   \n",
       "\n",
       "     Property_Area_Rural  Property_Area_Semiurban  Property_Area_Urban  \n",
       "0                      0                        0                    1  \n",
       "1                      1                        0                    0  \n",
       "2                      0                        0                    1  \n",
       "3                      0                        0                    1  \n",
       "4                      0                        0                    1  \n",
       "..                   ...                      ...                  ...  \n",
       "549                    1                        0                    0  \n",
       "550                    1                        0                    0  \n",
       "551                    1                        0                    0  \n",
       "552                    0                        0                    1  \n",
       "553                    0                        0                    1  \n",
       "\n",
       "[472 rows x 16 columns]"
      ]
     },
     "execution_count": 33,
     "metadata": {},
     "output_type": "execute_result"
    }
   ],
   "source": [
    "x"
   ]
  },
  {
   "cell_type": "code",
   "execution_count": 34,
   "metadata": {},
   "outputs": [],
   "source": [
    "# Instantiate and scale the data\n",
    "ss=StandardScaler()\n",
    "x=ss.fit_transform(x)"
   ]
  },
  {
   "cell_type": "markdown",
   "metadata": {},
   "source": [
    "## Machine Learning Algorithms"
   ]
  },
  {
   "cell_type": "code",
   "execution_count": 35,
   "metadata": {},
   "outputs": [
    {
     "name": "stdout",
     "output_type": "stream",
     "text": [
      "x_train.shape:  (377, 16) x_test.shape: (95, 16) \n",
      "y_train.shape: (377,) y_test.shape: (95,)\n"
     ]
    }
   ],
   "source": [
    "x_train,x_test,y_train,y_test=train_test_split(x,y,test_size=0.20,random_state=42)\n",
    "print('x_train.shape: ',x_train.shape,'x_test.shape:',x_test.shape,'\\ny_train.shape:',y_train.shape,'y_test.shape:',y_test.shape)"
   ]
  },
  {
   "cell_type": "code",
   "execution_count": 36,
   "metadata": {},
   "outputs": [],
   "source": [
    "# Instantiate all models\n",
    "logr = LogisticRegression()\n",
    "gnb = GaussianNB()\n",
    "svc = SVC()\n",
    "knn = KNeighborsClassifier()\n",
    "dtc = DecisionTreeClassifier()\n",
    "xgb = XGBClassifier()\n",
    "rf = RandomForestClassifier()\n",
    "bgc = BaggingClassifier()\n",
    "etc = ExtraTreesClassifier()\n",
    "gbc = GradientBoostingClassifier()"
   ]
  },
  {
   "cell_type": "code",
   "execution_count": 37,
   "metadata": {},
   "outputs": [],
   "source": [
    "models={'Logistic Regression':logr,\n",
    "        'Gaussian NB':gnb,\n",
    "        'Support Vector Machine':svc,\n",
    "        'KNeighbors Classifier':knn,\n",
    "        'Decision Tree Classifier':dtc,\n",
    "        'XGB Classifier':xgb,\n",
    "        'Random Forest Classifier':rf,\n",
    "        'Bagging Classifier':bgc,\n",
    "        'Extra Trees Classifier':etc,\n",
    "        'Gradient Boosting Classifier':gbc\n",
    "       }"
   ]
  },
  {
   "cell_type": "code",
   "execution_count": 38,
   "metadata": {},
   "outputs": [],
   "source": [
    "def main(cls):\n",
    "    a_scores=[]\n",
    "    for model_name,model in cls.items():\n",
    "        model.fit(x_train,y_train)\n",
    "        y_pred=model.predict(x_test)\n",
    "        score=accuracy_score(y_test,y_pred)\n",
    "        a_scores.append(score*100)\n",
    "        print('##############################',model_name,'##############################')\n",
    "        print('>>> Accuracy Score = %0.2f' %(score*100))\n",
    "        c_matrix=confusion_matrix(y_test,y_pred)\n",
    "        print('>>> Confusion Matrix: \\n',c_matrix)\n",
    "        TN,FP,FN,TP=c_matrix[0,0],c_matrix[0,1],c_matrix[1,0],c_matrix[1,1]\n",
    "        print('>>> Recall Score = %0.2f' %((TP)*100/float(TP+FN)))\n",
    "        print('>>> Specificity = %0.2f' %(TN*100/float(TN+FP)))\n",
    "        print('>>> False Positive Rate = %0.2f' %(FP*100/float(FP+TN)))\n",
    "        print('>>> Precision Score = %0.2f' %(TP*100/float(TP+FP)))\n",
    "        print('>>> Classification Report:')\n",
    "        print(classification_report(y_test,y_pred))\n",
    "    return a_scores"
   ]
  },
  {
   "cell_type": "code",
   "execution_count": 39,
   "metadata": {},
   "outputs": [
    {
     "name": "stdout",
     "output_type": "stream",
     "text": [
      "############################## Logistic Regression ##############################\n",
      ">>> Accuracy Score = 70.53\n",
      ">>> Confusion Matrix: \n",
      " [[ 1 22]\n",
      " [ 6 66]]\n",
      ">>> Recall Score = 91.67\n",
      ">>> Specificity = 4.35\n",
      ">>> False Positive Rate = 95.65\n",
      ">>> Precision Score = 75.00\n",
      ">>> Classification Report:\n",
      "              precision    recall  f1-score   support\n",
      "\n",
      "           0       0.14      0.04      0.07        23\n",
      "           1       0.75      0.92      0.83        72\n",
      "\n",
      "    accuracy                           0.71        95\n",
      "   macro avg       0.45      0.48      0.45        95\n",
      "weighted avg       0.60      0.71      0.64        95\n",
      "\n",
      "############################## Gaussian NB ##############################\n",
      ">>> Accuracy Score = 64.21\n",
      ">>> Confusion Matrix: \n",
      " [[ 8 15]\n",
      " [19 53]]\n",
      ">>> Recall Score = 73.61\n",
      ">>> Specificity = 34.78\n",
      ">>> False Positive Rate = 65.22\n",
      ">>> Precision Score = 77.94\n",
      ">>> Classification Report:\n",
      "              precision    recall  f1-score   support\n",
      "\n",
      "           0       0.30      0.35      0.32        23\n",
      "           1       0.78      0.74      0.76        72\n",
      "\n",
      "    accuracy                           0.64        95\n",
      "   macro avg       0.54      0.54      0.54        95\n",
      "weighted avg       0.66      0.64      0.65        95\n",
      "\n",
      "############################## Support Vector Machine ##############################\n",
      ">>> Accuracy Score = 74.74\n",
      ">>> Confusion Matrix: \n",
      " [[ 1 22]\n",
      " [ 2 70]]\n",
      ">>> Recall Score = 97.22\n",
      ">>> Specificity = 4.35\n",
      ">>> False Positive Rate = 95.65\n",
      ">>> Precision Score = 76.09\n",
      ">>> Classification Report:\n",
      "              precision    recall  f1-score   support\n",
      "\n",
      "           0       0.33      0.04      0.08        23\n",
      "           1       0.76      0.97      0.85        72\n",
      "\n",
      "    accuracy                           0.75        95\n",
      "   macro avg       0.55      0.51      0.47        95\n",
      "weighted avg       0.66      0.75      0.67        95\n",
      "\n",
      "############################## KNeighbors Classifier ##############################\n",
      ">>> Accuracy Score = 74.74\n",
      ">>> Confusion Matrix: \n",
      " [[ 6 17]\n",
      " [ 7 65]]\n",
      ">>> Recall Score = 90.28\n",
      ">>> Specificity = 26.09\n",
      ">>> False Positive Rate = 73.91\n",
      ">>> Precision Score = 79.27\n",
      ">>> Classification Report:\n",
      "              precision    recall  f1-score   support\n",
      "\n",
      "           0       0.46      0.26      0.33        23\n",
      "           1       0.79      0.90      0.84        72\n",
      "\n",
      "    accuracy                           0.75        95\n",
      "   macro avg       0.63      0.58      0.59        95\n",
      "weighted avg       0.71      0.75      0.72        95\n",
      "\n",
      "############################## Decision Tree Classifier ##############################\n",
      ">>> Accuracy Score = 64.21\n",
      ">>> Confusion Matrix: \n",
      " [[ 9 14]\n",
      " [20 52]]\n",
      ">>> Recall Score = 72.22\n",
      ">>> Specificity = 39.13\n",
      ">>> False Positive Rate = 60.87\n",
      ">>> Precision Score = 78.79\n",
      ">>> Classification Report:\n",
      "              precision    recall  f1-score   support\n",
      "\n",
      "           0       0.31      0.39      0.35        23\n",
      "           1       0.79      0.72      0.75        72\n",
      "\n",
      "    accuracy                           0.64        95\n",
      "   macro avg       0.55      0.56      0.55        95\n",
      "weighted avg       0.67      0.64      0.65        95\n",
      "\n",
      "############################## XGB Classifier ##############################\n",
      ">>> Accuracy Score = 69.47\n",
      ">>> Confusion Matrix: \n",
      " [[ 6 17]\n",
      " [12 60]]\n",
      ">>> Recall Score = 83.33\n",
      ">>> Specificity = 26.09\n",
      ">>> False Positive Rate = 73.91\n",
      ">>> Precision Score = 77.92\n",
      ">>> Classification Report:\n",
      "              precision    recall  f1-score   support\n",
      "\n",
      "           0       0.33      0.26      0.29        23\n",
      "           1       0.78      0.83      0.81        72\n",
      "\n",
      "    accuracy                           0.69        95\n",
      "   macro avg       0.56      0.55      0.55        95\n",
      "weighted avg       0.67      0.69      0.68        95\n",
      "\n",
      "############################## Random Forest Classifier ##############################\n",
      ">>> Accuracy Score = 71.58\n",
      ">>> Confusion Matrix: \n",
      " [[ 5 18]\n",
      " [ 9 63]]\n",
      ">>> Recall Score = 87.50\n",
      ">>> Specificity = 21.74\n",
      ">>> False Positive Rate = 78.26\n",
      ">>> Precision Score = 77.78\n",
      ">>> Classification Report:\n",
      "              precision    recall  f1-score   support\n",
      "\n",
      "           0       0.36      0.22      0.27        23\n",
      "           1       0.78      0.88      0.82        72\n",
      "\n",
      "    accuracy                           0.72        95\n",
      "   macro avg       0.57      0.55      0.55        95\n",
      "weighted avg       0.68      0.72      0.69        95\n",
      "\n",
      "############################## Bagging Classifier ##############################\n",
      ">>> Accuracy Score = 63.16\n",
      ">>> Confusion Matrix: \n",
      " [[ 7 16]\n",
      " [19 53]]\n",
      ">>> Recall Score = 73.61\n",
      ">>> Specificity = 30.43\n",
      ">>> False Positive Rate = 69.57\n",
      ">>> Precision Score = 76.81\n",
      ">>> Classification Report:\n",
      "              precision    recall  f1-score   support\n",
      "\n",
      "           0       0.27      0.30      0.29        23\n",
      "           1       0.77      0.74      0.75        72\n",
      "\n",
      "    accuracy                           0.63        95\n",
      "   macro avg       0.52      0.52      0.52        95\n",
      "weighted avg       0.65      0.63      0.64        95\n",
      "\n",
      "############################## Extra Trees Classifier ##############################\n",
      ">>> Accuracy Score = 70.53\n",
      ">>> Confusion Matrix: \n",
      " [[ 6 17]\n",
      " [11 61]]\n",
      ">>> Recall Score = 84.72\n",
      ">>> Specificity = 26.09\n",
      ">>> False Positive Rate = 73.91\n",
      ">>> Precision Score = 78.21\n",
      ">>> Classification Report:\n",
      "              precision    recall  f1-score   support\n",
      "\n",
      "           0       0.35      0.26      0.30        23\n",
      "           1       0.78      0.85      0.81        72\n",
      "\n",
      "    accuracy                           0.71        95\n",
      "   macro avg       0.57      0.55      0.56        95\n",
      "weighted avg       0.68      0.71      0.69        95\n",
      "\n",
      "############################## Gradient Boosting Classifier ##############################\n",
      ">>> Accuracy Score = 70.53\n",
      ">>> Confusion Matrix: \n",
      " [[ 6 17]\n",
      " [11 61]]\n",
      ">>> Recall Score = 84.72\n",
      ">>> Specificity = 26.09\n",
      ">>> False Positive Rate = 73.91\n",
      ">>> Precision Score = 78.21\n",
      ">>> Classification Report:\n",
      "              precision    recall  f1-score   support\n",
      "\n",
      "           0       0.35      0.26      0.30        23\n",
      "           1       0.78      0.85      0.81        72\n",
      "\n",
      "    accuracy                           0.71        95\n",
      "   macro avg       0.57      0.55      0.56        95\n",
      "weighted avg       0.68      0.71      0.69        95\n",
      "\n"
     ]
    }
   ],
   "source": [
    "a_scores=main(models)"
   ]
  },
  {
   "cell_type": "code",
   "execution_count": 40,
   "metadata": {},
   "outputs": [
    {
     "name": "stdout",
     "output_type": "stream",
     "text": [
      "                              Accuracy Score\n",
      "Support Vector Machine             74.736842\n",
      "KNeighbors Classifier              74.736842\n",
      "Random Forest Classifier           71.578947\n",
      "Logistic Regression                70.526316\n",
      "Extra Trees Classifier             70.526316\n",
      "Gradient Boosting Classifier       70.526316\n",
      "XGB Classifier                     69.473684\n",
      "Gaussian NB                        64.210526\n",
      "Decision Tree Classifier           64.210526\n",
      "Bagging Classifier                 63.157895\n"
     ]
    }
   ],
   "source": [
    "p=pd.DataFrame(data=a_scores,columns=['Accuracy Score'], index=list(models.keys())).sort_values(by = 'Accuracy Score', ascending=False)\n",
    "print(p)"
   ]
  },
  {
   "cell_type": "markdown",
   "metadata": {},
   "source": [
    "Let's take the top 5 models and perform cross validation"
   ]
  },
  {
   "cell_type": "code",
   "execution_count": 41,
   "metadata": {},
   "outputs": [],
   "source": [
    "new_models={'Support Vector Machine':svc,\n",
    "            'KNeighbors Classifier':knn,\n",
    "            'Random Forest Classifier':rf,\n",
    "            'Bagging Classifier':bgc,\n",
    "            'Logistic Regression':logr\n",
    "           }"
   ]
  },
  {
   "cell_type": "code",
   "execution_count": 42,
   "metadata": {},
   "outputs": [
    {
     "name": "stdout",
     "output_type": "stream",
     "text": [
      "Support Vector Machine  >>> Completed\n",
      "KNeighbors Classifier  >>> Completed\n",
      "Random Forest Classifier  >>> Completed\n",
      "Bagging Classifier  >>> Completed\n",
      "Logistic Regression  >>> Completed\n",
      "[65.78947368421053, 63.4068278805121, 66.34423897581792, 61.79943100995733, 66.33001422475107]\n"
     ]
    }
   ],
   "source": [
    "cv_scores=[]\n",
    "for model_name,model in new_models.items():\n",
    "    score=cross_val_score(model,x_train,y_train,scoring='accuracy',cv=10)\n",
    "    cv_scores.append((score.mean())*100)\n",
    "    print(model_name,' >>> Completed')\n",
    "print(cv_scores)"
   ]
  },
  {
   "cell_type": "code",
   "execution_count": 43,
   "metadata": {},
   "outputs": [
    {
     "data": {
      "text/html": [
       "<div>\n",
       "<style scoped>\n",
       "    .dataframe tbody tr th:only-of-type {\n",
       "        vertical-align: middle;\n",
       "    }\n",
       "\n",
       "    .dataframe tbody tr th {\n",
       "        vertical-align: top;\n",
       "    }\n",
       "\n",
       "    .dataframe thead th {\n",
       "        text-align: right;\n",
       "    }\n",
       "</style>\n",
       "<table border=\"1\" class=\"dataframe\">\n",
       "  <thead>\n",
       "    <tr style=\"text-align: right;\">\n",
       "      <th></th>\n",
       "      <th>New Accuracy Score</th>\n",
       "      <th>Accuracy Score</th>\n",
       "    </tr>\n",
       "  </thead>\n",
       "  <tbody>\n",
       "    <tr>\n",
       "      <td>Support Vector Machine</td>\n",
       "      <td>65.789474</td>\n",
       "      <td>74.736842</td>\n",
       "    </tr>\n",
       "    <tr>\n",
       "      <td>KNeighbors Classifier</td>\n",
       "      <td>63.406828</td>\n",
       "      <td>74.736842</td>\n",
       "    </tr>\n",
       "    <tr>\n",
       "      <td>Random Forest Classifier</td>\n",
       "      <td>66.344239</td>\n",
       "      <td>71.578947</td>\n",
       "    </tr>\n",
       "    <tr>\n",
       "      <td>Bagging Classifier</td>\n",
       "      <td>61.799431</td>\n",
       "      <td>63.157895</td>\n",
       "    </tr>\n",
       "    <tr>\n",
       "      <td>Logistic Regression</td>\n",
       "      <td>66.330014</td>\n",
       "      <td>70.526316</td>\n",
       "    </tr>\n",
       "  </tbody>\n",
       "</table>\n",
       "</div>"
      ],
      "text/plain": [
       "                          New Accuracy Score  Accuracy Score\n",
       "Support Vector Machine             65.789474       74.736842\n",
       "KNeighbors Classifier              63.406828       74.736842\n",
       "Random Forest Classifier           66.344239       71.578947\n",
       "Bagging Classifier                 61.799431       63.157895\n",
       "Logistic Regression                66.330014       70.526316"
      ]
     },
     "execution_count": 43,
     "metadata": {},
     "output_type": "execute_result"
    }
   ],
   "source": [
    "pd.DataFrame(data=cv_scores, columns=['New Accuracy Score'], index=list(new_models.keys())).join(p)"
   ]
  },
  {
   "cell_type": "markdown",
   "metadata": {},
   "source": [
    "### Hyperparameter Tuning"
   ]
  },
  {
   "cell_type": "code",
   "execution_count": 44,
   "metadata": {},
   "outputs": [],
   "source": [
    "# Instantiating with default values\n",
    "svc=SVC()\n",
    "knn=KNeighborsClassifier()\n",
    "rf=RandomForestClassifier(random_state=42)\n",
    "bgc=BaggingClassifier(SVC(),n_estimators=100, max_features=0.5)\n",
    "logr=LogisticRegression(random_state=42)"
   ]
  },
  {
   "cell_type": "markdown",
   "metadata": {},
   "source": [
    "### GridSearchCV Hyperparameter Tuning"
   ]
  },
  {
   "cell_type": "code",
   "execution_count": 45,
   "metadata": {},
   "outputs": [
    {
     "name": "stdout",
     "output_type": "stream",
     "text": [
      "Support Vector Machine >>> {'C': 1, 'kernel': 'poly'} \n",
      "Score: 0.6843157894736842\n"
     ]
    }
   ],
   "source": [
    "svc_param={'kernel':['linear','sigmoid','poly','rbf'],'C':[1,10]}\n",
    "\n",
    "b_svc=GridSearchCV(svc,svc_param)\n",
    "b_svc.fit(x_train,y_train)\n",
    "print('Support Vector Machine >>>', b_svc.best_params_,'\\nScore:',b_svc.best_score_)"
   ]
  },
  {
   "cell_type": "code",
   "execution_count": 46,
   "metadata": {},
   "outputs": [
    {
     "name": "stdout",
     "output_type": "stream",
     "text": [
      "KNeighbors Classifier >>> {'leaf_size': 1, 'n_neighbors': 11, 'p': 2} \n",
      "Score: 0.6843157894736842\n"
     ]
    }
   ],
   "source": [
    "knn_param={'leaf_size':list(range(1,50)), 'n_neighbors':list(range(1,30)), 'p':[1,2]}\n",
    "                            \n",
    "b_knn=GridSearchCV(knn,knn_param)\n",
    "b_knn.fit(x_train,y_train)\n",
    "print('KNeighbors Classifier >>>', b_knn.best_params_,'\\nScore:',b_knn.best_score_)                "
   ]
  },
  {
   "cell_type": "code",
   "execution_count": 47,
   "metadata": {},
   "outputs": [
    {
     "name": "stdout",
     "output_type": "stream",
     "text": [
      "Random Forest Classifier >>> {'n_estimators': 250} \n",
      "Score: 0.6659298245614036\n"
     ]
    }
   ],
   "source": [
    "rf_param = {'n_estimators':range(50,251,50)}\n",
    "\n",
    "b_rf=GridSearchCV(rf,rf_param)\n",
    "b_rf.fit(x_train,y_train)\n",
    "print('Random Forest Classifier >>>', b_rf.best_params_,'\\nScore:',b_rf.best_score_)"
   ]
  },
  {
   "cell_type": "code",
   "execution_count": 48,
   "metadata": {},
   "outputs": [
    {
     "name": "stdout",
     "output_type": "stream",
     "text": [
      "Bagging Classifier >>> {'max_samples': 0.05} \n",
      "Score: 0.6737543859649123\n"
     ]
    }
   ],
   "source": [
    "bgc_param={'max_samples':[0.05, 0.1, 0.2, 0.5]}\n",
    "\n",
    "b_bgc=GridSearchCV(bgc,bgc_param)\n",
    "b_bgc.fit(x_train,y_train)\n",
    "print('Bagging Classifier >>>', b_bgc.best_params_,'\\nScore:',b_bgc.best_score_)"
   ]
  },
  {
   "cell_type": "code",
   "execution_count": 49,
   "metadata": {},
   "outputs": [
    {
     "name": "stdout",
     "output_type": "stream",
     "text": [
      "Logistic Regression >>> {'C': 0.1} \n",
      "Score: 0.6817543859649123\n"
     ]
    }
   ],
   "source": [
    "logr_param = {'C':[0.1,1,10]}\n",
    "\n",
    "b_logr=GridSearchCV(logr,logr_param)\n",
    "b_logr.fit(x_train,y_train)\n",
    "print('Logistic Regression >>>', b_logr.best_params_,'\\nScore:',b_logr.best_score_)"
   ]
  },
  {
   "cell_type": "code",
   "execution_count": 50,
   "metadata": {},
   "outputs": [
    {
     "data": {
      "text/plain": [
       "<sklearn.metrics._plot.confusion_matrix.ConfusionMatrixDisplay at 0x127fba48>"
      ]
     },
     "execution_count": 50,
     "metadata": {},
     "output_type": "execute_result"
    },
    {
     "data": {
      "image/png": "[encoded data removed]",
      "text/plain": [
       "<Figure size 432x288 with 2 Axes>"
      ]
     },
     "metadata": {
      "needs_background": "light"
     },
     "output_type": "display_data"
    }
   ],
   "source": [
    "# Plotting Confusion Matrix\n",
    "svc=SVC()\n",
    "svc.fit(x_train,y_train)\n",
    "plot_confusion_matrix(svc, x_test, y_test)"
   ]
  },
  {
   "cell_type": "code",
   "execution_count": 51,
   "metadata": {},
   "outputs": [
    {
     "data": {
      "image/png": "[encoded data removed]",
      "text/plain": [
       "<Figure size 432x288 with 1 Axes>"
      ]
     },
     "metadata": {
      "needs_background": "light"
     },
     "output_type": "display_data"
    }
   ],
   "source": [
    "# Plotting ROC Curve for the model\n",
    "y_pred_prob=xgb.predict_proba(x_test)[:,1]  #1 is the probabilty of threshold value\n",
    "fpr,tpr,thresholds=roc_curve(y_test,y_pred_prob)\n",
    "\n",
    "plt.plot([0,1],[0,1],'k--')\n",
    "plt.plot(fpr,tpr,label='Support Vector Machine')\n",
    "plt.xlabel('False Positive Rate')\n",
    "plt.ylabel('True Positive Rate')\n",
    "plt.title('Support Vector Machine')\n",
    "plt.show()"
   ]
  },
  {
   "cell_type": "code",
   "execution_count": 52,
   "metadata": {},
   "outputs": [
    {
     "data": {
      "text/plain": [
       "['SVC_Loan_Prediction.pkl']"
      ]
     },
     "execution_count": 52,
     "metadata": {},
     "output_type": "execute_result"
    }
   ],
   "source": [
    "#Exporting model as pkl file\n",
    "joblib.dump(svc,'SVC_Loan_Prediction.pkl')"
   ]
  }
 ],
 "metadata": {
  "kernelspec": {
   "display_name": "Python 3",
   "language": "python",
   "name": "python3"
  },
  "language_info": {
   "codemirror_mode": {
    "name": "ipython",
    "version": 3
   },
   "file_extension": ".py",
   "mimetype": "text/x-python",
   "name": "python",
   "nbconvert_exporter": "python",
   "pygments_lexer": "ipython3",
   "version": "3.7.4"
  }
 },
 "nbformat": 4,
 "nbformat_minor": 2
}
